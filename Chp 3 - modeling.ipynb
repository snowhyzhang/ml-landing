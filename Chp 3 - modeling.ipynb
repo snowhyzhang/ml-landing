{
 "cells": [
  {
   "cell_type": "markdown",
   "metadata": {
    "toc-hr-collapsed": false
   },
   "source": [
    "# 模型"
   ]
  },
  {
   "cell_type": "markdown",
   "metadata": {},
   "source": [
    "本章我们将会讨论如何建立一个模型。首先我们会按前两章所述，简要的讲解一下数据读入和预处理。然后我们将讨论建模的过程，如超参数的选择，模型评估指标等，我们将着重讲述一些实践中的经验，不会深入讲解模型的算法等。"
   ]
  },
  {
   "cell_type": "markdown",
   "metadata": {
    "toc-hr-collapsed": true
   },
   "source": [
    "## 读取和预处理数据"
   ]
  },
  {
   "cell_type": "markdown",
   "metadata": {
    "toc-hr-collapsed": true
   },
   "source": [
    "### 读取数据"
   ]
  },
  {
   "cell_type": "markdown",
   "metadata": {},
   "source": [
    "我们可以使用`pandas`库中的`read_excel`方法来读取数据。"
   ]
  },
  {
   "cell_type": "code",
   "execution_count": 1,
   "metadata": {},
   "outputs": [
    {
     "data": {
      "text/html": [
       "<div>\n",
       "<style scoped>\n",
       "    .dataframe tbody tr th:only-of-type {\n",
       "        vertical-align: middle;\n",
       "    }\n",
       "\n",
       "    .dataframe tbody tr th {\n",
       "        vertical-align: top;\n",
       "    }\n",
       "\n",
       "    .dataframe thead th {\n",
       "        text-align: right;\n",
       "    }\n",
       "</style>\n",
       "<table border=\"1\" class=\"dataframe\">\n",
       "  <thead>\n",
       "    <tr style=\"text-align: right;\">\n",
       "      <th></th>\n",
       "      <th>EmployeeNumber</th>\n",
       "      <th>Age</th>\n",
       "      <th>BusinessTravel</th>\n",
       "      <th>Department</th>\n",
       "      <th>DistanceFromHome</th>\n",
       "      <th>Education</th>\n",
       "      <th>EducationField</th>\n",
       "      <th>Gender</th>\n",
       "      <th>JobSatisfaction</th>\n",
       "      <th>MonthlyIncome</th>\n",
       "      <th>NumCompaniesWorked</th>\n",
       "      <th>Over18</th>\n",
       "      <th>OverTime</th>\n",
       "      <th>StandardHours</th>\n",
       "      <th>TotalWorkingYears</th>\n",
       "      <th>YearsAtCompany</th>\n",
       "      <th>Attrition</th>\n",
       "    </tr>\n",
       "  </thead>\n",
       "  <tbody>\n",
       "    <tr>\n",
       "      <th>0</th>\n",
       "      <td>77</td>\n",
       "      <td>37</td>\n",
       "      <td>Travel_Rarely</td>\n",
       "      <td>Research &amp; Development</td>\n",
       "      <td>1</td>\n",
       "      <td>4</td>\n",
       "      <td>Life Sciences</td>\n",
       "      <td>Male</td>\n",
       "      <td>3</td>\n",
       "      <td>5993</td>\n",
       "      <td>1</td>\n",
       "      <td>Y</td>\n",
       "      <td>No</td>\n",
       "      <td>80</td>\n",
       "      <td>7</td>\n",
       "      <td>7</td>\n",
       "      <td>0</td>\n",
       "    </tr>\n",
       "    <tr>\n",
       "      <th>1</th>\n",
       "      <td>1245</td>\n",
       "      <td>54</td>\n",
       "      <td>Travel_Frequently</td>\n",
       "      <td>Research &amp; Development</td>\n",
       "      <td>1</td>\n",
       "      <td>4</td>\n",
       "      <td>Life Sciences</td>\n",
       "      <td>Female</td>\n",
       "      <td>3</td>\n",
       "      <td>10502</td>\n",
       "      <td>7</td>\n",
       "      <td>Y</td>\n",
       "      <td>No</td>\n",
       "      <td>80</td>\n",
       "      <td>33</td>\n",
       "      <td>5</td>\n",
       "      <td>0</td>\n",
       "    </tr>\n",
       "    <tr>\n",
       "      <th>2</th>\n",
       "      <td>147</td>\n",
       "      <td>34</td>\n",
       "      <td>Travel_Frequently</td>\n",
       "      <td>Research &amp; Development</td>\n",
       "      <td>7</td>\n",
       "      <td>3</td>\n",
       "      <td>Life Sciences</td>\n",
       "      <td>Male</td>\n",
       "      <td>3</td>\n",
       "      <td>6074</td>\n",
       "      <td>1</td>\n",
       "      <td>Y</td>\n",
       "      <td>Yes</td>\n",
       "      <td>80</td>\n",
       "      <td>9</td>\n",
       "      <td>9</td>\n",
       "      <td>1</td>\n",
       "    </tr>\n",
       "    <tr>\n",
       "      <th>3</th>\n",
       "      <td>1026</td>\n",
       "      <td>39</td>\n",
       "      <td>Travel_Rarely</td>\n",
       "      <td>Research &amp; Development</td>\n",
       "      <td>1</td>\n",
       "      <td>1</td>\n",
       "      <td>Life Sciences</td>\n",
       "      <td>Female</td>\n",
       "      <td>4</td>\n",
       "      <td>12742</td>\n",
       "      <td>1</td>\n",
       "      <td>Y</td>\n",
       "      <td>No</td>\n",
       "      <td>80</td>\n",
       "      <td>21</td>\n",
       "      <td>21</td>\n",
       "      <td>0</td>\n",
       "    </tr>\n",
       "    <tr>\n",
       "      <th>4</th>\n",
       "      <td>1111</td>\n",
       "      <td>28</td>\n",
       "      <td>Travel_Frequently</td>\n",
       "      <td>Research &amp; Development</td>\n",
       "      <td>1</td>\n",
       "      <td>3</td>\n",
       "      <td>Medical</td>\n",
       "      <td>Male</td>\n",
       "      <td>2</td>\n",
       "      <td>2596</td>\n",
       "      <td>1</td>\n",
       "      <td>Y</td>\n",
       "      <td>No</td>\n",
       "      <td>80</td>\n",
       "      <td>1</td>\n",
       "      <td>1</td>\n",
       "      <td>1</td>\n",
       "    </tr>\n",
       "  </tbody>\n",
       "</table>\n",
       "</div>"
      ],
      "text/plain": [
       "   EmployeeNumber  Age     BusinessTravel              Department  \\\n",
       "0              77   37      Travel_Rarely  Research & Development   \n",
       "1            1245   54  Travel_Frequently  Research & Development   \n",
       "2             147   34  Travel_Frequently  Research & Development   \n",
       "3            1026   39      Travel_Rarely  Research & Development   \n",
       "4            1111   28  Travel_Frequently  Research & Development   \n",
       "\n",
       "   DistanceFromHome  Education EducationField  Gender  JobSatisfaction  \\\n",
       "0                 1          4  Life Sciences    Male                3   \n",
       "1                 1          4  Life Sciences  Female                3   \n",
       "2                 7          3  Life Sciences    Male                3   \n",
       "3                 1          1  Life Sciences  Female                4   \n",
       "4                 1          3        Medical    Male                2   \n",
       "\n",
       "   MonthlyIncome  NumCompaniesWorked Over18 OverTime  StandardHours  \\\n",
       "0           5993                   1      Y       No             80   \n",
       "1          10502                   7      Y       No             80   \n",
       "2           6074                   1      Y      Yes             80   \n",
       "3          12742                   1      Y       No             80   \n",
       "4           2596                   1      Y       No             80   \n",
       "\n",
       "   TotalWorkingYears  YearsAtCompany  Attrition  \n",
       "0                  7               7          0  \n",
       "1                 33               5          0  \n",
       "2                  9               9          1  \n",
       "3                 21              21          0  \n",
       "4                  1               1          1  "
      ]
     },
     "execution_count": 1,
     "metadata": {},
     "output_type": "execute_result"
    }
   ],
   "source": [
    "# 读取数据\n",
    "\n",
    "import pandas as pd\n",
    "\n",
    "data = pd.read_excel('data/pfm_data.xlsx')\n",
    "data.head()"
   ]
  },
  {
   "cell_type": "markdown",
   "metadata": {
    "toc-hr-collapsed": true
   },
   "source": [
    "### 切分数据集"
   ]
  },
  {
   "cell_type": "markdown",
   "metadata": {},
   "source": [
    "接下来，我们将数据集切分为训练集与测试集。`scikit-learn`的`model_selection`模块中提供了`train_test_split`方法，我们可以通过`test_size`参数设置一个作为测试集数据的百分比，而`stratify`一般设置为`label`，可以设置按照这个`label`进行分层取样。"
   ]
  },
  {
   "cell_type": "code",
   "execution_count": 2,
   "metadata": {},
   "outputs": [
    {
     "data": {
      "text/plain": [
       "((825, 16), (275, 16), (825,), (275,))"
      ]
     },
     "execution_count": 2,
     "metadata": {},
     "output_type": "execute_result"
    }
   ],
   "source": [
    "# 切分训练集和测试集\n",
    "\n",
    "from sklearn.model_selection import train_test_split\n",
    "\n",
    "x = data.drop(columns='Attrition')\n",
    "y = data['Attrition']\n",
    "\n",
    "train_x, test_x, train_y, test_y = train_test_split(x, y, test_size=0.25, stratify=y, random_state=1024)\n",
    "train_x.shape, test_x.shape, train_y.shape, test_y.shape"
   ]
  },
  {
   "cell_type": "markdown",
   "metadata": {
    "toc-hr-collapsed": true
   },
   "source": [
    "### 预处理数据集"
   ]
  },
  {
   "cell_type": "markdown",
   "metadata": {},
   "source": [
    "随后，我们按照上一章中的`Preprocessor`类来构造用于数据预处理的类。在这里，我们简化了部分方法，例如去掉了将变换器进行保存和读取的方法。"
   ]
  },
  {
   "cell_type": "code",
   "execution_count": 3,
   "metadata": {},
   "outputs": [],
   "source": [
    "# 预处理数据类\n",
    "\n",
    "import numpy as np\n",
    "from sklearn.compose import ColumnTransformer\n",
    "from sklearn.preprocessing import OneHotEncoder, StandardScaler, KBinsDiscretizer\n",
    "\n",
    "\n",
    "class Preprocessor:\n",
    "    def __init__(self):\n",
    "        # 待转为str类型的列\n",
    "        self.to_str_cols = ['Education', 'JobSatisfaction']\n",
    "        # id列\n",
    "        self.id_col = 'EmployeeNumber'\n",
    "        # 待去掉的列\n",
    "        self.to_rm_cols = ['StandardHours', 'Over18']\n",
    "        # 变换器\n",
    "        self.column_transformer = None\n",
    "\n",
    "    def remove_columns(self, data):\n",
    "        \"\"\"\n",
    "        去掉可以删除的列\n",
    "        :param data: 数据\n",
    "        :return:\n",
    "        \"\"\"\n",
    "        # 删除ID列\n",
    "        data = data.drop(columns=self.id_col)\n",
    "        # 删除StandardHours和Over18这两列\n",
    "        data = data.drop(columns=self.to_rm_cols)\n",
    "\n",
    "        return data\n",
    "\n",
    "    def transform_train(self, train_data):\n",
    "        \"\"\"\n",
    "        变换训练集\n",
    "        :param train_data: 训练集\n",
    "        :return:\n",
    "        \"\"\"\n",
    "        # 数值类型的特征\n",
    "        num_cols = train_data.select_dtypes(include=np.number).columns.tolist()\n",
    "        # 去掉年龄特征\n",
    "        num_cols.remove('Age')\n",
    "        # 类别类型的特征\n",
    "        cat_cols = train_data.select_dtypes(include=np.object).columns.tolist()\n",
    "\n",
    "        self.column_transformer = ColumnTransformer(\n",
    "            [\n",
    "                # 对类别型数据做One-Hot编码\n",
    "                ('one-hot', OneHotEncoder(handle_unknown='ignore'), cat_cols),\n",
    "                # 对除了数值类型做标准化\n",
    "                ('scale', StandardScaler(), num_cols),\n",
    "                # 对age字段做离散化，转化为5个类别\n",
    "                ('discretizer', KBinsDiscretizer(n_bins=5), ['Age'])\n",
    "            ]\n",
    "        )\n",
    "\n",
    "        return self.column_transformer.fit_transform(train_data)\n",
    "\n",
    "    def transform_test(self, test_data):\n",
    "        \"\"\"\n",
    "        变换测试集\n",
    "        :param test_data: 测试集\n",
    "        :return:\n",
    "        \"\"\"\n",
    "        if self.column_transformer is None:\n",
    "            print('column transformer is None!')\n",
    "            return\n",
    "\n",
    "        return self.column_transformer.transform(test_data)\n",
    "\n",
    "    def preprocess_data(self, data, train_or_test=0):\n",
    "        \"\"\"\n",
    "        预处理数据集\n",
    "        :param data: 数据\n",
    "        :param train_or_test: 训练或者测试：0 - 训练，1 - 测试\n",
    "        :return:\n",
    "        \"\"\"\n",
    "        data = self.remove_columns(data)\n",
    "        if train_or_test == 0:\n",
    "            return self.transform_train(data)\n",
    "        return self.transform_test(data)"
   ]
  },
  {
   "cell_type": "markdown",
   "metadata": {},
   "source": [
    "最后，我们初始化一个预处理示例，对训练集和测试集分别进行预处理。"
   ]
  },
  {
   "cell_type": "code",
   "execution_count": 4,
   "metadata": {},
   "outputs": [
    {
     "data": {
      "text/plain": [
       "((825, 28), (275, 28))"
      ]
     },
     "execution_count": 4,
     "metadata": {},
     "output_type": "execute_result"
    }
   ],
   "source": [
    "preprocessor = Preprocessor()\n",
    "train_x = preprocessor.preprocess_data(train_x)\n",
    "test_x = preprocessor.preprocess_data(test_x, train_or_test=1)\n",
    "train_x.shape, test_x.shape"
   ]
  },
  {
   "cell_type": "markdown",
   "metadata": {
    "toc-hr-collapsed": true
   },
   "source": [
    "## 建模"
   ]
  },
  {
   "cell_type": "markdown",
   "metadata": {},
   "source": [
    "### 如何选择模型"
   ]
  },
  {
   "cell_type": "markdown",
   "metadata": {},
   "source": [
    "当我们着手开始建模型时，摆在我们面前的一个问题便是：我们应当选择哪个模型来建模呢？  \n",
    "在一些场景下，例如数据模型竞赛，模型的准确率是一个非常重要的指标，甚至可以说是唯一的指标，因此相互比较多个模型的准确率，最后选择准确率最高的模型。但是在实践中，模型的准确率往往并不是唯一的指标，模型的复杂度、响应时间、研发时间等指标也是非常重要。例如我们手上现在有两个模型，一个准确率90%的模型、5ms内就能完成预测的模型和一个准确率98%、需要5s才能完成预测的模型，这时选择哪个呢？在没有任何限制的情况，选在第二个模型会更好，因为其准确率更高，但是如果我们的模型是用在实时预测的场景下，并且准确率只要达到80%就能符合我们的需要，那么第一个模型更好，因此5s在实时的场景中，可能是个非常漫长的过程，你的用户还没等待出结果便已经离开了。  \n",
    "如何选择模型，需要根据我们的实际使用场景综合考虑，例如需要模型精度尽量高的，对预测与训练时间无限制的，那么就应当选择精度高的模型；对模型训练时间有一定限制的，比如每小时需要更新一次的模型，那么你的模型训练时间应当在1小时之内完成。因此，我们选择模型时，应当明确各项性能指标，包括模型的精度、模型的训练时长、模型的预测时长、模型的内存消耗等，综合考虑实际的使用场景，选择一个比较合适的模型。  \n",
    "在着手建模前，还有件非常重要的事就是预先设置一个预期的精度，这个精度应当与业务方进行探讨，以满足业务方的需求，例如85%的准确率。因为在实践中，往往会受很多因素影响，特别是时间因素的制约，业务方可能要求你必须在一个月内完成，这还包括理解业务场景、探索数据、处理数据、训练模型、部署模型等。这时，你往往没有很多时间花在调整你的模型上，所以，需要提前设置一个合理的精度。但是这个精度要求必须是可以商量的，因为毕竟没有拿到数据进行建模，其精度到底如何，是个未知数，有时数据的质量往往达不到需求的精度。当模型的精度无法满足需求时，需要和业务方再次进行协商，以确定最后的上线要求。  "
   ]
  },
  {
   "cell_type": "markdown",
   "metadata": {},
   "source": [
    "### 基准模型"
   ]
  },
  {
   "cell_type": "markdown",
   "metadata": {},
   "source": [
    "首先，我们可以建立一个较为简单的模型，例如`线性回归`、`logistics回归`等，作为我们的基准模型。  \n",
    "我们可以使用`scikit-learn`中`linear_model`模块提供的`LogisticRegression`类来训练一个`logistic回归`模型。"
   ]
  },
  {
   "cell_type": "code",
   "execution_count": 5,
   "metadata": {},
   "outputs": [],
   "source": [
    "from sklearn.linear_model import LogisticRegression\n",
    "\n",
    "lr = LogisticRegression()"
   ]
  },
  {
   "cell_type": "markdown",
   "metadata": {},
   "source": [
    "#### 超参数"
   ]
  },
  {
   "cell_type": "markdown",
   "metadata": {},
   "source": [
    "如何确定超参数是一项重要的技巧，超参数在很大程度上会影响你模型的最终性能，因此妥善选择超参数是个非常重要的。  \n",
    "首先，我们先要确定模型提供了哪些超参数可供选择，这些参数各是怎么影响模型的。例如`Lasso回归`中，λ参数则控制着模型的复杂度，当模型过拟合时，可以调大λ以控制模型的复杂度。有时，当调参一些较为复杂的模型时，如`XGBoost`，可以先尝试默认超参数，然后观察模型的表现，可以根据过拟合和欠拟合的情况，来调整模型的超参数。    \n",
    "在实践中，交叉验证是我们最常用的方法，不过，针对的模型超参数一般不能太多，一般2到3个左右，太多了，一些复杂的模型会运营非常久。然后根据数据量的情况，选择5折或者10折，一般来说，数据量足够的情况下，选择10折都能满足我们的需要。"
   ]
  },
  {
   "cell_type": "markdown",
   "metadata": {},
   "source": [
    "`LogisticsRegression`类中提供了一个超参数`C`，即正则项强度的倒数。我们可以使用交叉验证（`cross-vilidation`）的方式来确定超参数`C`，`scikit-learn`中`model_selection`模块提供了`GridSearchCV`类，即网格搜索类，可以方便我们调整参数，`model_selection`模块中也提供了其他的方法，如随机搜索类`RandomizedSearchCV`。在这里，我们使用以2为底，-10到10的指数区间作为超参数的候选取值。"
   ]
  },
  {
   "cell_type": "markdown",
   "metadata": {},
   "source": [
    "#### 模型评估指标"
   ]
  },
  {
   "cell_type": "markdown",
   "metadata": {},
   "source": [
    "模型的评估指标应当根据实际的业务场景与数据特点来综合选定。例如，当前某数据中，`是`和`否`两类的占比分别为98%和2%，这时候，使用准确率是非常差的，因为模型全部预测为`是`的时候，模型的准确率有98%，这看上去非常的好，但其实是非常差的，因为`否`的类别完全没有被识别出来。有些业务场景看中召回率——宁可杀错一千，也不能放过一个，这时在模型评估指标上就需要更多的倾向于提高召回率。因此，模型的评估指标选择，应当切合业务需要和数据特点。  \n",
    "一般来说，预测数值类型时，评估指标使用`MSE`或`RMSE`较为常见；类别占比接近1比1的，则使用准确率；而一些不平衡的类别数据，则可以使用`auc`或者`F-score`等。"
   ]
  },
  {
   "cell_type": "markdown",
   "metadata": {},
   "source": [
    "由于本数据集是一个不平衡类，因此，我们可以使用`auc`来进行评估。  \n",
    "同时，我们设定的预期`auc`为0.7。"
   ]
  },
  {
   "cell_type": "code",
   "execution_count": 6,
   "metadata": {},
   "outputs": [
    {
     "data": {
      "text/plain": [
       "({'C': 0.5}, 0.796996336996337)"
      ]
     },
     "execution_count": 6,
     "metadata": {},
     "output_type": "execute_result"
    }
   ],
   "source": [
    "from sklearn.model_selection import GridSearchCV\n",
    "\n",
    "# 设定候选超参数\n",
    "lr_params = [{'C': [2**i for i in range(-10, 10)]}]\n",
    "\n",
    "# 通过交叉验证的方式搜索最佳参数\n",
    "gs_lr = GridSearchCV(\n",
    "    estimator=lr, \n",
    "    param_grid=lr_params, \n",
    "    # 设定10折交叉验证\n",
    "    cv=10, \n",
    "    # 选择auc作为，模型评估指标\n",
    "    scoring='roc_auc')\n",
    "gs_lr.fit(train_x, train_y)\n",
    "gs_lr.best_params_, gs_lr.best_score_"
   ]
  },
  {
   "cell_type": "markdown",
   "metadata": {},
   "source": [
    "我们可以看到，最佳的超参数`C`是0.5。  \n",
    "接下来，我们在测试集上看下最终的模型性能。"
   ]
  },
  {
   "cell_type": "code",
   "execution_count": 7,
   "metadata": {},
   "outputs": [
    {
     "data": {
      "text/plain": [
       "0.716135265700483"
      ]
     },
     "execution_count": 7,
     "metadata": {},
     "output_type": "execute_result"
    }
   ],
   "source": [
    "from sklearn.metrics import roc_curve, auc\n",
    "\n",
    "pred_y_lr = gs_lr.predict_proba(test_x)[:, 1]\n",
    "fpr, tpr, thresholds = roc_curve(test_y, pred_y_lr, pos_label=1)\n",
    "auc(fpr, tpr)"
   ]
  },
  {
   "cell_type": "markdown",
   "metadata": {},
   "source": [
    "我们可以看到模型的`auc`为0.716。  \n",
    "如之前所说，这个数据集是一个非平衡类别的数据集，我们可以尝试使用`SMOTE`算法来调整数据集，是的数据集中的类相对比较平衡。"
   ]
  },
  {
   "cell_type": "code",
   "execution_count": 8,
   "metadata": {},
   "outputs": [
    {
     "data": {
      "text/plain": [
       "(692, 692)"
      ]
     },
     "execution_count": 8,
     "metadata": {},
     "output_type": "execute_result"
    }
   ],
   "source": [
    "from imblearn.over_sampling import SMOTE\n",
    "\n",
    "sm = SMOTE(random_state=1024)\n",
    "\n",
    "train_x_sm, train_y_sm = sm.fit_resample(train_x, train_y)\n",
    "sum(train_y_sm == 0), sum(train_y_sm == 1)"
   ]
  },
  {
   "cell_type": "markdown",
   "metadata": {},
   "source": [
    "我们可以看到通过`SMOTE`算法后，`0`和`1`的类别已经平衡。我们随后使用这个数据集进行建模。"
   ]
  },
  {
   "cell_type": "code",
   "execution_count": 9,
   "metadata": {},
   "outputs": [
    {
     "data": {
      "text/plain": [
       "({'C': 0.125}, 0.8381930566807693)"
      ]
     },
     "execution_count": 9,
     "metadata": {},
     "output_type": "execute_result"
    }
   ],
   "source": [
    "lr = LogisticRegression()\n",
    "\n",
    "gs_lr2 = GridSearchCV(estimator=lr, param_grid=lr_params, cv=10, scoring='roc_auc')\n",
    "gs_lr2.fit(train_x_sm, train_y_sm)\n",
    "\n",
    "gs_lr2.best_params_, gs_lr2.best_score_"
   ]
  },
  {
   "cell_type": "markdown",
   "metadata": {},
   "source": [
    "我们在测试集上看下最终的效果。"
   ]
  },
  {
   "cell_type": "code",
   "execution_count": 10,
   "metadata": {},
   "outputs": [
    {
     "data": {
      "text/plain": [
       "0.7198067632850241"
      ]
     },
     "execution_count": 10,
     "metadata": {},
     "output_type": "execute_result"
    }
   ],
   "source": [
    "pred_y_lr2 = gs_lr2.predict_proba(test_x)[:, 1]\n",
    "fpr, tpr, thresholds = roc_curve(test_y, pred_y_lr2, pos_label=1)\n",
    "auc(fpr, tpr)"
   ]
  },
  {
   "cell_type": "markdown",
   "metadata": {},
   "source": [
    "可以看到，最终auc是0.72，比之前提高了0.04，效果不是很明显，因此，接下来我们可以使用原数据集或者经过`SMOTE`变换过的数据集。"
   ]
  },
  {
   "cell_type": "markdown",
   "metadata": {},
   "source": [
    "### 建立对比模型"
   ]
  },
  {
   "cell_type": "markdown",
   "metadata": {},
   "source": [
    "我们使用`logistic回归`模型建立了一个基准模型，我们接下来使用2个较为复杂的模型——`随机森林`和`支持向量机`模型，进行建模，看下是否能获取性能更好的模型。"
   ]
  },
  {
   "cell_type": "markdown",
   "metadata": {},
   "source": [
    "#### 随机森林"
   ]
  },
  {
   "cell_type": "markdown",
   "metadata": {},
   "source": [
    "`scikit-learn`中的`ensemble`模块中提供了`RandomForestClassifier`类，实现了`随机森林`模型。这里我们调整超参数`n_estimators`，即决策树的数量。"
   ]
  },
  {
   "cell_type": "code",
   "execution_count": 11,
   "metadata": {},
   "outputs": [],
   "source": [
    "# 随机森林\n",
    "\n",
    "from sklearn.ensemble import RandomForestClassifier\n",
    "\n",
    "# 决策树使用信息增益\n",
    "rf = RandomForestClassifier(criterion='entropy')\n",
    "rf_params = {'n_estimators': [500, 700, 800, 1000, 1200]}\n",
    "\n",
    "gs_rf = GridSearchCV(estimator=rf, param_grid=rf_params, cv=10, scoring='roc_auc')\n",
    "gs_rf.fit(train_x_sm, train_y_sm)\n",
    "# 在测试集上预测\n",
    "pred_y_rf = gs_rf.predict_proba(test_x)[:, 1]"
   ]
  },
  {
   "cell_type": "markdown",
   "metadata": {},
   "source": [
    "#### 支持向量机"
   ]
  },
  {
   "cell_type": "markdown",
   "metadata": {},
   "source": [
    "`scikit-learn`中的`svm`模块中提供了`SVC`类，实现了`支持向量机`模型。"
   ]
  },
  {
   "cell_type": "code",
   "execution_count": 12,
   "metadata": {},
   "outputs": [],
   "source": [
    "# 支持向量机\n",
    "\n",
    "from sklearn.svm import SVC\n",
    "\n",
    "svm = SVC(probability=True)\n",
    "svm_params = [{'C': [2**i for i in range(-10, 10)]}]\n",
    "\n",
    "gs_svm = GridSearchCV(estimator=svm, param_grid=svm_params, cv=10, scoring='roc_auc')\n",
    "gs_svm.fit(train_x_sm, train_y_sm)\n",
    "# 在测试集上预测\n",
    "pred_y_svm = gs_svm.predict_proba(test_x)[:, 1]"
   ]
  },
  {
   "cell_type": "markdown",
   "metadata": {},
   "source": [
    "### 比较几个模型的性能"
   ]
  },
  {
   "cell_type": "markdown",
   "metadata": {},
   "source": [
    "最后，我们将3个模型的`roc`图画出来，查看各自模型的性能。"
   ]
  },
  {
   "cell_type": "code",
   "execution_count": 13,
   "metadata": {},
   "outputs": [
    {
     "data": {
      "image/png": "[encoded data removed]",
      "text/plain": [
       "<matplotlib.figure.Figure at 0x13541fd30>"
      ]
     },
     "metadata": {},
     "output_type": "display_data"
    }
   ],
   "source": [
    "import matplotlib.pyplot as plt\n",
    "%matplotlib inline\n",
    "\n",
    "fig = plt.figure(figsize=(7, 5))\n",
    "\n",
    "for key, value in {'logistic': pred_y_lr2, 'Random Forest': pred_y_rf, 'SVM': pred_y_svm}.items():\n",
    "    fpr, tpr, thresholds = roc_curve(test_y, value, pos_label=1)\n",
    "    roc_auc = auc(fpr, tpr)\n",
    "    plt.plot(fpr, tpr, lw=1, label='model %s auc = %.3f' % (key, roc_auc))\n",
    "\n",
    "plt.plot([0, 1], [0, 1], linestyle='--', color=(0.6, 0.6, 0.6))\n",
    "plt.xlim([-0.05, 1.05])\n",
    "plt.ylim([-0.05, 1.05])\n",
    "plt.xlabel('false positive rate')\n",
    "plt.ylabel('true positive rate')\n",
    "plt.title('ROC Curve')\n",
    "plt.legend(loc=\"lower right\")\n",
    "plt.show()"
   ]
  },
  {
   "cell_type": "markdown",
   "metadata": {},
   "source": [
    "从ROC曲线图上可以看到，3个模型的性能比较接近，通过`auc`比较，`logistics回归`的`auc`最高，并且达到了我们预期的0.7，因此，我们将选用`logistics回归`作为我们最终的模型。"
   ]
  },
  {
   "cell_type": "markdown",
   "metadata": {},
   "source": [
    "### 最终产出模型"
   ]
  },
  {
   "cell_type": "markdown",
   "metadata": {},
   "source": [
    "最后，我们将所有的数据用于训练，产出最终的模型，并且保存成文件的形式"
   ]
  },
  {
   "cell_type": "code",
   "execution_count": 14,
   "metadata": {},
   "outputs": [
    {
     "data": {
      "text/plain": [
       "LogisticRegression(C=0.125, class_weight=None, dual=False, fit_intercept=True,\n",
       "                   intercept_scaling=1, l1_ratio=None, max_iter=100,\n",
       "                   multi_class='auto', n_jobs=None, penalty='l2',\n",
       "                   random_state=None, solver='lbfgs', tol=0.0001, verbose=0,\n",
       "                   warm_start=False)"
      ]
     },
     "execution_count": 14,
     "metadata": {},
     "output_type": "execute_result"
    }
   ],
   "source": [
    "final_x = preprocessor.preprocess_data(x)\n",
    "\n",
    "sm = SMOTE()\n",
    "final_x_sm, y_sm = sm.fit_resample(final_x, y)\n",
    "\n",
    "lr = LogisticRegression(C=gs_lr2.best_params_['C'])\n",
    "lr.fit(final_x_sm, y_sm)"
   ]
  },
  {
   "cell_type": "code",
   "execution_count": 15,
   "metadata": {},
   "outputs": [],
   "source": [
    "import pickle\n",
    "\n",
    "with open('model/logistics.model', 'wb') as f:\n",
    "    pickle.dump(lr, f)"
   ]
  },
  {
   "cell_type": "markdown",
   "metadata": {},
   "source": [
    "## Landing"
   ]
  },
  {
   "cell_type": "markdown",
   "metadata": {},
   "source": [
    "在这章的`Landing`部分，我们将按照前几小节探索的结果，编写一个数据输入到模型产出的代码片段。"
   ]
  },
  {
   "cell_type": "markdown",
   "metadata": {},
   "source": [
    "由于我们的代码逐渐增多，在这一章代码中，我们建立两个`package`，分别为`model`和`preprocessor`，分别用于模型和预处理模块。具体代码可以参考`code/chp3`"
   ]
  },
  {
   "cell_type": "markdown",
   "metadata": {},
   "source": [
    "### 预处理器"
   ]
  },
  {
   "cell_type": "markdown",
   "metadata": {},
   "source": [
    "预处理器可以参考`预处理数据集`小节中的实现，与第二章的实现基本相同，我们在这里加入保存和读取的方法，用于下一章。具体代码可以参考`code/chp3/preprocessor/preprocessor.py`。"
   ]
  },
  {
   "cell_type": "markdown",
   "metadata": {},
   "source": [
    "### 模型"
   ]
  },
  {
   "cell_type": "markdown",
   "metadata": {},
   "source": [
    "在建模类中，我们实现`smote`、`确定最佳的超参数`、`训练模型`和`保存模型`四个方法。具体代码可以参考`code/chp3/model/pfm_model.py`"
   ]
  },
  {
   "cell_type": "markdown",
   "metadata": {},
   "source": [
    "#### SMOTE"
   ]
  },
  {
   "cell_type": "markdown",
   "metadata": {},
   "source": [
    "使用SMOTE算法来平衡数据。这里我们依然使用`x`和`y`，而不是赋值给新的变量，这样的做的好处是如果我们不使用`smote`方法，接下来的方法依然可以使用`x`和`y`。"
   ]
  },
  {
   "cell_type": "code",
   "execution_count": 16,
   "metadata": {},
   "outputs": [],
   "source": [
    "class Modeler:\n",
    "    ...\n",
    "    def smote(self):\n",
    "        \"\"\"\n",
    "        使用SMOTE算法来平衡数据\n",
    "        :return:\n",
    "        \"\"\"\n",
    "        print('using smote.')\n",
    "        sm = SMOTE()\n",
    "        self.x, self.y = sm.fit_resample(self.x, self.y)\n",
    "    ..."
   ]
  },
  {
   "cell_type": "markdown",
   "metadata": {},
   "source": [
    "#### 确定最佳的超参数"
   ]
  },
  {
   "cell_type": "markdown",
   "metadata": {},
   "source": [
    "这个方法中，我们主要使用`GridSearchCV`实现交叉验证方法，来确定最终的超参数。"
   ]
  },
  {
   "cell_type": "code",
   "execution_count": 17,
   "metadata": {},
   "outputs": [],
   "source": [
    "class Modeler:\n",
    "    ...\n",
    "    def determine_hyper_params(self):\n",
    "        \"\"\"\n",
    "        确定最佳的超参数\n",
    "        :return:\n",
    "        \"\"\"\n",
    "        lr = LogisticRegression()\n",
    "        # 设定候选超参数\n",
    "        params = [{'C': [2 ** i for i in range(-10, 10)]}]\n",
    "\n",
    "        # 通过交叉验证的方式搜索最佳参数\n",
    "        gs_lr = GridSearchCV(\n",
    "            estimator=lr,\n",
    "            param_grid=params,\n",
    "            # 设定10折交叉验证\n",
    "            cv=10,\n",
    "            # 选择auc作为，模型评估指标\n",
    "            scoring='roc_auc')\n",
    "        gs_lr.fit(self.x, self.y)\n",
    "        print('best hyper params: {}'.format(gs_lr.best_params_))\n",
    "        self.best_hyper_params = gs_lr.best_params_\n",
    "    ..."
   ]
  },
  {
   "cell_type": "markdown",
   "metadata": {},
   "source": [
    "#### 训练模型"
   ]
  },
  {
   "cell_type": "markdown",
   "metadata": {},
   "source": [
    "训练模型的方法，我们直接利用确定的最佳的参数训练`logistics回归`模型。"
   ]
  },
  {
   "cell_type": "code",
   "execution_count": 18,
   "metadata": {},
   "outputs": [],
   "source": [
    "class Modeler:\n",
    "    ...\n",
    "    def train_model(self):\n",
    "        \"\"\"\n",
    "        训练模型\n",
    "        :return:\n",
    "        \"\"\"\n",
    "        if self.best_hyper_params is None:\n",
    "            # 如果没有交叉验证选取最佳的参数，则默认设置为1.0\n",
    "            self.best_hyper_params = {'C': 1.0}\n",
    "            print('using hyper params: {}'.format(self.best_hyper_params))\n",
    "\n",
    "        self.model = LogisticRegression(C=self.best_hyper_params['C'])\n",
    "        self.model.fit(self.x, self.y)\n",
    "        print('training model is done.')      \n",
    "    ..."
   ]
  },
  {
   "cell_type": "markdown",
   "metadata": {},
   "source": [
    "#### 保存模型"
   ]
  },
  {
   "cell_type": "markdown",
   "metadata": {},
   "source": [
    "我们可以使用`pickle`来保存训练完的模型，用于部署。"
   ]
  },
  {
   "cell_type": "code",
   "execution_count": 19,
   "metadata": {},
   "outputs": [],
   "source": [
    "class Modeler:\n",
    "    ...\n",
    "    def save_model(self, file_path):\n",
    "        \"\"\"\n",
    "        保存模型\n",
    "        :param file_path: 模型保存路径\n",
    "        :return:\n",
    "        \"\"\"\n",
    "        if self.model is None:\n",
    "            print('model is not trained!')\n",
    "            return\n",
    "\n",
    "        with open(file_path, 'wb') as f:\n",
    "            print('saving model to file: {}'.format(file_path))\n",
    "            pickle.dump(self.model, f)"
   ]
  },
  {
   "cell_type": "markdown",
   "metadata": {},
   "source": [
    "## 小结"
   ]
  },
  {
   "cell_type": "markdown",
   "metadata": {},
   "source": [
    "本章讨论了在建模过程中一些实践经验。如何选择模型，除了关注模型本身的精度等，也要关注诸如模型的预测时间、建模时长等；选择超参数上，可以使用交叉验证的方法来确定；选择模型评估指标时，应当要结合数据特点和业务背景来选择等。  \n",
    "在`Landing`小节中，我们则实现了一个用于建模的类。"
   ]
  }
 ],
 "metadata": {
  "kernelspec": {
   "display_name": "Python 3",
   "language": "python",
   "name": "python3"
  },
  "language_info": {
   "codemirror_mode": {
    "name": "ipython",
    "version": 3
   },
   "file_extension": ".py",
   "mimetype": "text/x-python",
   "name": "python",
   "nbconvert_exporter": "python",
   "pygments_lexer": "ipython3",
   "version": "3.6.3"
  },
  "toc-autonumbering": false
 },
 "nbformat": 4,
 "nbformat_minor": 4
}
