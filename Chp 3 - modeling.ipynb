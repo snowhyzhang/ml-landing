{
 "cells": [
  {
   "cell_type": "markdown",
   "metadata": {},
   "source": [
    "# 模型"
   ]
  },
  {
   "cell_type": "markdown",
   "metadata": {},
   "source": [
    "本章我们将会讨论如何建立一个模型。首先我们会按前两章所述，简要的讲解一下数据读入和预处理。虽然我们将着重讨论建模的过程，以及建模中一些实践经验。"
   ]
  },
  {
   "cell_type": "markdown",
   "metadata": {},
   "source": [
    "## 读取和预处理数据"
   ]
  },
  {
   "cell_type": "markdown",
   "metadata": {},
   "source": [
    "### 读取数据"
   ]
  },
  {
   "cell_type": "markdown",
   "metadata": {},
   "source": [
    "我们可以使用`pandas`库中的`read_excel`方法来读取数据。"
   ]
  },
  {
   "cell_type": "code",
   "execution_count": 1,
   "metadata": {},
   "outputs": [
    {
     "data": {
      "text/html": [
       "<div>\n",
       "<style scoped>\n",
       "    .dataframe tbody tr th:only-of-type {\n",
       "        vertical-align: middle;\n",
       "    }\n",
       "\n",
       "    .dataframe tbody tr th {\n",
       "        vertical-align: top;\n",
       "    }\n",
       "\n",
       "    .dataframe thead th {\n",
       "        text-align: right;\n",
       "    }\n",
       "</style>\n",
       "<table border=\"1\" class=\"dataframe\">\n",
       "  <thead>\n",
       "    <tr style=\"text-align: right;\">\n",
       "      <th></th>\n",
       "      <th>EmployeeNumber</th>\n",
       "      <th>Age</th>\n",
       "      <th>BusinessTravel</th>\n",
       "      <th>Department</th>\n",
       "      <th>DistanceFromHome</th>\n",
       "      <th>Education</th>\n",
       "      <th>EducationField</th>\n",
       "      <th>Gender</th>\n",
       "      <th>JobSatisfaction</th>\n",
       "      <th>MonthlyIncome</th>\n",
       "      <th>NumCompaniesWorked</th>\n",
       "      <th>Over18</th>\n",
       "      <th>OverTime</th>\n",
       "      <th>StandardHours</th>\n",
       "      <th>TotalWorkingYears</th>\n",
       "      <th>YearsAtCompany</th>\n",
       "      <th>Attrition</th>\n",
       "    </tr>\n",
       "  </thead>\n",
       "  <tbody>\n",
       "    <tr>\n",
       "      <th>0</th>\n",
       "      <td>77</td>\n",
       "      <td>37</td>\n",
       "      <td>Travel_Rarely</td>\n",
       "      <td>Research &amp; Development</td>\n",
       "      <td>1</td>\n",
       "      <td>4</td>\n",
       "      <td>Life Sciences</td>\n",
       "      <td>Male</td>\n",
       "      <td>3</td>\n",
       "      <td>5993</td>\n",
       "      <td>1</td>\n",
       "      <td>Y</td>\n",
       "      <td>No</td>\n",
       "      <td>80</td>\n",
       "      <td>7</td>\n",
       "      <td>7</td>\n",
       "      <td>0</td>\n",
       "    </tr>\n",
       "    <tr>\n",
       "      <th>1</th>\n",
       "      <td>1245</td>\n",
       "      <td>54</td>\n",
       "      <td>Travel_Frequently</td>\n",
       "      <td>Research &amp; Development</td>\n",
       "      <td>1</td>\n",
       "      <td>4</td>\n",
       "      <td>Life Sciences</td>\n",
       "      <td>Female</td>\n",
       "      <td>3</td>\n",
       "      <td>10502</td>\n",
       "      <td>7</td>\n",
       "      <td>Y</td>\n",
       "      <td>No</td>\n",
       "      <td>80</td>\n",
       "      <td>33</td>\n",
       "      <td>5</td>\n",
       "      <td>0</td>\n",
       "    </tr>\n",
       "    <tr>\n",
       "      <th>2</th>\n",
       "      <td>147</td>\n",
       "      <td>34</td>\n",
       "      <td>Travel_Frequently</td>\n",
       "      <td>Research &amp; Development</td>\n",
       "      <td>7</td>\n",
       "      <td>3</td>\n",
       "      <td>Life Sciences</td>\n",
       "      <td>Male</td>\n",
       "      <td>3</td>\n",
       "      <td>6074</td>\n",
       "      <td>1</td>\n",
       "      <td>Y</td>\n",
       "      <td>Yes</td>\n",
       "      <td>80</td>\n",
       "      <td>9</td>\n",
       "      <td>9</td>\n",
       "      <td>1</td>\n",
       "    </tr>\n",
       "    <tr>\n",
       "      <th>3</th>\n",
       "      <td>1026</td>\n",
       "      <td>39</td>\n",
       "      <td>Travel_Rarely</td>\n",
       "      <td>Research &amp; Development</td>\n",
       "      <td>1</td>\n",
       "      <td>1</td>\n",
       "      <td>Life Sciences</td>\n",
       "      <td>Female</td>\n",
       "      <td>4</td>\n",
       "      <td>12742</td>\n",
       "      <td>1</td>\n",
       "      <td>Y</td>\n",
       "      <td>No</td>\n",
       "      <td>80</td>\n",
       "      <td>21</td>\n",
       "      <td>21</td>\n",
       "      <td>0</td>\n",
       "    </tr>\n",
       "    <tr>\n",
       "      <th>4</th>\n",
       "      <td>1111</td>\n",
       "      <td>28</td>\n",
       "      <td>Travel_Frequently</td>\n",
       "      <td>Research &amp; Development</td>\n",
       "      <td>1</td>\n",
       "      <td>3</td>\n",
       "      <td>Medical</td>\n",
       "      <td>Male</td>\n",
       "      <td>2</td>\n",
       "      <td>2596</td>\n",
       "      <td>1</td>\n",
       "      <td>Y</td>\n",
       "      <td>No</td>\n",
       "      <td>80</td>\n",
       "      <td>1</td>\n",
       "      <td>1</td>\n",
       "      <td>1</td>\n",
       "    </tr>\n",
       "  </tbody>\n",
       "</table>\n",
       "</div>"
      ],
      "text/plain": [
       "   EmployeeNumber  Age     BusinessTravel              Department  \\\n",
       "0              77   37      Travel_Rarely  Research & Development   \n",
       "1            1245   54  Travel_Frequently  Research & Development   \n",
       "2             147   34  Travel_Frequently  Research & Development   \n",
       "3            1026   39      Travel_Rarely  Research & Development   \n",
       "4            1111   28  Travel_Frequently  Research & Development   \n",
       "\n",
       "   DistanceFromHome  Education EducationField  Gender  JobSatisfaction  \\\n",
       "0                 1          4  Life Sciences    Male                3   \n",
       "1                 1          4  Life Sciences  Female                3   \n",
       "2                 7          3  Life Sciences    Male                3   \n",
       "3                 1          1  Life Sciences  Female                4   \n",
       "4                 1          3        Medical    Male                2   \n",
       "\n",
       "   MonthlyIncome  NumCompaniesWorked Over18 OverTime  StandardHours  \\\n",
       "0           5993                   1      Y       No             80   \n",
       "1          10502                   7      Y       No             80   \n",
       "2           6074                   1      Y      Yes             80   \n",
       "3          12742                   1      Y       No             80   \n",
       "4           2596                   1      Y       No             80   \n",
       "\n",
       "   TotalWorkingYears  YearsAtCompany  Attrition  \n",
       "0                  7               7          0  \n",
       "1                 33               5          0  \n",
       "2                  9               9          1  \n",
       "3                 21              21          0  \n",
       "4                  1               1          1  "
      ]
     },
     "execution_count": 1,
     "metadata": {},
     "output_type": "execute_result"
    }
   ],
   "source": [
    "import pandas as pd\n",
    "\n",
    "data = pd.read_excel('data/pfm_data.xlsx')\n",
    "data.head()"
   ]
  },
  {
   "cell_type": "markdown",
   "metadata": {},
   "source": [
    "### 切分数据集"
   ]
  },
  {
   "cell_type": "markdown",
   "metadata": {},
   "source": [
    "接下来，我们将数据集切分为训练集与测试集。`scikit-learn`的`model_selection`模块中提供了`train_test_split`方法，我们可以通过`test_size`参数设置一个作为测试集数据的百分比，而`stratify`一般设置为`label`，可以设置按照这个`label`进行分层取样。"
   ]
  },
  {
   "cell_type": "code",
   "execution_count": 3,
   "metadata": {},
   "outputs": [
    {
     "data": {
      "text/plain": [
       "((825, 16), (275, 16), (825,), (275,))"
      ]
     },
     "execution_count": 3,
     "metadata": {},
     "output_type": "execute_result"
    }
   ],
   "source": [
    "from sklearn.model_selection import train_test_split\n",
    "\n",
    "x = data.drop(columns='Attrition')\n",
    "y = data['Attrition']\n",
    "\n",
    "train_x, test_x, train_y, test_y = train_test_split(x, y, test_size=0.25, stratify=y, random_state=1024)\n",
    "train_x.shape, test_x.shape, train_y.shape, test_y.shape"
   ]
  },
  {
   "cell_type": "markdown",
   "metadata": {},
   "source": [
    "### 预处理数据集"
   ]
  },
  {
   "cell_type": "markdown",
   "metadata": {},
   "source": [
    "随后，我们按照上一章中的`Preprocessor`类来构造用于数据预处理的类。在这里，我们简化了部分方法，例如去掉了将变换器进行保存和读取的方法。"
   ]
  },
  {
   "cell_type": "code",
   "execution_count": 2,
   "metadata": {},
   "outputs": [],
   "source": [
    "import numpy as np\n",
    "from sklearn.compose import ColumnTransformer\n",
    "from sklearn.preprocessing import OneHotEncoder, StandardScaler, KBinsDiscretizer\n",
    "\n",
    "class Preprocessor:\n",
    "    def __init__(self):\n",
    "        # 待转为str类型的列\n",
    "        self.to_str_cols = ['Education', 'JobSatisfaction']\n",
    "        # id列\n",
    "        self.id_col = 'EmployeeNumber'\n",
    "        # 待去掉的列\n",
    "        self.to_rm_cols = ['StandardHours', 'Over18']\n",
    "        # 变换器\n",
    "        self.column_transformer = None\n",
    "\n",
    "    def remove_columns(self, data):\n",
    "        \"\"\"\n",
    "        去掉可以删除的列\n",
    "        :param data: 数据\n",
    "        :return:\n",
    "        \"\"\"\n",
    "        # 删除ID列\n",
    "        data = data.drop(columns=self.id_col)\n",
    "        # 删除StandardHours和Over18这两列\n",
    "        data = data.drop(columns=self.to_rm_cols)\n",
    "\n",
    "        return data\n",
    "\n",
    "    def transform_train(self, train_data):\n",
    "        \"\"\"\n",
    "        变换训练集\n",
    "        :param train_data: 训练集\n",
    "        :return:\n",
    "        \"\"\"\n",
    "        # 数值类型的特征\n",
    "        num_cols = train_data.select_dtypes(include=np.number).columns.tolist()\n",
    "        # 去掉年龄特征\n",
    "        num_cols.remove('Age')\n",
    "        # 类别类型的特征\n",
    "        cat_cols = train_data.select_dtypes(include=np.object).columns.tolist()\n",
    "\n",
    "        self.column_transformer = ColumnTransformer(\n",
    "            [\n",
    "                # 对类别型数据做One-Hot编码\n",
    "                ('one-hot', OneHotEncoder(handle_unknown='ignore'), cat_cols),\n",
    "                # 对除了数值类型做标准化\n",
    "                ('scale', StandardScaler(), num_cols),\n",
    "                # 对age字段做离散化，转化为5个类别\n",
    "                ('discretizer', KBinsDiscretizer(n_bins=5), ['Age'])\n",
    "            ]\n",
    "        )\n",
    "\n",
    "        return self.column_transformer.fit_transform(train_data)\n",
    "\n",
    "    def transform_test(self, test_data):\n",
    "        \"\"\"\n",
    "        变换测试集\n",
    "        :param test_data: 测试集\n",
    "        :return:\n",
    "        \"\"\"\n",
    "        if self.column_transformer is None:\n",
    "            print('column transformer is None!')\n",
    "            return\n",
    "\n",
    "        return self.column_transformer.transform(test_data)\n",
    "\n",
    "    def preprocess_data(self, data, train_or_test=0):\n",
    "        \"\"\"\n",
    "        预处理数据集\n",
    "        :param file_path: 文件路径\n",
    "        :param train_or_test: 训练或者测试：0 - 训练，1 - 测试\n",
    "        :return:\n",
    "        \"\"\"\n",
    "        data = self.remove_columns(data)\n",
    "        if train_or_test == 0:\n",
    "            return self.transform_train(data)\n",
    "        return self.transform_test(data)"
   ]
  },
  {
   "cell_type": "markdown",
   "metadata": {},
   "source": [
    "最后，我们初始化一个预处理示例，对训练集和测试集分别进行预处理。"
   ]
  },
  {
   "cell_type": "code",
   "execution_count": 4,
   "metadata": {},
   "outputs": [
    {
     "data": {
      "text/plain": [
       "((825, 28), (275, 28))"
      ]
     },
     "execution_count": 4,
     "metadata": {},
     "output_type": "execute_result"
    }
   ],
   "source": [
    "preprocessor = Preprocessor()\n",
    "train_x = preprocessor.preprocess_data(train_x)\n",
    "test_x = preprocessor.preprocess_data(test_x, train_or_test=1)\n",
    "train_x.shape, test_x.shape"
   ]
  },
  {
   "cell_type": "markdown",
   "metadata": {},
   "source": [
    "## 建模"
   ]
  },
  {
   "cell_type": "markdown",
   "metadata": {},
   "source": [
    "### 如何选择模型"
   ]
  },
  {
   "cell_type": "markdown",
   "metadata": {},
   "source": [
    "当我们着手开始建模型时，摆在我们面前的一个问题便是：我们应当选择哪个模型来建模呢？  \n",
    "在一些场景下，例如数据模型竞赛，模型的准确率是一个非常重要的指标，甚至可以说是唯一的指标，因此相互比较多个模型的准确率，最后选择准确率最高的模型。但是在实践中，模型的准确率往往并不是唯一的指标，模型的复杂度、响应时间、研发时间等指标也是非常重要。例如我们手上现在有两个模型，一个准确率90%的模型、5ms内就能完成预测的模型和一个准确率98%、需要5s才能完成预测的模型，这时选择哪个呢？在没有任何限制的情况，选在第二个模型会更好，因为其准确率更高，但是如果我们的模型是用在实时预测的场景下，并且准确率只要达到80%就能符合我们的需要，那么第一个模型更好，因此5s在实时的场景中，可能是个非常漫长的过程，你的用户还没等待出结果便已经离开了。  \n",
    "如何选择模型，需要根据我们的实际使用场景综合考虑，例如需要模型精度尽量高的，对预测与训练时间无限制的，那么就应当选择精度高的模型；对模型训练时间有一定限制的，比如每小时需要更新一次的模型，那么你的模型训练时间应当在1小时之内完成。因此，我们选择模型时，应当明确各项性能指标，包括模型的精度、模型的训练时长、模型的预测时长、模型的内存消耗等，综合考虑实际的使用场景，选择一个比较合适的模型。"
   ]
  },
  {
   "cell_type": "markdown",
   "metadata": {},
   "source": [
    "一般，我们可以先设置一个预期的精度，这个精度可以和业务方进行讨论，设置一个合理的范围，例如85%的准确率，然后不断改进你的模型，来达到这个设定的预期精度，之后考虑你这个模型是否能满足实际的使用场景，如果有一些不满足，例如预测所需要的时间，那么你可以降低模型的复杂度，将预测时间可以控制在需求的时间之内，随后接着观察你的精度是否可以达标。"
   ]
  },
  {
   "cell_type": "markdown",
   "metadata": {},
   "source": [
    "### 基准模型"
   ]
  },
  {
   "cell_type": "markdown",
   "metadata": {},
   "source": [
    "首先，我们可以建立一个较为简单的模型，例如线性回归、logistics回归等，作为我们的基准模型。  \n",
    "我们可以使用`scikit-learn`中`linear_model`模块提供的`LogisticRegression`类来训练一个logistic回归模型。"
   ]
  },
  {
   "cell_type": "code",
   "execution_count": 7,
   "metadata": {},
   "outputs": [],
   "source": [
    "from sklearn.linear_model import LogisticRegression\n",
    "\n",
    "lr = LogisticRegression()"
   ]
  },
  {
   "cell_type": "code",
   "execution_count": 6,
   "metadata": {},
   "outputs": [
    {
     "data": {
      "text/plain": [
       "({'C': 0.5}, 0.796996336996337)"
      ]
     },
     "execution_count": 6,
     "metadata": {},
     "output_type": "execute_result"
    }
   ],
   "source": [
    "from sklearn.model_selection import GridSearchCV\n",
    "\n",
    "lr_params = [{'C': [2**i for i in range(-10, 10)]}]\n",
    "\n",
    "# 通过交叉验证的方式搜索最佳参数\n",
    "gs_lr = GridSearchCV(estimator=lr, param_grid=lr_params, cv=10, scoring='roc_auc')\n",
    "gs_lr.fit(train_x, train_y)\n",
    "gs_lr.best_params_, gs_lr.best_score_"
   ]
  },
  {
   "cell_type": "markdown",
   "metadata": {},
   "source": [
    "由于这是一个不平衡类，我们可以使用`auc`来进行评估。`auc`是一种比较常用的用于评估不平衡类模型的评估指标。"
   ]
  },
  {
   "cell_type": "code",
   "execution_count": 8,
   "metadata": {},
   "outputs": [
    {
     "data": {
      "text/plain": [
       "0.716135265700483"
      ]
     },
     "execution_count": 8,
     "metadata": {},
     "output_type": "execute_result"
    }
   ],
   "source": [
    "from sklearn.metrics import roc_curve, auc\n",
    "\n",
    "pred_y_lr = gs_lr.predict_proba(test_x)[:, 1]\n",
    "fpr, tpr, thresholds = roc_curve(test_y, pred_y_lr, pos_label=1)\n",
    "auc(fpr, tpr)"
   ]
  },
  {
   "cell_type": "markdown",
   "metadata": {},
   "source": [
    "我们使用`SMOTE`算法。"
   ]
  },
  {
   "cell_type": "code",
   "execution_count": 9,
   "metadata": {},
   "outputs": [
    {
     "data": {
      "text/plain": [
       "({'C': 0.125}, 0.8381930566807693)"
      ]
     },
     "execution_count": 9,
     "metadata": {},
     "output_type": "execute_result"
    }
   ],
   "source": [
    "from imblearn.over_sampling import SMOTE\n",
    "\n",
    "sm = SMOTE(random_state=1024)\n",
    "\n",
    "train_x_sm, train_y_sm = sm.fit_resample(train_x, train_y)\n",
    "\n",
    "lr = LogisticRegression()\n",
    "lr_params = {'C': [2**i for i in range(-10, 10)]}\n",
    "\n",
    "gs_lr2 = GridSearchCV(estimator=lr, param_grid=lr_params, cv=10, scoring='roc_auc')\n",
    "gs_lr2.fit(train_x_sm, train_y_sm)\n",
    "\n",
    "gs_lr2.best_params_, gs_lr2.best_score_"
   ]
  },
  {
   "cell_type": "code",
   "execution_count": 10,
   "metadata": {},
   "outputs": [
    {
     "data": {
      "text/plain": [
       "0.7198067632850241"
      ]
     },
     "execution_count": 10,
     "metadata": {},
     "output_type": "execute_result"
    }
   ],
   "source": [
    "pred_y_lr2 = gs_lr2.predict_proba(test_x)[:, 1]\n",
    "fpr, tpr, thresholds = roc_curve(test_y, pred_y_lr2, pos_label=1)\n",
    "auc(fpr, tpr)"
   ]
  },
  {
   "cell_type": "code",
   "execution_count": 11,
   "metadata": {},
   "outputs": [],
   "source": [
    "# 随机森林\n",
    "\n",
    "from sklearn.ensemble import RandomForestClassifier\n",
    "\n",
    "rf = RandomForestClassifier(criterion='entropy')\n",
    "rf_params = {'n_estimators': [500, 700, 800, 1000, 1200]}\n",
    "\n",
    "gs_rf = GridSearchCV(estimator=rf, param_grid=rf_params, cv=10, scoring='roc_auc')\n",
    "gs_rf.fit(train_x_sm, train_y_sm)\n",
    "pred_y_rf = gs_rf.predict_proba(test_x)[:, 1]"
   ]
  },
  {
   "cell_type": "code",
   "execution_count": 12,
   "metadata": {},
   "outputs": [],
   "source": [
    "# 支持向量机\n",
    "\n",
    "from sklearn.svm import SVC\n",
    "\n",
    "svm = SVC(probability=True)\n",
    "svm_params = [{'C': [2**i for i in range(-10, 10)]}]\n",
    "\n",
    "gs_svm = GridSearchCV(estimator=svm, param_grid=svm_params, cv=10, scoring='roc_auc')\n",
    "gs_svm.fit(train_x_sm, train_y_sm)\n",
    "pred_y_svm = gs_svm.predict_proba(test_x)[:, 1]"
   ]
  },
  {
   "cell_type": "code",
   "execution_count": 17,
   "metadata": {},
   "outputs": [
    {
     "data": {
      "image/png": "[encoded data removed]",
      "text/plain": [
       "<matplotlib.figure.Figure at 0x13a2961d0>"
      ]
     },
     "metadata": {},
     "output_type": "display_data"
    }
   ],
   "source": [
    "import matplotlib.pyplot as plt\n",
    "%matplotlib inline\n",
    "\n",
    "fig = plt.figure(figsize=(7, 5))\n",
    "\n",
    "for key, value in {'logistic': pred_y_lr2, 'Random Forest': pred_y_rf, 'SVM': pred_y_svm}.items():\n",
    "    fpr, tpr, thresholds = roc_curve(test_y, value, pos_label=1)\n",
    "    roc_auc = auc(fpr, tpr)\n",
    "    plt.plot(fpr, tpr, lw=1, label='model %s auc = %.3f' % (key, roc_auc))\n",
    "\n",
    "plt.plot([0, 1], [0, 1], linestyle='--', color=(0.6, 0.6, 0.6))\n",
    "plt.xlim([-0.05, 1.05])\n",
    "plt.ylim([-0.05, 1.05])\n",
    "plt.xlabel('false positive rate')\n",
    "plt.ylabel('true positive rate')\n",
    "plt.title('ROC Curve')\n",
    "plt.legend(loc=\"lower right\")\n",
    "plt.show()"
   ]
  },
  {
   "cell_type": "code",
   "execution_count": null,
   "metadata": {},
   "outputs": [],
   "source": []
  }
 ],
 "metadata": {
  "kernelspec": {
   "display_name": "Python 3",
   "language": "python",
   "name": "python3"
  },
  "language_info": {
   "codemirror_mode": {
    "name": "ipython",
    "version": 3
   },
   "file_extension": ".py",
   "mimetype": "text/x-python",
   "name": "python",
   "nbconvert_exporter": "python",
   "pygments_lexer": "ipython3",
   "version": "3.6.3"
  },
  "toc-autonumbering": false
 },
 "nbformat": 4,
 "nbformat_minor": 4
}
