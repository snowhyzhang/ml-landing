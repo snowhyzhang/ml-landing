{
 "cells": [
  {
   "cell_type": "markdown",
   "metadata": {},
   "source": [
    "# 第四章 部署"
   ]
  },
  {
   "cell_type": "markdown",
   "metadata": {},
   "source": [
    "部署是将我们的模型用于实际应用的关键一步。部署的方式有很多，本章我们主要讨论两种常用的方式：定时任务和API。"
   ]
  },
  {
   "cell_type": "markdown",
   "metadata": {},
   "source": [
    "## 定时任务"
   ]
  },
  {
   "cell_type": "markdown",
   "metadata": {},
   "source": [
    "定时任务就是按一定规定时间或者间隔一定时间运行我们的程序，例如每天早上9点运行，每小时运行一次等。这种方式比较适合批量处理，例如数据清洗，或者训练模型等。    \n",
    "接下来我们将介绍2个中方法，一种是在`Linux`系统下，使用`crontab`；另一种方法是使用`apscheduler`库。"
   ]
  },
  {
   "cell_type": "markdown",
   "metadata": {},
   "source": [
    "### crontab"
   ]
  },
  {
   "cell_type": "markdown",
   "metadata": {},
   "source": [
    "`crontab`可以用于设置周期性被执行的指令，其常用的命令如下：  \n",
    "\n",
    "- `crontab -e`：编辑crontab\n",
    "- `crontab -l`：列出crontab列表\n",
    "- `crontab -r`：删除crontab\n",
    "\n",
    "`crontab`的设置格式为`分 时 日 月 星期 要运行的命令`。例如，我们每天早上8点自动运行`main.py`的文件：\n",
    "\n",
    "~~~bash\n",
    "0 8 * * * python /home/user/project/main.py\n",
    "~~~\n",
    "\n",
    "`crontab`是`Linux`下常用的命令之一，使用非常简单，相关资料也比较多，本文在这里就不在赘述了，有兴趣的朋友可以搜索查阅相关资料。"
   ]
  },
  {
   "cell_type": "markdown",
   "metadata": {},
   "source": [
    "### apscheduler"
   ]
  },
  {
   "cell_type": "markdown",
   "metadata": {},
   "source": [
    "`apscheduler`是Python下的一个定时任务框架，在这里我们做下简单介绍。"
   ]
  },
  {
   "cell_type": "markdown",
   "metadata": {},
   "source": [
    "`apscheduler`中最主要的配置就是调度器了。这里常用的主要有2种调度器\n",
    "\n",
    "- BlockingScheduler：在调用start函数会阻塞当前线程，不能立即返回。适合调度程序是进程中唯一运行的进程。\n",
    "- BackgroundScheduler：调用start函数后主线程不会阻塞。适合调度可以在后台运行的进程。\n",
    "\n",
    "其调度方式中，一般常用的也是2中\n",
    "\n",
    "- interval：调度间隔性的任务。\n",
    "- cron：调度可以设置具体时间，与上一小节中的`crontab`比较像，但是更为精细，例如可以配置到秒级。\n",
    "\n",
    "例如我们配置一个间隔3秒输出当前时间的脚本"
   ]
  },
  {
   "cell_type": "code",
   "execution_count": 1,
   "metadata": {},
   "outputs": [
    {
     "name": "stdout",
     "output_type": "stream",
     "text": [
      "now is : 2020-02-26 15:39:40\n",
      "now is : 2020-02-26 15:39:43\n",
      "now is : 2020-02-26 15:39:46\n",
      "Keyboard interrupt...\n"
     ]
    }
   ],
   "source": [
    "import datetime\n",
    "from apscheduler.schedulers.blocking import BlockingScheduler\n",
    "\n",
    "\n",
    "# 定义一个要运行的任务\n",
    "def echo_time():\n",
    "    print('now is : {}'.format(datetime.datetime.now().strftime('%Y-%m-%d %H:%M:%S')))\n",
    "\n",
    "\n",
    "# 定义一个调度器\n",
    "scheduler = BlockingScheduler()\n",
    "# 设置间隔为3秒\n",
    "scheduler.add_job(echo_time, 'interval', seconds=3)\n",
    "try:\n",
    "    # 启动调度器\n",
    "    scheduler.start()\n",
    "except KeyboardInterrupt:\n",
    "    print('Keyboard interrupt...')\n",
    "except SystemExit:\n",
    "    print('System exit...')\n",
    "except Exception as e:\n",
    "    print('Error: {}'.format(e))\n",
    "finally:\n",
    "    # 关闭调度器\n",
    "    scheduler.shutdown()"
   ]
  },
  {
   "cell_type": "markdown",
   "metadata": {},
   "source": [
    "`apscheduler`使用起来也比较方便，定义一个需要的调度器，然后通过`add_job`加入要运行的任务，配置其运行的策略，这里间隔3秒，随后启动调度器，最后在停止后，关闭调度器。  \n",
    "\n",
    "例如，下面我们定一个需求，基于第三章的建模实现，现在我们每天早上8点，自动读入数据进行建模。\n",
    "\n",
    "~~~python\n",
    "from apscheduler.schedulers.blocking import BlockingScheduler\n",
    "import pandas as pd\n",
    "\n",
    "from model.pfm_model import Modeler\n",
    "from preprocess.preprocessor import Preprocessor\n",
    "\n",
    "\n",
    "# 定义一个建模任务\n",
    "def build_model():\n",
    "    data = pd.read_excel('pfm_data.xlsx')\n",
    "\n",
    "    x = data.drop(columns='Attrition')\n",
    "    y = data['Attrition']\n",
    "\n",
    "    preprocessor = Preprocessor()\n",
    "    x = preprocessor.preprocess_data(data=x)\n",
    "    preprocessor.save_transformer('preprocessor.pickle')\n",
    "\n",
    "    modeler = Modeler(x, y)\n",
    "    modeler.smote()\n",
    "    modeler.determine_hyper_params()\n",
    "    modeler.train_model()\n",
    "    modeler.save_model('logistics.model')\n",
    "\n",
    "# 定义一个调度器\n",
    "scheduler = BlockingScheduler()\n",
    "# 设置间隔为3秒\n",
    "scheduler.add_job(build_model, 'cron', hour=8)\n",
    "try:\n",
    "    # 启动调度器\n",
    "    scheduler.start()\n",
    "except KeyboardInterrupt:\n",
    "    print('Keyboard interrupt...')\n",
    "except SystemExit:\n",
    "    print('System exit...')\n",
    "except Exception as e:\n",
    "    print('Error: {}'.format(e))\n",
    "finally:\n",
    "    # 关闭调度器\n",
    "    scheduler.shutdown()\n",
    "~~~\n",
    "\n",
    "随后，我们可以将这个脚本保存为main_job.py，然后可以在`Linux`命令行中，在后台运行该脚本。\n",
    "\n",
    "~~~bash\n",
    "python main_job.py &\n",
    "~~~\n",
    "\n",
    "\n",
    "\n",
    "`apscheduler`还有许多高级功能，我们在这里就不再赘述了，有兴趣的话，可以查阅其官方文档和相关资料。"
   ]
  },
  {
   "cell_type": "markdown",
   "metadata": {},
   "source": [
    "## API"
   ]
  },
  {
   "cell_type": "markdown",
   "metadata": {},
   "source": [
    "对外提供API也是常用的部署方式，外部应用调用API获取相应的结果，其好处我们已经在第一章中`API`小节讨论过了。API方式一般比较适用于实时预测的场景，例如由上层应用通过API的形式调用预测结果。  \n",
    "Python中有好几个框架支持API，我们在这里将会使用`flask`来实现。`flask`是Python库中一个轻量级的web框架，使用也较为方便。  \n",
    "下面我们将进入`Landing`小节，用`flask`来构建一个简单的API服务，来实现使用上一章中训练好的模型通过API的形式对外提供预测服务。`flask`作为一个流行的web框架，有更多强大的功能，有兴趣的话，可以查阅更多的相关资料。"
   ]
  },
  {
   "cell_type": "markdown",
   "metadata": {},
   "source": [
    "## Landing"
   ]
  },
  {
   "cell_type": "markdown",
   "metadata": {},
   "source": [
    "本章的`Landing`部分我们将会搭建一个API服务，具体的代码可以参考`code/chp4`"
   ]
  },
  {
   "cell_type": "markdown",
   "metadata": {},
   "source": [
    "要对外提供一个API服务，我们第一步应当是和调用方定义我们的接口，和调用方约定通过什么方法调用（`GET`、`POST`请求），传什么样的数据格式等问题。  \n",
    "这里我们可以与调用方约定接受`POST`请求，使用`JSON`进行交互，然后关键的就是定义具体数据格式了。数据格式往往不是唯一的，可以有很多种方式，例如按列的方式，按行的方式等，我们在这里约定如下格式：\n",
    "\n",
    "~~~JSON\n",
    "{\n",
    "    'data': [\n",
    "        {\n",
    "            'EmployeeNumber': 999,\n",
    "            'Age': 37,\n",
    "            'BusinessTravel': 'Travel_Rarely',\n",
    "            'Department': 'Sales',\n",
    "            'DistanceFromHome': 12,\n",
    "            'Education': 4,\n",
    "            'EducationField': 'Medical',\n",
    "            'Gender': 'Female',\n",
    "            'JobSatisfaction': 4,\n",
    "            'MonthlyIncome': 9998,\n",
    "            'NumCompaniesWorked': 4,\n",
    "            'Over18': 'Y',\n",
    "            'OverTime': 'No',\n",
    "            'StandardHours': 80,\n",
    "            'TotalWorkingYears': 12,\n",
    "            'YearsAtCompany': 4\n",
    "        },\n",
    "        {\n",
    "            'EmployeeNumber': 1001,\n",
    "            'Age': 27,\n",
    "            'BusinessTravel': 'Travel_Rarely',\n",
    "            'Department': 'Sales',\n",
    "            'DistanceFromHome': 25,\n",
    "            'Education': 2,\n",
    "            'EducationField': 'Medical',\n",
    "            'Gender': 'Male',\n",
    "            'JobSatisfaction': 2,\n",
    "            'MonthlyIncome': 1200,\n",
    "            'NumCompaniesWorked': 2,\n",
    "            'Over18': 'Y',\n",
    "            'OverTime': 'No',\n",
    "            'StandardHours': 80,\n",
    "            'TotalWorkingYears': 2,\n",
    "            'YearsAtCompany': 1\n",
    "        }\n",
    "    ]\n",
    "}\n",
    "~~~\n",
    "\n",
    "`data`字段中定义一个`list`，每个元素则是一个`dict`，定义各个字段的值。  \n",
    "在确定好接口形式后，我们便可以开始实现我们的API了。"
   ]
  },
  {
   "cell_type": "markdown",
   "metadata": {},
   "source": [
    "### 后端"
   ]
  },
  {
   "cell_type": "markdown",
   "metadata": {},
   "source": [
    "我们需要先定义一个后端的功能。API首先需要读取模型，同时，也要读取预处理器，因为上游请求预测时，会传过来原始的数据，而不是经过预处理后的数据。随后使用读入的模型来实现预测方法。我们将这两个方法封装到一个类中。"
   ]
  },
  {
   "cell_type": "code",
   "execution_count": null,
   "metadata": {},
   "outputs": [],
   "source": [
    "import pickle\n",
    "\n",
    "# 引入第二章完成的preprocessor模块\n",
    "from preprocess.preprocessor import Preprocessor\n",
    "\n",
    "\n",
    "class Predictor:\n",
    "    def __init__(self, preprocessor_path, model_path):\n",
    "        '''\n",
    "\n",
    "        :param preprocessor_path: 预处理器路径\n",
    "        :param model_path: 模型路径\n",
    "        '''\n",
    "        self.preprocessor_path = preprocessor_path\n",
    "        self.model_path = model_path\n",
    "\n",
    "        self.preprocessor = None\n",
    "        self.model = None\n",
    "\n",
    "    def load_model(self):\n",
    "        '''\n",
    "        读取模型和预处理器\n",
    "        :return:\n",
    "        '''\n",
    "        # 读取预处理器\n",
    "        self.preprocessor = Preprocessor()\n",
    "        self.preprocessor.load_transformer(self.preprocessor_path)\n",
    "\n",
    "        # 读取模型\n",
    "        with open(self.model_path, 'wb') as f:\n",
    "            print('loading model from {}'.format(self.model_path))\n",
    "            self.model = pickle.load(self.model_path)\n",
    "\n",
    "    def predict(self, data):\n",
    "        '''\n",
    "        进行预测\n",
    "        :param data: 数据\n",
    "        :return:\n",
    "        '''\n",
    "        data = self.preprocessor.preprocess_data(data, train_or_test=1)\n",
    "        result = self.model.predict(data)\n",
    "        return result"
   ]
  },
  {
   "cell_type": "markdown",
   "metadata": {},
   "source": [
    "需要注意的是，`predict`方法中的`data`参数应当是一个`DataFrame`，因此在写相应API时，应当注意转换。  "
   ]
  },
  {
   "cell_type": "markdown",
   "metadata": {},
   "source": [
    "### API接口"
   ]
  },
  {
   "cell_type": "markdown",
   "metadata": {},
   "source": [
    "接下来我们可以定义API方法了。在`flask`中，需要先定义如何解析参数，我们可以使用`reqparse`模块中的`RequestParser`，然后根据约定的数据格式来定义参数解析类。"
   ]
  },
  {
   "cell_type": "code",
   "execution_count": null,
   "metadata": {},
   "outputs": [],
   "source": [
    "from flask_restful import Resource, reqparse\n",
    "import pandas as pd\n",
    "\n",
    "from backend.predictor import Predictor\n",
    "\n",
    "args = reqparse.RequestParser()\n",
    "# data字段后是list，在这里action需要使用append，类型则定义为dict\n",
    "args.add_argument('data', type=dict, action='append', required=True)"
   ]
  },
  {
   "cell_type": "markdown",
   "metadata": {},
   "source": [
    "将之前写好的`Predictor`类先实例化，并且读入模型。"
   ]
  },
  {
   "cell_type": "code",
   "execution_count": null,
   "metadata": {},
   "outputs": [],
   "source": [
    "predictor = Predictor('preprocessor.pickle', 'logistics.model')\n",
    "predictor.load_model()"
   ]
  },
  {
   "cell_type": "markdown",
   "metadata": {},
   "source": [
    "定义一个接口，继承`Resource`，并且按照之前所说的约定，实现`post`方法。"
   ]
  },
  {
   "cell_type": "code",
   "execution_count": null,
   "metadata": {},
   "outputs": [],
   "source": [
    "class Predict(Resource):\n",
    "    def post(self):\n",
    "        # 解析参数\n",
    "        data = args.parse_args()\n",
    "        # 将数据转为DataFrame\n",
    "        data = pd.DataFrame(data['data'])\n",
    "        \n",
    "        result = predictor.predict(data)\n",
    "        return result.tolist()"
   ]
  },
  {
   "cell_type": "markdown",
   "metadata": {},
   "source": [
    "我们也可以定义个模型刷新的接口，其作用是更新了模型文件后，我们可以调用这个接口，使其重新读取模型文件，这样就不用重新启动服务才能更换新的模型了。这里我们使用`GET`方法。"
   ]
  },
  {
   "cell_type": "code",
   "execution_count": null,
   "metadata": {},
   "outputs": [],
   "source": [
    "class Reload(Resource):\n",
    "    def get(self):\n",
    "        predictor.load_model()\n",
    "\n",
    "        return 'message: success to reload model'"
   ]
  },
  {
   "cell_type": "markdown",
   "metadata": {},
   "source": [
    "### 启动API服务"
   ]
  },
  {
   "cell_type": "markdown",
   "metadata": {},
   "source": [
    "最后我们需要启动我们的API服务，对外提供服务。`flask`框架中，我们需要初始化一个`Flask`类，然后添加API和其访问路径即可。"
   ]
  },
  {
   "cell_type": "code",
   "execution_count": null,
   "metadata": {},
   "outputs": [],
   "source": [
    "from flask import Flask\n",
    "from flask_restful import Api\n",
    "\n",
    "from apis.predict_api import Predict\n",
    "\n",
    "app = Flask(__name__)\n",
    "api = Api(app)\n",
    "\n",
    "# 预测接口\n",
    "api.add_resource(Predict, '/predict')\n",
    "# 模型刷新接口\n",
    "api.add_resource(Reload, '/reload')\n",
    "\n",
    "if __name__ == '__main__':\n",
    "    app.run()"
   ]
  },
  {
   "cell_type": "markdown",
   "metadata": {},
   "source": [
    "### 调用API服务"
   ]
  },
  {
   "cell_type": "markdown",
   "metadata": {},
   "source": [
    "在启动服务后，可以调用预测服务了。一般我们会将API部署在`Linux`服务器上，外部调用者可以通过你的ip进行请求。  \n",
    "这里我们的服务是在本地启动的，因此，可以请求`http://127.0.0.1:5000/predict`来调用预测服务。"
   ]
  },
  {
   "cell_type": "code",
   "execution_count": 2,
   "metadata": {},
   "outputs": [
    {
     "name": "stdout",
     "output_type": "stream",
     "text": [
      "predict results: [0, 1]\n"
     ]
    }
   ],
   "source": [
    "import json\n",
    "import requests\n",
    "\n",
    "\n",
    "# 服务地址\n",
    "predict_url = 'http://127.0.0.1:5000/predict'\n",
    "# 待预测的数据\n",
    "data = {\n",
    "    'data': [\n",
    "        {\n",
    "            'EmployeeNumber': 999,\n",
    "            'Age': 37,\n",
    "            'BusinessTravel': 'Travel_Rarely',\n",
    "            'Department': 'Sales',\n",
    "            'DistanceFromHome': 12,\n",
    "            'Education': 4,\n",
    "            'EducationField': 'Medical',\n",
    "            'Gender': 'Female',\n",
    "            'JobSatisfaction': 4,\n",
    "            'MonthlyIncome': 9998,\n",
    "            'NumCompaniesWorked': 4,\n",
    "            'Over18': 'Y',\n",
    "            'OverTime': 'No',\n",
    "            'StandardHours': 80,\n",
    "            'TotalWorkingYears': 12,\n",
    "            'YearsAtCompany': 4\n",
    "        },\n",
    "        {\n",
    "            'EmployeeNumber': 1001,\n",
    "            'Age': 27,\n",
    "            'BusinessTravel': 'Travel_Rarely',\n",
    "            'Department': 'Sales',\n",
    "            'DistanceFromHome': 25,\n",
    "            'Education': 2,\n",
    "            'EducationField': 'Medical',\n",
    "            'Gender': 'Male',\n",
    "            'JobSatisfaction': 2,\n",
    "            'MonthlyIncome': 1200,\n",
    "            'NumCompaniesWorked': 2,\n",
    "            'Over18': 'Y',\n",
    "            'OverTime': 'No',\n",
    "            'StandardHours': 80,\n",
    "            'TotalWorkingYears': 2,\n",
    "            'YearsAtCompany': 1\n",
    "        }\n",
    "    ]\n",
    "}\n",
    "\n",
    "# 调用API服务\n",
    "response = requests.post(predict_url, json=data)\n",
    "if response.status_code != 200:\n",
    "    print('error code @{}, content: {}'.format(response.status_code, response.content))\n",
    "else:\n",
    "    results = json.loads(response.content)\n",
    "    print('predict results: {}'.format(results))"
   ]
  },
  {
   "cell_type": "markdown",
   "metadata": {},
   "source": [
    "我们可以看到返回的预测的结果分别是0和1，表示不会离职和会离职。我们再调用一下重新加载模型的接口。"
   ]
  },
  {
   "cell_type": "code",
   "execution_count": 3,
   "metadata": {},
   "outputs": [
    {
     "name": "stdout",
     "output_type": "stream",
     "text": [
      "\"message: success to reload model\"\n",
      "\n"
     ]
    }
   ],
   "source": [
    "reload_url = 'http://127.0.0.1:5000/reload'\n",
    "response = requests.get(reload_url)\n",
    "print(response.content.decode('utf-8'))"
   ]
  },
  {
   "cell_type": "markdown",
   "metadata": {},
   "source": [
    "返回的结果提示我们已经成功重新加载了模型。"
   ]
  },
  {
   "cell_type": "markdown",
   "metadata": {},
   "source": [
    "## 小结"
   ]
  },
  {
   "cell_type": "markdown",
   "metadata": {},
   "source": [
    "本章主要讨论了模型完成，我们如何进行部署，主要讲述了定时任何和API两种方式。部署完成后，我们的模型便能开始实际应用了。  \n",
    "本章讲述的还是比较浅显，在实践中，还需要考虑响应时间，机器资源消耗情况（如CPU消耗，内存消耗）等各方面情况，但是，希望通过我们这一章节，能够使大家能大致了解模型最终是如何被应用起来的。"
   ]
  }
 ],
 "metadata": {
  "kernelspec": {
   "display_name": "Python 3",
   "language": "python",
   "name": "python3"
  },
  "language_info": {
   "codemirror_mode": {
    "name": "ipython",
    "version": 3
   },
   "file_extension": ".py",
   "mimetype": "text/x-python",
   "name": "python",
   "nbconvert_exporter": "python",
   "pygments_lexer": "ipython3",
   "version": "3.6.3"
  }
 },
 "nbformat": 4,
 "nbformat_minor": 4
}
