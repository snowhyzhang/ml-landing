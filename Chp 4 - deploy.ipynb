{
 "cells": [
  {
   "cell_type": "markdown",
   "metadata": {},
   "source": [
    "# 第四章 部署"
   ]
  },
  {
   "cell_type": "markdown",
   "metadata": {},
   "source": [
    "部署是将我们的模型用于实际应用的关键一步。部署的方式有很多，本章我们主要讨论两种常用的形式：定时任务和API。"
   ]
  },
  {
   "cell_type": "markdown",
   "metadata": {},
   "source": [
    "## 定时任务"
   ]
  },
  {
   "cell_type": "markdown",
   "metadata": {},
   "source": [
    "定时任务就是按一定规定时间或者间隔一定时间运行我们的程序，例如每天早上9点运行，每小时运行一次等。这里我们将介绍2个中方法，一种是在`Linux`系统下，使用`crontab`方法；另一种方法是使用`apscheduler`库。"
   ]
  },
  {
   "cell_type": "markdown",
   "metadata": {},
   "source": [
    "### crontab"
   ]
  },
  {
   "cell_type": "markdown",
   "metadata": {},
   "source": [
    "`crontab`可以用于设置周期性被执行的指令。可以在`Linux`系统中键入`crontab`命令，使用`crontab`。"
   ]
  },
  {
   "cell_type": "markdown",
   "metadata": {},
   "source": [
    "~~~bash\n",
    "crontab -e\n",
    "~~~"
   ]
  },
  {
   "cell_type": "markdown",
   "metadata": {},
   "source": [
    "### apscheduler"
   ]
  },
  {
   "cell_type": "code",
   "execution_count": null,
   "metadata": {},
   "outputs": [],
   "source": []
  }
 ],
 "metadata": {
  "kernelspec": {
   "display_name": "Python 3",
   "language": "python",
   "name": "python3"
  },
  "language_info": {
   "codemirror_mode": {
    "name": "ipython",
    "version": 3
   },
   "file_extension": ".py",
   "mimetype": "text/x-python",
   "name": "python",
   "nbconvert_exporter": "python",
   "pygments_lexer": "ipython3",
   "version": "3.6.3"
  }
 },
 "nbformat": 4,
 "nbformat_minor": 4
}
