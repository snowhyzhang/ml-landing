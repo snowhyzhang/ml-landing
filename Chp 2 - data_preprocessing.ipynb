{
 "cells": [
  {
   "cell_type": "markdown",
   "metadata": {},
   "source": [
    "# 第二章 数据预处理"
   ]
  },
  {
   "cell_type": "markdown",
   "metadata": {},
   "source": [
    "在机器学习中，有一句常被提起的话：`garbage in, garbage out`，意思是如果数据清理的不干净，数据质量低下，那么再好的算法，输出的模型也是无用的，甚至比随机预测还要糟糕。因此，数据预处理在整个机器学习过程中，起了巨大的作用，对数据没有一个好的预处理过程，往往会产出无用的模型。数据预处理又是一个非常大的领域，针对不同的数据类型，例如表格数据、文字、图像、音频等，会有各种预处理的方法，在本章节，我们将讨论一些常用的对于表格数据预处理方法。  \n",
    "本章节我们将会基于一个预测员工离职的数据展开数据预处理讨论。我们对原始数据进行了一定的删减，原始数据可以在[这里](https://www.pkbigdata.com/common/cmpt/%E5%91%98%E5%B7%A5%E7%A6%BB%E8%81%8C%E9%A2%84%E6%B5%8B%E8%AE%AD%E7%BB%83%E8%B5%9B_%E8%B5%9B%E4%BD%93%E4%B8%8E%E6%95%B0%E6%8D%AE.html)找到"
   ]
  },
  {
   "cell_type": "markdown",
   "metadata": {},
   "source": [
    "## 理解业务背景"
   ]
  },
  {
   "cell_type": "markdown",
   "metadata": {},
   "source": [
    "机器学习任务往往是为了业务需要而服务的，大多数需求都是由业务部门所提出的。因此当我们接手一个机器学习的任务时，第一步并不是急着获取数据，处理数据和建立机器学习模型，相反的，我们应当抽出一定的时间去和业务部门去讨论需求，明白整个业务流程和所接手的机器学习任务在整个业务中的位置和作用。  \n",
    "与业务部门讨论相关背景在实践中往往是很重要的一环，而盲目的对着手数据进行处理，反而有时适得其反。例如你很可能得出一个业务上“众所周知”的结论。当你兴奋地告诉业务负责人：我发现每月底你的XX产品销量都会上升，需要多备货，业务负责人可能会不削地告诉你，这个是产品特点，大家都会在月底买我们的产品。因此，当与业务部门讨论业务时，尽可能获取多的业务领域的知识，我们应当站在业务领域的肩膀上来展开我们的工作，这样能做出更多具有创造性的工作。  "
   ]
  },
  {
   "cell_type": "markdown",
   "metadata": {},
   "source": [
    "## 预览数据"
   ]
  },
  {
   "cell_type": "markdown",
   "metadata": {},
   "source": [
    "假设HR部门收集了员工的一些资料，想判断一下这些员工是否会离职，因此他们给了我们一个Excel文件，我们和他们讨论这些数据，数据字段的说明如下：\n",
    "\n",
    "- EmployeeNumber：员工号码\n",
    "- Age：年龄\n",
    "- BusinessTravel：商务差旅频率，Non-Travel表示不出差；Travel_Rarely表示不经常出差；Travel_Frequently表示经常出差\n",
    "- Department：员工所在部门，Sales表示销售部；Research & Development表示研发部；Human Resources表示人力资源部\n",
    "- DistanceFromHome：公司跟家庭住址的距离，从1到29，1表示最近，29表示最远\n",
    "- Education：员工的教育程度，从1到5，5表示教育程度最高\n",
    "- EducationField：员工所学习的专业领域，Life Sciences表示生命科学；Medical表示医疗；Marketing表示市场营销；Technical Degree表示技术学位；Human Resources表示人力资源；Other表示其他\n",
    "- Gender：员工性别，Male表示男性；Female表示女性\n",
    "- JobSatisfaction：工作满意度，从1到4，1代表满意程度最低，4代表满意程度最高\n",
    "- MonthlyIncome：员工月收入，范围在1009到19999之间\n",
    "- NumCompaniesWorked：员工曾经工作过的公司数\n",
    "- Over18：年龄是否超过18岁\n",
    "- OverTime：是否加班，Yes表示加班；No表示不加班\n",
    "- StandardHours：标准工时\n",
    "- TotalWorkingYears：总工龄\n",
    "- YearsAtCompany：在目前公司工作年数\n",
    "- Attrition：我们的预测目标，员工是否已经离职，0表示未离职；1表示已经离职\n",
    "\n",
    "通常拿到数据后，我先会预览一下这些数据，了解一下数据的大致情况。  \n",
    "首先，我们确定一下这些数据的类型，一般分为数值类型（如长度、薪资等）、时间类型（如日期、时间戳等）、类别类型（如颜色、国家等）等。  \n",
    "一般来说，文字型的字段一般都是类别类型，例如`BusinessTravel`、`Department`等；数字型的字段一般为数值类型，例如`Age`、`MonthlyIncome`等。这里需要注意的是`Education`、`JobSatisfaction`这两个字段虽然是数字，但是类似这些“等级”类型的数据，我们当作类别类型处理更为妥当。  \n",
    "有时，类别类型和数值类型并不是绝对的，例如年龄数据，有时候也可以看做是一个类别类型，例如18岁，18既是表示岁数的数值，同时也是代表18岁这个年龄的“一类人”。因此这些需要视具体情况而定，灵活使用。  \n",
    "在确定类型后，我们先看下整体数据是否有缺失，缺失数据的分布情况；其次我们可以分开来观察不同类型的数据，数值类型的数据我们可以看下他们的均值、标准差等；类别类型的数据我们可以看下他们的各个类别的数量分布情况等；最后，我们先初步观察下这些数据是否有一些特别明显的异常数据，例如一些与尝试相违背的数据，如年龄填的是999，很可能是某种特别标记，也可能是输入错误。  \n",
    "接下来我们来实际操作一下。"
   ]
  },
  {
   "cell_type": "markdown",
   "metadata": {},
   "source": [
    "### 读入数据"
   ]
  },
  {
   "cell_type": "markdown",
   "metadata": {},
   "source": [
    "读入数据这部分我们已经在数据来源这块中已经详细阐述了，我们这里使用`pandas`库中的`read_excel`读入这些数据。"
   ]
  },
  {
   "cell_type": "code",
   "execution_count": 35,
   "metadata": {},
   "outputs": [
    {
     "data": {
      "text/html": [
       "<div>\n",
       "<style scoped>\n",
       "    .dataframe tbody tr th:only-of-type {\n",
       "        vertical-align: middle;\n",
       "    }\n",
       "\n",
       "    .dataframe tbody tr th {\n",
       "        vertical-align: top;\n",
       "    }\n",
       "\n",
       "    .dataframe thead th {\n",
       "        text-align: right;\n",
       "    }\n",
       "</style>\n",
       "<table border=\"1\" class=\"dataframe\">\n",
       "  <thead>\n",
       "    <tr style=\"text-align: right;\">\n",
       "      <th></th>\n",
       "      <th>EmployeeNumber</th>\n",
       "      <th>Age</th>\n",
       "      <th>BusinessTravel</th>\n",
       "      <th>Department</th>\n",
       "      <th>DistanceFromHome</th>\n",
       "      <th>Education</th>\n",
       "      <th>EducationField</th>\n",
       "      <th>Gender</th>\n",
       "      <th>JobSatisfaction</th>\n",
       "      <th>MonthlyIncome</th>\n",
       "      <th>NumCompaniesWorked</th>\n",
       "      <th>Over18</th>\n",
       "      <th>OverTime</th>\n",
       "      <th>StandardHours</th>\n",
       "      <th>TotalWorkingYears</th>\n",
       "      <th>YearsAtCompany</th>\n",
       "      <th>Attrition</th>\n",
       "    </tr>\n",
       "  </thead>\n",
       "  <tbody>\n",
       "    <tr>\n",
       "      <th>0</th>\n",
       "      <td>77</td>\n",
       "      <td>37</td>\n",
       "      <td>Travel_Rarely</td>\n",
       "      <td>Research &amp; Development</td>\n",
       "      <td>1</td>\n",
       "      <td>4</td>\n",
       "      <td>Life Sciences</td>\n",
       "      <td>Male</td>\n",
       "      <td>3</td>\n",
       "      <td>5993</td>\n",
       "      <td>1</td>\n",
       "      <td>Y</td>\n",
       "      <td>No</td>\n",
       "      <td>80</td>\n",
       "      <td>7</td>\n",
       "      <td>7</td>\n",
       "      <td>0</td>\n",
       "    </tr>\n",
       "    <tr>\n",
       "      <th>1</th>\n",
       "      <td>1245</td>\n",
       "      <td>54</td>\n",
       "      <td>Travel_Frequently</td>\n",
       "      <td>Research &amp; Development</td>\n",
       "      <td>1</td>\n",
       "      <td>4</td>\n",
       "      <td>Life Sciences</td>\n",
       "      <td>Female</td>\n",
       "      <td>3</td>\n",
       "      <td>10502</td>\n",
       "      <td>7</td>\n",
       "      <td>Y</td>\n",
       "      <td>No</td>\n",
       "      <td>80</td>\n",
       "      <td>33</td>\n",
       "      <td>5</td>\n",
       "      <td>0</td>\n",
       "    </tr>\n",
       "    <tr>\n",
       "      <th>2</th>\n",
       "      <td>147</td>\n",
       "      <td>34</td>\n",
       "      <td>Travel_Frequently</td>\n",
       "      <td>Research &amp; Development</td>\n",
       "      <td>7</td>\n",
       "      <td>3</td>\n",
       "      <td>Life Sciences</td>\n",
       "      <td>Male</td>\n",
       "      <td>3</td>\n",
       "      <td>6074</td>\n",
       "      <td>1</td>\n",
       "      <td>Y</td>\n",
       "      <td>Yes</td>\n",
       "      <td>80</td>\n",
       "      <td>9</td>\n",
       "      <td>9</td>\n",
       "      <td>1</td>\n",
       "    </tr>\n",
       "    <tr>\n",
       "      <th>3</th>\n",
       "      <td>1026</td>\n",
       "      <td>39</td>\n",
       "      <td>Travel_Rarely</td>\n",
       "      <td>Research &amp; Development</td>\n",
       "      <td>1</td>\n",
       "      <td>1</td>\n",
       "      <td>Life Sciences</td>\n",
       "      <td>Female</td>\n",
       "      <td>4</td>\n",
       "      <td>12742</td>\n",
       "      <td>1</td>\n",
       "      <td>Y</td>\n",
       "      <td>No</td>\n",
       "      <td>80</td>\n",
       "      <td>21</td>\n",
       "      <td>21</td>\n",
       "      <td>0</td>\n",
       "    </tr>\n",
       "    <tr>\n",
       "      <th>4</th>\n",
       "      <td>1111</td>\n",
       "      <td>28</td>\n",
       "      <td>Travel_Frequently</td>\n",
       "      <td>Research &amp; Development</td>\n",
       "      <td>1</td>\n",
       "      <td>3</td>\n",
       "      <td>Medical</td>\n",
       "      <td>Male</td>\n",
       "      <td>2</td>\n",
       "      <td>2596</td>\n",
       "      <td>1</td>\n",
       "      <td>Y</td>\n",
       "      <td>No</td>\n",
       "      <td>80</td>\n",
       "      <td>1</td>\n",
       "      <td>1</td>\n",
       "      <td>1</td>\n",
       "    </tr>\n",
       "  </tbody>\n",
       "</table>\n",
       "</div>"
      ],
      "text/plain": [
       "   EmployeeNumber  Age     BusinessTravel              Department  \\\n",
       "0              77   37      Travel_Rarely  Research & Development   \n",
       "1            1245   54  Travel_Frequently  Research & Development   \n",
       "2             147   34  Travel_Frequently  Research & Development   \n",
       "3            1026   39      Travel_Rarely  Research & Development   \n",
       "4            1111   28  Travel_Frequently  Research & Development   \n",
       "\n",
       "   DistanceFromHome  Education EducationField  Gender  JobSatisfaction  \\\n",
       "0                 1          4  Life Sciences    Male                3   \n",
       "1                 1          4  Life Sciences  Female                3   \n",
       "2                 7          3  Life Sciences    Male                3   \n",
       "3                 1          1  Life Sciences  Female                4   \n",
       "4                 1          3        Medical    Male                2   \n",
       "\n",
       "   MonthlyIncome  NumCompaniesWorked Over18 OverTime  StandardHours  \\\n",
       "0           5993                   1      Y       No             80   \n",
       "1          10502                   7      Y       No             80   \n",
       "2           6074                   1      Y      Yes             80   \n",
       "3          12742                   1      Y       No             80   \n",
       "4           2596                   1      Y       No             80   \n",
       "\n",
       "   TotalWorkingYears  YearsAtCompany  Attrition  \n",
       "0                  7               7          0  \n",
       "1                 33               5          0  \n",
       "2                  9               9          1  \n",
       "3                 21              21          0  \n",
       "4                  1               1          1  "
      ]
     },
     "execution_count": 35,
     "metadata": {},
     "output_type": "execute_result"
    }
   ],
   "source": [
    "# 读入数据\n",
    "\n",
    "import pandas as pd\n",
    "\n",
    "data = pd.read_excel('data/pfm_data.xlsx')\n",
    "# 使用head方法观察前5行数据和数据的列\n",
    "data.head()"
   ]
  },
  {
   "cell_type": "markdown",
   "metadata": {},
   "source": [
    "通过`shape`我们可以看到数据的行数与列数"
   ]
  },
  {
   "cell_type": "code",
   "execution_count": 36,
   "metadata": {},
   "outputs": [
    {
     "data": {
      "text/plain": [
       "(1100, 17)"
      ]
     },
     "execution_count": 36,
     "metadata": {},
     "output_type": "execute_result"
    }
   ],
   "source": [
    "# 查看数据行数和列数\n",
    "\n",
    "data.shape"
   ]
  },
  {
   "cell_type": "markdown",
   "metadata": {},
   "source": [
    "这数据集一共有1100条数据，共有16列。"
   ]
  },
  {
   "cell_type": "markdown",
   "metadata": {},
   "source": [
    "### 删除ID列"
   ]
  },
  {
   "cell_type": "markdown",
   "metadata": {},
   "source": [
    "一般情况下，样本`ID`在预测中基本上不起什么作用，因为他只是标示不同的样本，如本例中标示的是员工，大部分情况下我们会选择删除这列数据。但有时候也会蕴藏一些信息，例如`ID`号比较小的可能是老员工，比较大的是新员工，但是一般在其他信息中，例如在公司工作的时长，会隐含这些信息，因此我们在这里选择删除这一列。  \n",
    "这里我们使用`drop`方法。`drop`方法可以按照`axis`参数标示的方向进行数据丢弃，其中`0`表示行方向，`1`表示列方向。在较老版本的`pandas`中，去掉某一列需要`axis`设置为`1`，比较麻烦，在较新的版本中，我们可以直接使用`columns`参数来指定需要去掉的列即可。  \n",
    "还有个参数也会经常用到，就是`inplace`，当`inplace`被设置为`True`时，表示这个改动在原有的`DataFrame`上进行，而不是返回一个`DataFrame`。`DataFrame`中其他的一些需要做变换的操作中，例如`fillna`、`rename`，都有这个函数。  "
   ]
  },
  {
   "cell_type": "code",
   "execution_count": 37,
   "metadata": {},
   "outputs": [
    {
     "data": {
      "text/html": [
       "<div>\n",
       "<style scoped>\n",
       "    .dataframe tbody tr th:only-of-type {\n",
       "        vertical-align: middle;\n",
       "    }\n",
       "\n",
       "    .dataframe tbody tr th {\n",
       "        vertical-align: top;\n",
       "    }\n",
       "\n",
       "    .dataframe thead th {\n",
       "        text-align: right;\n",
       "    }\n",
       "</style>\n",
       "<table border=\"1\" class=\"dataframe\">\n",
       "  <thead>\n",
       "    <tr style=\"text-align: right;\">\n",
       "      <th></th>\n",
       "      <th>Age</th>\n",
       "      <th>BusinessTravel</th>\n",
       "      <th>Department</th>\n",
       "      <th>DistanceFromHome</th>\n",
       "      <th>Education</th>\n",
       "      <th>EducationField</th>\n",
       "      <th>Gender</th>\n",
       "      <th>JobSatisfaction</th>\n",
       "      <th>MonthlyIncome</th>\n",
       "      <th>NumCompaniesWorked</th>\n",
       "      <th>Over18</th>\n",
       "      <th>OverTime</th>\n",
       "      <th>StandardHours</th>\n",
       "      <th>TotalWorkingYears</th>\n",
       "      <th>YearsAtCompany</th>\n",
       "      <th>Attrition</th>\n",
       "    </tr>\n",
       "  </thead>\n",
       "  <tbody>\n",
       "    <tr>\n",
       "      <th>0</th>\n",
       "      <td>37</td>\n",
       "      <td>Travel_Rarely</td>\n",
       "      <td>Research &amp; Development</td>\n",
       "      <td>1</td>\n",
       "      <td>4</td>\n",
       "      <td>Life Sciences</td>\n",
       "      <td>Male</td>\n",
       "      <td>3</td>\n",
       "      <td>5993</td>\n",
       "      <td>1</td>\n",
       "      <td>Y</td>\n",
       "      <td>No</td>\n",
       "      <td>80</td>\n",
       "      <td>7</td>\n",
       "      <td>7</td>\n",
       "      <td>0</td>\n",
       "    </tr>\n",
       "    <tr>\n",
       "      <th>1</th>\n",
       "      <td>54</td>\n",
       "      <td>Travel_Frequently</td>\n",
       "      <td>Research &amp; Development</td>\n",
       "      <td>1</td>\n",
       "      <td>4</td>\n",
       "      <td>Life Sciences</td>\n",
       "      <td>Female</td>\n",
       "      <td>3</td>\n",
       "      <td>10502</td>\n",
       "      <td>7</td>\n",
       "      <td>Y</td>\n",
       "      <td>No</td>\n",
       "      <td>80</td>\n",
       "      <td>33</td>\n",
       "      <td>5</td>\n",
       "      <td>0</td>\n",
       "    </tr>\n",
       "    <tr>\n",
       "      <th>2</th>\n",
       "      <td>34</td>\n",
       "      <td>Travel_Frequently</td>\n",
       "      <td>Research &amp; Development</td>\n",
       "      <td>7</td>\n",
       "      <td>3</td>\n",
       "      <td>Life Sciences</td>\n",
       "      <td>Male</td>\n",
       "      <td>3</td>\n",
       "      <td>6074</td>\n",
       "      <td>1</td>\n",
       "      <td>Y</td>\n",
       "      <td>Yes</td>\n",
       "      <td>80</td>\n",
       "      <td>9</td>\n",
       "      <td>9</td>\n",
       "      <td>1</td>\n",
       "    </tr>\n",
       "    <tr>\n",
       "      <th>3</th>\n",
       "      <td>39</td>\n",
       "      <td>Travel_Rarely</td>\n",
       "      <td>Research &amp; Development</td>\n",
       "      <td>1</td>\n",
       "      <td>1</td>\n",
       "      <td>Life Sciences</td>\n",
       "      <td>Female</td>\n",
       "      <td>4</td>\n",
       "      <td>12742</td>\n",
       "      <td>1</td>\n",
       "      <td>Y</td>\n",
       "      <td>No</td>\n",
       "      <td>80</td>\n",
       "      <td>21</td>\n",
       "      <td>21</td>\n",
       "      <td>0</td>\n",
       "    </tr>\n",
       "    <tr>\n",
       "      <th>4</th>\n",
       "      <td>28</td>\n",
       "      <td>Travel_Frequently</td>\n",
       "      <td>Research &amp; Development</td>\n",
       "      <td>1</td>\n",
       "      <td>3</td>\n",
       "      <td>Medical</td>\n",
       "      <td>Male</td>\n",
       "      <td>2</td>\n",
       "      <td>2596</td>\n",
       "      <td>1</td>\n",
       "      <td>Y</td>\n",
       "      <td>No</td>\n",
       "      <td>80</td>\n",
       "      <td>1</td>\n",
       "      <td>1</td>\n",
       "      <td>1</td>\n",
       "    </tr>\n",
       "  </tbody>\n",
       "</table>\n",
       "</div>"
      ],
      "text/plain": [
       "   Age     BusinessTravel              Department  DistanceFromHome  \\\n",
       "0   37      Travel_Rarely  Research & Development                 1   \n",
       "1   54  Travel_Frequently  Research & Development                 1   \n",
       "2   34  Travel_Frequently  Research & Development                 7   \n",
       "3   39      Travel_Rarely  Research & Development                 1   \n",
       "4   28  Travel_Frequently  Research & Development                 1   \n",
       "\n",
       "   Education EducationField  Gender  JobSatisfaction  MonthlyIncome  \\\n",
       "0          4  Life Sciences    Male                3           5993   \n",
       "1          4  Life Sciences  Female                3          10502   \n",
       "2          3  Life Sciences    Male                3           6074   \n",
       "3          1  Life Sciences  Female                4          12742   \n",
       "4          3        Medical    Male                2           2596   \n",
       "\n",
       "   NumCompaniesWorked Over18 OverTime  StandardHours  TotalWorkingYears  \\\n",
       "0                   1      Y       No             80                  7   \n",
       "1                   7      Y       No             80                 33   \n",
       "2                   1      Y      Yes             80                  9   \n",
       "3                   1      Y       No             80                 21   \n",
       "4                   1      Y       No             80                  1   \n",
       "\n",
       "   YearsAtCompany  Attrition  \n",
       "0               7          0  \n",
       "1               5          0  \n",
       "2               9          1  \n",
       "3              21          0  \n",
       "4               1          1  "
      ]
     },
     "execution_count": 37,
     "metadata": {},
     "output_type": "execute_result"
    }
   ],
   "source": [
    "# 删除EmployeeNumber列\n",
    "\n",
    "data.drop(columns='EmployeeNumber', inplace=True)\n",
    "data.head()"
   ]
  },
  {
   "cell_type": "markdown",
   "metadata": {},
   "source": [
    "### 观察数据缺失情况"
   ]
  },
  {
   "cell_type": "markdown",
   "metadata": {},
   "source": [
    "我们可以使用`info`方法来查看当前数据集中是否有缺失值。"
   ]
  },
  {
   "cell_type": "code",
   "execution_count": 38,
   "metadata": {},
   "outputs": [
    {
     "name": "stdout",
     "output_type": "stream",
     "text": [
      "<class 'pandas.core.frame.DataFrame'>\n",
      "RangeIndex: 1100 entries, 0 to 1099\n",
      "Data columns (total 16 columns):\n",
      "Age                   1100 non-null int64\n",
      "BusinessTravel        1100 non-null object\n",
      "Department            1100 non-null object\n",
      "DistanceFromHome      1100 non-null int64\n",
      "Education             1100 non-null int64\n",
      "EducationField        1100 non-null object\n",
      "Gender                1100 non-null object\n",
      "JobSatisfaction       1100 non-null int64\n",
      "MonthlyIncome         1100 non-null int64\n",
      "NumCompaniesWorked    1100 non-null int64\n",
      "Over18                1100 non-null object\n",
      "OverTime              1100 non-null object\n",
      "StandardHours         1100 non-null int64\n",
      "TotalWorkingYears     1100 non-null int64\n",
      "YearsAtCompany        1100 non-null int64\n",
      "Attrition             1100 non-null int64\n",
      "dtypes: int64(10), object(6)\n",
      "memory usage: 137.6+ KB\n"
     ]
    }
   ],
   "source": [
    "data.info()"
   ]
  },
  {
   "cell_type": "markdown",
   "metadata": {},
   "source": [
    "从上面的结果中可以看到每列数据的非缺失值的数量，即`non-null`，每列都有1100条`non-null`数据，说明我们的数据集中不存在缺失值的情况。如果出现了缺失值，那么我们改如何处理呢？这个我们将在后面的小节中，讨论处理缺失值的方式。"
   ]
  },
  {
   "cell_type": "markdown",
   "metadata": {},
   "source": [
    "### 观察给类型下的数据概况"
   ]
  },
  {
   "cell_type": "markdown",
   "metadata": {},
   "source": [
    "按照前面所述，我们先将`Education`、`JobSatisfaction`这两列转为`str`类型，将其作为类别类型数据。  \n",
    "我们可以使用`astype`方法进行数据类型转换。"
   ]
  },
  {
   "cell_type": "code",
   "execution_count": 39,
   "metadata": {},
   "outputs": [],
   "source": [
    "# 将Education、JobSatisfaction转为str类型\n",
    "\n",
    "data['Education'] = data['Education'].astype(str)\n",
    "data['JobSatisfaction'] = data['JobSatisfaction'].astype(str)"
   ]
  },
  {
   "cell_type": "markdown",
   "metadata": {},
   "source": [
    "我们可以使用`dtypes`来查看数据类型是否与我们之前讨论的一致。"
   ]
  },
  {
   "cell_type": "code",
   "execution_count": 40,
   "metadata": {},
   "outputs": [
    {
     "data": {
      "text/plain": [
       "Age                    int64\n",
       "BusinessTravel        object\n",
       "Department            object\n",
       "DistanceFromHome       int64\n",
       "Education             object\n",
       "EducationField        object\n",
       "Gender                object\n",
       "JobSatisfaction       object\n",
       "MonthlyIncome          int64\n",
       "NumCompaniesWorked     int64\n",
       "Over18                object\n",
       "OverTime              object\n",
       "StandardHours          int64\n",
       "TotalWorkingYears      int64\n",
       "YearsAtCompany         int64\n",
       "Attrition              int64\n",
       "dtype: object"
      ]
     },
     "execution_count": 40,
     "metadata": {},
     "output_type": "execute_result"
    }
   ],
   "source": [
    "data.dtypes"
   ]
  },
  {
   "cell_type": "markdown",
   "metadata": {},
   "source": [
    "接下来我们将各类型的列名分开，放入两个`list`中"
   ]
  },
  {
   "cell_type": "code",
   "execution_count": 41,
   "metadata": {},
   "outputs": [
    {
     "data": {
      "text/plain": [
       "(['Age',\n",
       "  'DistanceFromHome',\n",
       "  'MonthlyIncome',\n",
       "  'NumCompaniesWorked',\n",
       "  'StandardHours',\n",
       "  'TotalWorkingYears',\n",
       "  'YearsAtCompany',\n",
       "  'Attrition'],\n",
       " ['BusinessTravel',\n",
       "  'Department',\n",
       "  'Education',\n",
       "  'EducationField',\n",
       "  'Gender',\n",
       "  'JobSatisfaction',\n",
       "  'Over18',\n",
       "  'OverTime'])"
      ]
     },
     "execution_count": 41,
     "metadata": {},
     "output_type": "execute_result"
    }
   ],
   "source": [
    "# 选择数值类型列\n",
    "num_cols = data.select_dtypes(include='number').columns.tolist()\n",
    "# 选择类别类型列\n",
    "cls_cols = data.select_dtypes(include='object').columns.tolist()\n",
    "\n",
    "num_cols, cls_cols"
   ]
  },
  {
   "cell_type": "markdown",
   "metadata": {},
   "source": [
    "#### 观察数值类型数据"
   ]
  },
  {
   "cell_type": "markdown",
   "metadata": {},
   "source": [
    "我们先来观察一下数值类型的数据情况。我们可以直接使用`describe`（`describe`方法默认是查看数值类型数据的）方法进行查看。`describe`方法会展示样本数量、均值、标准差、最小值、第一四分位数、中位数、第三四分位数以及最大值的情况。"
   ]
  },
  {
   "cell_type": "code",
   "execution_count": 46,
   "metadata": {},
   "outputs": [
    {
     "data": {
      "text/html": [
       "<div>\n",
       "<style scoped>\n",
       "    .dataframe tbody tr th:only-of-type {\n",
       "        vertical-align: middle;\n",
       "    }\n",
       "\n",
       "    .dataframe tbody tr th {\n",
       "        vertical-align: top;\n",
       "    }\n",
       "\n",
       "    .dataframe thead th {\n",
       "        text-align: right;\n",
       "    }\n",
       "</style>\n",
       "<table border=\"1\" class=\"dataframe\">\n",
       "  <thead>\n",
       "    <tr style=\"text-align: right;\">\n",
       "      <th></th>\n",
       "      <th>Age</th>\n",
       "      <th>DistanceFromHome</th>\n",
       "      <th>MonthlyIncome</th>\n",
       "      <th>NumCompaniesWorked</th>\n",
       "      <th>StandardHours</th>\n",
       "      <th>TotalWorkingYears</th>\n",
       "      <th>YearsAtCompany</th>\n",
       "      <th>Attrition</th>\n",
       "    </tr>\n",
       "  </thead>\n",
       "  <tbody>\n",
       "    <tr>\n",
       "      <th>count</th>\n",
       "      <td>1100.000000</td>\n",
       "      <td>1100.000000</td>\n",
       "      <td>1100.000000</td>\n",
       "      <td>1100.000000</td>\n",
       "      <td>1100.0</td>\n",
       "      <td>1100.000000</td>\n",
       "      <td>1100.000000</td>\n",
       "      <td>1100.000000</td>\n",
       "    </tr>\n",
       "    <tr>\n",
       "      <th>mean</th>\n",
       "      <td>36.999091</td>\n",
       "      <td>9.427273</td>\n",
       "      <td>6483.620909</td>\n",
       "      <td>2.683636</td>\n",
       "      <td>80.0</td>\n",
       "      <td>11.221818</td>\n",
       "      <td>7.011818</td>\n",
       "      <td>0.161818</td>\n",
       "    </tr>\n",
       "    <tr>\n",
       "      <th>std</th>\n",
       "      <td>9.037230</td>\n",
       "      <td>8.196694</td>\n",
       "      <td>4715.293419</td>\n",
       "      <td>2.510017</td>\n",
       "      <td>0.0</td>\n",
       "      <td>7.825548</td>\n",
       "      <td>6.223093</td>\n",
       "      <td>0.368451</td>\n",
       "    </tr>\n",
       "    <tr>\n",
       "      <th>min</th>\n",
       "      <td>18.000000</td>\n",
       "      <td>1.000000</td>\n",
       "      <td>1009.000000</td>\n",
       "      <td>0.000000</td>\n",
       "      <td>80.0</td>\n",
       "      <td>0.000000</td>\n",
       "      <td>0.000000</td>\n",
       "      <td>0.000000</td>\n",
       "    </tr>\n",
       "    <tr>\n",
       "      <th>25%</th>\n",
       "      <td>30.000000</td>\n",
       "      <td>2.000000</td>\n",
       "      <td>2924.500000</td>\n",
       "      <td>1.000000</td>\n",
       "      <td>80.0</td>\n",
       "      <td>6.000000</td>\n",
       "      <td>3.000000</td>\n",
       "      <td>0.000000</td>\n",
       "    </tr>\n",
       "    <tr>\n",
       "      <th>50%</th>\n",
       "      <td>36.000000</td>\n",
       "      <td>7.000000</td>\n",
       "      <td>4857.000000</td>\n",
       "      <td>2.000000</td>\n",
       "      <td>80.0</td>\n",
       "      <td>10.000000</td>\n",
       "      <td>5.000000</td>\n",
       "      <td>0.000000</td>\n",
       "    </tr>\n",
       "    <tr>\n",
       "      <th>75%</th>\n",
       "      <td>43.000000</td>\n",
       "      <td>15.000000</td>\n",
       "      <td>8354.500000</td>\n",
       "      <td>4.000000</td>\n",
       "      <td>80.0</td>\n",
       "      <td>15.000000</td>\n",
       "      <td>9.000000</td>\n",
       "      <td>0.000000</td>\n",
       "    </tr>\n",
       "    <tr>\n",
       "      <th>max</th>\n",
       "      <td>60.000000</td>\n",
       "      <td>29.000000</td>\n",
       "      <td>19999.000000</td>\n",
       "      <td>9.000000</td>\n",
       "      <td>80.0</td>\n",
       "      <td>40.000000</td>\n",
       "      <td>37.000000</td>\n",
       "      <td>1.000000</td>\n",
       "    </tr>\n",
       "  </tbody>\n",
       "</table>\n",
       "</div>"
      ],
      "text/plain": [
       "               Age  DistanceFromHome  MonthlyIncome  NumCompaniesWorked  \\\n",
       "count  1100.000000       1100.000000    1100.000000         1100.000000   \n",
       "mean     36.999091          9.427273    6483.620909            2.683636   \n",
       "std       9.037230          8.196694    4715.293419            2.510017   \n",
       "min      18.000000          1.000000    1009.000000            0.000000   \n",
       "25%      30.000000          2.000000    2924.500000            1.000000   \n",
       "50%      36.000000          7.000000    4857.000000            2.000000   \n",
       "75%      43.000000         15.000000    8354.500000            4.000000   \n",
       "max      60.000000         29.000000   19999.000000            9.000000   \n",
       "\n",
       "       StandardHours  TotalWorkingYears  YearsAtCompany    Attrition  \n",
       "count         1100.0        1100.000000     1100.000000  1100.000000  \n",
       "mean            80.0          11.221818        7.011818     0.161818  \n",
       "std              0.0           7.825548        6.223093     0.368451  \n",
       "min             80.0           0.000000        0.000000     0.000000  \n",
       "25%             80.0           6.000000        3.000000     0.000000  \n",
       "50%             80.0          10.000000        5.000000     0.000000  \n",
       "75%             80.0          15.000000        9.000000     0.000000  \n",
       "max             80.0          40.000000       37.000000     1.000000  "
      ]
     },
     "execution_count": 46,
     "metadata": {},
     "output_type": "execute_result"
    }
   ],
   "source": [
    "data.describe()"
   ]
  },
  {
   "cell_type": "markdown",
   "metadata": {},
   "source": [
    "我们可以从上面的结果中看到，`StandardHours`的标准差为0，也就意味着这一列全部都是80，这个对于我们预测是没有任何帮助的，因此我们可以将其删除。同时，我们可以看到`Attrition`的均值是0.161818，那意味着数据集中有16.18%的样本是离职的，可以看出这个数据集可能是`不平衡数据集`，即0和1的个数并不是接近于1:1的，这在随后的处理中，例如平衡样本个数、选择评估标准等，是需要注意的。"
   ]
  },
  {
   "cell_type": "markdown",
   "metadata": {},
   "source": [
    "我们也可以通过可视化的方法来观察这些数据，查看下是否有异常值等情况存在。  \n",
    "`DataFrame`中有`plot`方法，在较旧的版本中，我们可以指定`kind`参数，如设置为`line`则画出折线图，设置为`bar`则画出条形图等。在较新版本中则可以在`plot`后直接调用相应图形的方法，如`plot.bar`等，具体的方法可以查看[`plot`方法的文档](https://pandas.pydata.org/pandas-docs/stable/reference/frame.html#plotting)"
   ]
  },
  {
   "cell_type": "code",
   "execution_count": 61,
   "metadata": {},
   "outputs": [
    {
     "data": {
      "text/plain": [
       "<matplotlib.axes._subplots.AxesSubplot at 0x127299ba8>"
      ]
     },
     "execution_count": 61,
     "metadata": {},
     "output_type": "execute_result"
    },
    {
     "data": {
      "image/png": "[encoded data removed]",
      "text/plain": [
       "<matplotlib.figure.Figure at 0x126cce908>"
      ]
     },
     "metadata": {},
     "output_type": "display_data"
    }
   ],
   "source": [
    "# 年龄数据分布\n",
    "\n",
    "data['Age'].plot.hist(bins=20)"
   ]
  },
  {
   "cell_type": "code",
   "execution_count": 62,
   "metadata": {},
   "outputs": [
    {
     "data": {
      "text/plain": [
       "<matplotlib.axes._subplots.AxesSubplot at 0x12742b3c8>"
      ]
     },
     "execution_count": 62,
     "metadata": {},
     "output_type": "execute_result"
    },
    {
     "data": {
      "image/png": "[encoded data removed]",
      "text/plain": [
       "<matplotlib.figure.Figure at 0x12728fd68>"
      ]
     },
     "metadata": {},
     "output_type": "display_data"
    }
   ],
   "source": [
    "# 月收入数据分布\n",
    "\n",
    "data['MonthlyIncome'].plot.hist(bins=30)"
   ]
  },
  {
   "cell_type": "markdown",
   "metadata": {},
   "source": [
    "我们也可以通过`matplotlib`库来做相应的数据可视化操作，我们将在数据可视化章节中做具体的讨论。"
   ]
  },
  {
   "cell_type": "markdown",
   "metadata": {},
   "source": [
    "#### 观察类别类型数据"
   ]
  },
  {
   "cell_type": "markdown",
   "metadata": {},
   "source": [
    "同样，我们可以使用`describe`方法来观察类别类型数据的情况，我们需要将参数`include`设置为`object`，表示我们查看的是类别类型。这时`describe`方法会展示样本数量、唯一值的数量、出现次数最多的类别及其出现次数。"
   ]
  },
  {
   "cell_type": "code",
   "execution_count": 45,
   "metadata": {},
   "outputs": [
    {
     "data": {
      "text/html": [
       "<div>\n",
       "<style scoped>\n",
       "    .dataframe tbody tr th:only-of-type {\n",
       "        vertical-align: middle;\n",
       "    }\n",
       "\n",
       "    .dataframe tbody tr th {\n",
       "        vertical-align: top;\n",
       "    }\n",
       "\n",
       "    .dataframe thead th {\n",
       "        text-align: right;\n",
       "    }\n",
       "</style>\n",
       "<table border=\"1\" class=\"dataframe\">\n",
       "  <thead>\n",
       "    <tr style=\"text-align: right;\">\n",
       "      <th></th>\n",
       "      <th>BusinessTravel</th>\n",
       "      <th>Department</th>\n",
       "      <th>Education</th>\n",
       "      <th>EducationField</th>\n",
       "      <th>Gender</th>\n",
       "      <th>JobSatisfaction</th>\n",
       "      <th>Over18</th>\n",
       "      <th>OverTime</th>\n",
       "    </tr>\n",
       "  </thead>\n",
       "  <tbody>\n",
       "    <tr>\n",
       "      <th>count</th>\n",
       "      <td>1100</td>\n",
       "      <td>1100</td>\n",
       "      <td>1100</td>\n",
       "      <td>1100</td>\n",
       "      <td>1100</td>\n",
       "      <td>1100</td>\n",
       "      <td>1100</td>\n",
       "      <td>1100</td>\n",
       "    </tr>\n",
       "    <tr>\n",
       "      <th>unique</th>\n",
       "      <td>3</td>\n",
       "      <td>3</td>\n",
       "      <td>5</td>\n",
       "      <td>6</td>\n",
       "      <td>2</td>\n",
       "      <td>4</td>\n",
       "      <td>1</td>\n",
       "      <td>2</td>\n",
       "    </tr>\n",
       "    <tr>\n",
       "      <th>top</th>\n",
       "      <td>Travel_Rarely</td>\n",
       "      <td>Research &amp; Development</td>\n",
       "      <td>3</td>\n",
       "      <td>Life Sciences</td>\n",
       "      <td>Male</td>\n",
       "      <td>4</td>\n",
       "      <td>Y</td>\n",
       "      <td>No</td>\n",
       "    </tr>\n",
       "    <tr>\n",
       "      <th>freq</th>\n",
       "      <td>787</td>\n",
       "      <td>727</td>\n",
       "      <td>431</td>\n",
       "      <td>462</td>\n",
       "      <td>653</td>\n",
       "      <td>350</td>\n",
       "      <td>1100</td>\n",
       "      <td>794</td>\n",
       "    </tr>\n",
       "  </tbody>\n",
       "</table>\n",
       "</div>"
      ],
      "text/plain": [
       "       BusinessTravel              Department Education EducationField Gender  \\\n",
       "count            1100                    1100      1100           1100   1100   \n",
       "unique              3                       3         5              6      2   \n",
       "top     Travel_Rarely  Research & Development         3  Life Sciences   Male   \n",
       "freq              787                     727       431            462    653   \n",
       "\n",
       "       JobSatisfaction Over18 OverTime  \n",
       "count             1100   1100     1100  \n",
       "unique               4      1        2  \n",
       "top                  4      Y       No  \n",
       "freq               350   1100      794  "
      ]
     },
     "execution_count": 45,
     "metadata": {},
     "output_type": "execute_result"
    }
   ],
   "source": [
    "data.describe(include='object')"
   ]
  },
  {
   "cell_type": "markdown",
   "metadata": {},
   "source": [
    "我们可以从上面的结果中看到，`Over18`的唯一值数量只有1个（当然雇佣的员工应当大于18岁），即所有的值都为`Y`，因此这列也是可以进行删除的。  \n",
    "同样，也可以通过`plot`方法来可视化数据。  "
   ]
  },
  {
   "cell_type": "code",
   "execution_count": 66,
   "metadata": {},
   "outputs": [
    {
     "data": {
      "text/plain": [
       "<matplotlib.axes._subplots.AxesSubplot at 0x126a44fd0>"
      ]
     },
     "execution_count": 66,
     "metadata": {},
     "output_type": "execute_result"
    },
    {
     "data": {
      "image/png": "[encoded data removed]",
      "text/plain": [
       "<matplotlib.figure.Figure at 0x126b09588>"
      ]
     },
     "metadata": {},
     "output_type": "display_data"
    }
   ],
   "source": [
    "# 教育领域分布\n",
    "\n",
    "data['EducationField'].value_counts().plot.bar()"
   ]
  },
  {
   "cell_type": "markdown",
   "metadata": {},
   "source": [
    "通过初步的观察，我们可以将`StandardHours`和`Over18`这两列删除。"
   ]
  },
  {
   "cell_type": "code",
   "execution_count": 47,
   "metadata": {},
   "outputs": [
    {
     "data": {
      "text/html": [
       "<div>\n",
       "<style scoped>\n",
       "    .dataframe tbody tr th:only-of-type {\n",
       "        vertical-align: middle;\n",
       "    }\n",
       "\n",
       "    .dataframe tbody tr th {\n",
       "        vertical-align: top;\n",
       "    }\n",
       "\n",
       "    .dataframe thead th {\n",
       "        text-align: right;\n",
       "    }\n",
       "</style>\n",
       "<table border=\"1\" class=\"dataframe\">\n",
       "  <thead>\n",
       "    <tr style=\"text-align: right;\">\n",
       "      <th></th>\n",
       "      <th>Age</th>\n",
       "      <th>BusinessTravel</th>\n",
       "      <th>Department</th>\n",
       "      <th>DistanceFromHome</th>\n",
       "      <th>Education</th>\n",
       "      <th>EducationField</th>\n",
       "      <th>Gender</th>\n",
       "      <th>JobSatisfaction</th>\n",
       "      <th>MonthlyIncome</th>\n",
       "      <th>NumCompaniesWorked</th>\n",
       "      <th>OverTime</th>\n",
       "      <th>TotalWorkingYears</th>\n",
       "      <th>YearsAtCompany</th>\n",
       "      <th>Attrition</th>\n",
       "    </tr>\n",
       "  </thead>\n",
       "  <tbody>\n",
       "    <tr>\n",
       "      <th>0</th>\n",
       "      <td>37</td>\n",
       "      <td>Travel_Rarely</td>\n",
       "      <td>Research &amp; Development</td>\n",
       "      <td>1</td>\n",
       "      <td>4</td>\n",
       "      <td>Life Sciences</td>\n",
       "      <td>Male</td>\n",
       "      <td>3</td>\n",
       "      <td>5993</td>\n",
       "      <td>1</td>\n",
       "      <td>No</td>\n",
       "      <td>7</td>\n",
       "      <td>7</td>\n",
       "      <td>0</td>\n",
       "    </tr>\n",
       "    <tr>\n",
       "      <th>1</th>\n",
       "      <td>54</td>\n",
       "      <td>Travel_Frequently</td>\n",
       "      <td>Research &amp; Development</td>\n",
       "      <td>1</td>\n",
       "      <td>4</td>\n",
       "      <td>Life Sciences</td>\n",
       "      <td>Female</td>\n",
       "      <td>3</td>\n",
       "      <td>10502</td>\n",
       "      <td>7</td>\n",
       "      <td>No</td>\n",
       "      <td>33</td>\n",
       "      <td>5</td>\n",
       "      <td>0</td>\n",
       "    </tr>\n",
       "    <tr>\n",
       "      <th>2</th>\n",
       "      <td>34</td>\n",
       "      <td>Travel_Frequently</td>\n",
       "      <td>Research &amp; Development</td>\n",
       "      <td>7</td>\n",
       "      <td>3</td>\n",
       "      <td>Life Sciences</td>\n",
       "      <td>Male</td>\n",
       "      <td>3</td>\n",
       "      <td>6074</td>\n",
       "      <td>1</td>\n",
       "      <td>Yes</td>\n",
       "      <td>9</td>\n",
       "      <td>9</td>\n",
       "      <td>1</td>\n",
       "    </tr>\n",
       "    <tr>\n",
       "      <th>3</th>\n",
       "      <td>39</td>\n",
       "      <td>Travel_Rarely</td>\n",
       "      <td>Research &amp; Development</td>\n",
       "      <td>1</td>\n",
       "      <td>1</td>\n",
       "      <td>Life Sciences</td>\n",
       "      <td>Female</td>\n",
       "      <td>4</td>\n",
       "      <td>12742</td>\n",
       "      <td>1</td>\n",
       "      <td>No</td>\n",
       "      <td>21</td>\n",
       "      <td>21</td>\n",
       "      <td>0</td>\n",
       "    </tr>\n",
       "    <tr>\n",
       "      <th>4</th>\n",
       "      <td>28</td>\n",
       "      <td>Travel_Frequently</td>\n",
       "      <td>Research &amp; Development</td>\n",
       "      <td>1</td>\n",
       "      <td>3</td>\n",
       "      <td>Medical</td>\n",
       "      <td>Male</td>\n",
       "      <td>2</td>\n",
       "      <td>2596</td>\n",
       "      <td>1</td>\n",
       "      <td>No</td>\n",
       "      <td>1</td>\n",
       "      <td>1</td>\n",
       "      <td>1</td>\n",
       "    </tr>\n",
       "  </tbody>\n",
       "</table>\n",
       "</div>"
      ],
      "text/plain": [
       "   Age     BusinessTravel              Department  DistanceFromHome Education  \\\n",
       "0   37      Travel_Rarely  Research & Development                 1         4   \n",
       "1   54  Travel_Frequently  Research & Development                 1         4   \n",
       "2   34  Travel_Frequently  Research & Development                 7         3   \n",
       "3   39      Travel_Rarely  Research & Development                 1         1   \n",
       "4   28  Travel_Frequently  Research & Development                 1         3   \n",
       "\n",
       "  EducationField  Gender JobSatisfaction  MonthlyIncome  NumCompaniesWorked  \\\n",
       "0  Life Sciences    Male               3           5993                   1   \n",
       "1  Life Sciences  Female               3          10502                   7   \n",
       "2  Life Sciences    Male               3           6074                   1   \n",
       "3  Life Sciences  Female               4          12742                   1   \n",
       "4        Medical    Male               2           2596                   1   \n",
       "\n",
       "  OverTime  TotalWorkingYears  YearsAtCompany  Attrition  \n",
       "0       No                  7               7          0  \n",
       "1       No                 33               5          0  \n",
       "2      Yes                  9               9          1  \n",
       "3       No                 21              21          0  \n",
       "4       No                  1               1          1  "
      ]
     },
     "execution_count": 47,
     "metadata": {},
     "output_type": "execute_result"
    }
   ],
   "source": [
    "data.drop(columns=['StandardHours', 'Over18'], inplace=True)\n",
    "data.head()"
   ]
  }
 ],
 "metadata": {
  "kernelspec": {
   "display_name": "Python 3",
   "language": "python",
   "name": "python3"
  },
  "language_info": {
   "codemirror_mode": {
    "name": "ipython",
    "version": 3
   },
   "file_extension": ".py",
   "mimetype": "text/x-python",
   "name": "python",
   "nbconvert_exporter": "python",
   "pygments_lexer": "ipython3",
   "version": "3.6.3"
  }
 },
 "nbformat": 4,
 "nbformat_minor": 4
}
