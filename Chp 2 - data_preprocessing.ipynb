{
 "cells": [
  {
   "cell_type": "markdown",
   "metadata": {
    "toc-hr-collapsed": false
   },
   "source": [
    "# 第二章 数据预处理"
   ]
  },
  {
   "cell_type": "markdown",
   "metadata": {},
   "source": [
    "在机器学习中，有一句常被提起的话：`garbage in, garbage out`，意思是如果数据清理的不干净，数据质量低下，那么再好的算法，输出的模型也是无用的，甚至比随机预测还要糟糕。因此，数据预处理在整个机器学习过程中，起了巨大的作用，对数据没有一个好的预处理过程，往往会产出无用的模型。数据预处理又是一个非常大的领域，针对不同的数据类型，例如表格数据、文字、图像、音频等，会有各种预处理的方法，在本章节，我们将讨论一些常用的对于表格数据预处理方法。  "
   ]
  },
  {
   "cell_type": "markdown",
   "metadata": {},
   "source": [
    "本章节将会从以下几个部分进行讨论：\n",
    "\n",
    "- 理解业务背景\n",
    "- 预览数据\n",
    "- 缺失值处理\n",
    "- 数据特征变换\n",
    "\n",
    "我们将会基于一个预测员工离职的数据展开数据预处理讨论。我们对原始数据进行了一定的删减，原始数据可以在[这里](https://www.pkbigdata.com/common/cmpt/%E5%91%98%E5%B7%A5%E7%A6%BB%E8%81%8C%E9%A2%84%E6%B5%8B%E8%AE%AD%E7%BB%83%E8%B5%9B_%E8%B5%9B%E4%BD%93%E4%B8%8E%E6%95%B0%E6%8D%AE.html)找到。"
   ]
  },
  {
   "cell_type": "markdown",
   "metadata": {
    "toc-hr-collapsed": true
   },
   "source": [
    "## 理解业务背景"
   ]
  },
  {
   "cell_type": "markdown",
   "metadata": {},
   "source": [
    "机器学习任务往往是为了业务需要而服务的，大多数需求都是由业务部门所提出的。因此当我们接手一个机器学习的任务时，第一步并不是急着获取数据，处理数据和建立机器学习模型，相反的，我们应当抽出一定的时间去和业务部门去讨论需求，明白整个业务流程和所接手的机器学习任务在整个业务中的位置和作用。  \n",
    "与业务部门讨论相关背景在实践中往往是很重要的一环，而盲目的对着手数据进行处理，大部分情况下会适得其反。例如你很可能得出一个业务上“众所周知”的结论。当你兴奋地告诉业务负责人：我发现每月底你的XX产品销量都会上升，需要多备货，业务负责人可能会不屑地告诉你，这个是产品特点，大家都会在月底买我们的产品。因此，当与业务部门讨论业务时，尽可能获取多的业务领域的知识，我们应当站在业务领域的肩膀上来展开我们的工作，这样能做出更多具有创造性的工作。  \n",
    "业务讨论中，除了一些领域中的知识，还有一个比较重要的就是讨论你能获取的数据。当有需求时，一般业务部门会提供一些数据，这时，你需要明白各个字段的含义，以及他们通常数据值所在的范围，这有助于我们在观察数据时，及时识别一些异常数据点，进行处理，往往一些遗漏处理的异常值会导致模型性能大幅下降。同时，你可以询问业务关于一些数值的切分，例如年龄字段，我们可以按照业务提供经验，划分成几个年龄段，这样可能更好处理一些。  \n",
    "毕竟机器学习研发人员往往对具体的业务是不熟悉，经常展开业务方面的讨论，能够更好的帮助我们理解业务，懂得业务，从而极大地帮助我们展开机器学习的工作，因此切记不能盲目的闭门造车，而忽略了我们的实际场景，这往往容易使我们偏离业务部门的需求，甚至南辕北辙。  \n",
    "总之，在着手开始手工作前，确保对于业务的理解是充分的，并且最关键的是与业务部门的理解是一致的。"
   ]
  },
  {
   "cell_type": "markdown",
   "metadata": {
    "toc-hr-collapsed": true
   },
   "source": [
    "## 预览数据"
   ]
  },
  {
   "cell_type": "markdown",
   "metadata": {},
   "source": [
    "假设HR部门收集了员工的一些资料，想判断一下这些员工是否会离职，因此他们给了我们一个Excel文件，我们和他们讨论这些数据，数据字段的说明如下：\n",
    "\n",
    "- EmployeeNumber：员工号码\n",
    "- Age：年龄\n",
    "- BusinessTravel：商务差旅频率，Non-Travel表示不出差；Travel_Rarely表示不经常出差；Travel_Frequently表示经常出差\n",
    "- Department：员工所在部门，Sales表示销售部；Research & Development表示研发部；Human Resources表示人力资源部\n",
    "- DistanceFromHome：公司跟家庭住址的距离，从1到29，1表示最近，29表示最远\n",
    "- Education：员工的教育程度，从1到5，5表示教育程度最高\n",
    "- EducationField：员工所学习的专业领域，Life Sciences表示生命科学；Medical表示医疗；Marketing表示市场营销；Technical Degree表示技术学位；Human Resources表示人力资源；Other表示其他\n",
    "- Gender：员工性别，Male表示男性；Female表示女性\n",
    "- JobSatisfaction：工作满意度，从1到4，1代表满意程度最低，4代表满意程度最高\n",
    "- MonthlyIncome：员工月收入，范围在1009到19999之间\n",
    "- NumCompaniesWorked：员工曾经工作过的公司数\n",
    "- Over18：年龄是否超过18岁\n",
    "- OverTime：是否加班，Yes表示加班；No表示不加班\n",
    "- StandardHours：标准工时\n",
    "- TotalWorkingYears：总工龄\n",
    "- YearsAtCompany：在目前公司工作年数\n",
    "- Attrition：我们的预测目标，员工是否已经离职，0表示未离职；1表示已经离职\n",
    "\n",
    "通常拿到数据后，先预览一下这些数据，了解一下数据的大致情况。  \n",
    "首先，我们确定一下这些数据的类型，一般分为数值类型（如长度、薪资等）、时间类型（如日期、时间戳等）、类别类型（如颜色、国家等）等。  \n",
    "一般来说，文字型的字段一般都是类别类型，例如`BusinessTravel`、`Department`等；数字型的字段一般为数值类型，例如`Age`、`MonthlyIncome`等。这里需要注意的是`Education`、`JobSatisfaction`这两个字段虽然是数字，但是类似这些“等级”类型的数据，我们当作类别类型处理更为妥当。  \n",
    "有时，类别类型和数值类型并不是绝对的，例如年龄数据，有时候也可以看做是一个类别类型，例如18岁，18既是表示岁数的数值，同时也是代表18岁这个年龄的“一类人”。因此这些需要视具体情况而定，灵活使用。  \n",
    "在确定类型后，我们先看下整体数据是否有缺失，缺失数据的分布情况；其次我们可以分开来观察不同类型的数据，数值类型的数据我们可以看下他们的均值、标准差等；类别类型的数据我们可以看下他们的各个类别的数量分布情况等；最后，我们先初步观察下这些数据是否有一些特别明显的异常数据，例如一些与尝试相违背的数据，如年龄填的是999，很可能是某种特别标记，也可能是输入错误。  \n",
    "接下来我们来实际操作一下。"
   ]
  },
  {
   "cell_type": "markdown",
   "metadata": {},
   "source": [
    "### 读入数据"
   ]
  },
  {
   "cell_type": "markdown",
   "metadata": {},
   "source": [
    "读入数据这部分我们已经在数据来源这块中已经详细阐述了，我们这里使用`pandas`库中的`read_excel`读入这些数据。"
   ]
  },
  {
   "cell_type": "code",
   "execution_count": 1,
   "metadata": {},
   "outputs": [
    {
     "data": {
      "text/html": [
       "<div>\n",
       "<style scoped>\n",
       "    .dataframe tbody tr th:only-of-type {\n",
       "        vertical-align: middle;\n",
       "    }\n",
       "\n",
       "    .dataframe tbody tr th {\n",
       "        vertical-align: top;\n",
       "    }\n",
       "\n",
       "    .dataframe thead th {\n",
       "        text-align: right;\n",
       "    }\n",
       "</style>\n",
       "<table border=\"1\" class=\"dataframe\">\n",
       "  <thead>\n",
       "    <tr style=\"text-align: right;\">\n",
       "      <th></th>\n",
       "      <th>EmployeeNumber</th>\n",
       "      <th>Age</th>\n",
       "      <th>BusinessTravel</th>\n",
       "      <th>Department</th>\n",
       "      <th>DistanceFromHome</th>\n",
       "      <th>Education</th>\n",
       "      <th>EducationField</th>\n",
       "      <th>Gender</th>\n",
       "      <th>JobSatisfaction</th>\n",
       "      <th>MonthlyIncome</th>\n",
       "      <th>NumCompaniesWorked</th>\n",
       "      <th>Over18</th>\n",
       "      <th>OverTime</th>\n",
       "      <th>StandardHours</th>\n",
       "      <th>TotalWorkingYears</th>\n",
       "      <th>YearsAtCompany</th>\n",
       "      <th>Attrition</th>\n",
       "    </tr>\n",
       "  </thead>\n",
       "  <tbody>\n",
       "    <tr>\n",
       "      <th>0</th>\n",
       "      <td>77</td>\n",
       "      <td>37</td>\n",
       "      <td>Travel_Rarely</td>\n",
       "      <td>Research &amp; Development</td>\n",
       "      <td>1</td>\n",
       "      <td>4</td>\n",
       "      <td>Life Sciences</td>\n",
       "      <td>Male</td>\n",
       "      <td>3</td>\n",
       "      <td>5993</td>\n",
       "      <td>1</td>\n",
       "      <td>Y</td>\n",
       "      <td>No</td>\n",
       "      <td>80</td>\n",
       "      <td>7</td>\n",
       "      <td>7</td>\n",
       "      <td>0</td>\n",
       "    </tr>\n",
       "    <tr>\n",
       "      <th>1</th>\n",
       "      <td>1245</td>\n",
       "      <td>54</td>\n",
       "      <td>Travel_Frequently</td>\n",
       "      <td>Research &amp; Development</td>\n",
       "      <td>1</td>\n",
       "      <td>4</td>\n",
       "      <td>Life Sciences</td>\n",
       "      <td>Female</td>\n",
       "      <td>3</td>\n",
       "      <td>10502</td>\n",
       "      <td>7</td>\n",
       "      <td>Y</td>\n",
       "      <td>No</td>\n",
       "      <td>80</td>\n",
       "      <td>33</td>\n",
       "      <td>5</td>\n",
       "      <td>0</td>\n",
       "    </tr>\n",
       "    <tr>\n",
       "      <th>2</th>\n",
       "      <td>147</td>\n",
       "      <td>34</td>\n",
       "      <td>Travel_Frequently</td>\n",
       "      <td>Research &amp; Development</td>\n",
       "      <td>7</td>\n",
       "      <td>3</td>\n",
       "      <td>Life Sciences</td>\n",
       "      <td>Male</td>\n",
       "      <td>3</td>\n",
       "      <td>6074</td>\n",
       "      <td>1</td>\n",
       "      <td>Y</td>\n",
       "      <td>Yes</td>\n",
       "      <td>80</td>\n",
       "      <td>9</td>\n",
       "      <td>9</td>\n",
       "      <td>1</td>\n",
       "    </tr>\n",
       "    <tr>\n",
       "      <th>3</th>\n",
       "      <td>1026</td>\n",
       "      <td>39</td>\n",
       "      <td>Travel_Rarely</td>\n",
       "      <td>Research &amp; Development</td>\n",
       "      <td>1</td>\n",
       "      <td>1</td>\n",
       "      <td>Life Sciences</td>\n",
       "      <td>Female</td>\n",
       "      <td>4</td>\n",
       "      <td>12742</td>\n",
       "      <td>1</td>\n",
       "      <td>Y</td>\n",
       "      <td>No</td>\n",
       "      <td>80</td>\n",
       "      <td>21</td>\n",
       "      <td>21</td>\n",
       "      <td>0</td>\n",
       "    </tr>\n",
       "    <tr>\n",
       "      <th>4</th>\n",
       "      <td>1111</td>\n",
       "      <td>28</td>\n",
       "      <td>Travel_Frequently</td>\n",
       "      <td>Research &amp; Development</td>\n",
       "      <td>1</td>\n",
       "      <td>3</td>\n",
       "      <td>Medical</td>\n",
       "      <td>Male</td>\n",
       "      <td>2</td>\n",
       "      <td>2596</td>\n",
       "      <td>1</td>\n",
       "      <td>Y</td>\n",
       "      <td>No</td>\n",
       "      <td>80</td>\n",
       "      <td>1</td>\n",
       "      <td>1</td>\n",
       "      <td>1</td>\n",
       "    </tr>\n",
       "  </tbody>\n",
       "</table>\n",
       "</div>"
      ],
      "text/plain": [
       "   EmployeeNumber  Age     BusinessTravel              Department  \\\n",
       "0              77   37      Travel_Rarely  Research & Development   \n",
       "1            1245   54  Travel_Frequently  Research & Development   \n",
       "2             147   34  Travel_Frequently  Research & Development   \n",
       "3            1026   39      Travel_Rarely  Research & Development   \n",
       "4            1111   28  Travel_Frequently  Research & Development   \n",
       "\n",
       "   DistanceFromHome  Education EducationField  Gender  JobSatisfaction  \\\n",
       "0                 1          4  Life Sciences    Male                3   \n",
       "1                 1          4  Life Sciences  Female                3   \n",
       "2                 7          3  Life Sciences    Male                3   \n",
       "3                 1          1  Life Sciences  Female                4   \n",
       "4                 1          3        Medical    Male                2   \n",
       "\n",
       "   MonthlyIncome  NumCompaniesWorked Over18 OverTime  StandardHours  \\\n",
       "0           5993                   1      Y       No             80   \n",
       "1          10502                   7      Y       No             80   \n",
       "2           6074                   1      Y      Yes             80   \n",
       "3          12742                   1      Y       No             80   \n",
       "4           2596                   1      Y       No             80   \n",
       "\n",
       "   TotalWorkingYears  YearsAtCompany  Attrition  \n",
       "0                  7               7          0  \n",
       "1                 33               5          0  \n",
       "2                  9               9          1  \n",
       "3                 21              21          0  \n",
       "4                  1               1          1  "
      ]
     },
     "execution_count": 1,
     "metadata": {},
     "output_type": "execute_result"
    }
   ],
   "source": [
    "# 读入数据\n",
    "\n",
    "import pandas as pd\n",
    "\n",
    "data = pd.read_excel('data/pfm_data.xlsx')\n",
    "# 使用head方法观察前5行数据和数据的列\n",
    "data.head()"
   ]
  },
  {
   "cell_type": "markdown",
   "metadata": {},
   "source": [
    "通过`shape`我们可以看到数据的行数与列数"
   ]
  },
  {
   "cell_type": "code",
   "execution_count": 2,
   "metadata": {},
   "outputs": [
    {
     "data": {
      "text/plain": [
       "(1100, 17)"
      ]
     },
     "execution_count": 2,
     "metadata": {},
     "output_type": "execute_result"
    }
   ],
   "source": [
    "# 查看数据行数和列数\n",
    "\n",
    "data.shape"
   ]
  },
  {
   "cell_type": "markdown",
   "metadata": {},
   "source": [
    "这数据集一共有1100条数据，共有16列。"
   ]
  },
  {
   "cell_type": "markdown",
   "metadata": {},
   "source": [
    "### 删除ID列"
   ]
  },
  {
   "cell_type": "markdown",
   "metadata": {},
   "source": [
    "一般情况下，样本`ID`在预测中基本上不起什么作用，因为他只是标示不同的样本，如本例中标示的是员工，大部分情况下我们会选择删除这列数据。但有时候也会蕴藏一些信息，例如`ID`号比较小的可能是老员工，比较大的是新员工，但是一般在其他信息中，例如在公司工作的时长，会隐含这些信息，因此我们在这里选择删除这一列。  \n",
    "这里我们使用`drop`方法。`drop`方法可以按照`axis`参数表示按行还是列进行数据丢弃，其中`0`表示行，`1`表示列。在较老版本的`pandas`中，去掉某一列需要`axis`设置为`1`，比较麻烦，在较新的版本中，我们可以直接使用`columns`参数来指定需要去掉的列即可。  \n",
    "还有个参数也会经常用到，就是`inplace`，当`inplace`被设置为`True`时，表示这个改动在原有的`DataFrame`上进行，而不是返回一个`DataFrame`。`DataFrame`中其他的一些需要做变换的操作中，例如`fillna`、`rename`，都有这个函数。  "
   ]
  },
  {
   "cell_type": "code",
   "execution_count": 3,
   "metadata": {},
   "outputs": [
    {
     "data": {
      "text/html": [
       "<div>\n",
       "<style scoped>\n",
       "    .dataframe tbody tr th:only-of-type {\n",
       "        vertical-align: middle;\n",
       "    }\n",
       "\n",
       "    .dataframe tbody tr th {\n",
       "        vertical-align: top;\n",
       "    }\n",
       "\n",
       "    .dataframe thead th {\n",
       "        text-align: right;\n",
       "    }\n",
       "</style>\n",
       "<table border=\"1\" class=\"dataframe\">\n",
       "  <thead>\n",
       "    <tr style=\"text-align: right;\">\n",
       "      <th></th>\n",
       "      <th>Age</th>\n",
       "      <th>BusinessTravel</th>\n",
       "      <th>Department</th>\n",
       "      <th>DistanceFromHome</th>\n",
       "      <th>Education</th>\n",
       "      <th>EducationField</th>\n",
       "      <th>Gender</th>\n",
       "      <th>JobSatisfaction</th>\n",
       "      <th>MonthlyIncome</th>\n",
       "      <th>NumCompaniesWorked</th>\n",
       "      <th>Over18</th>\n",
       "      <th>OverTime</th>\n",
       "      <th>StandardHours</th>\n",
       "      <th>TotalWorkingYears</th>\n",
       "      <th>YearsAtCompany</th>\n",
       "      <th>Attrition</th>\n",
       "    </tr>\n",
       "  </thead>\n",
       "  <tbody>\n",
       "    <tr>\n",
       "      <th>0</th>\n",
       "      <td>37</td>\n",
       "      <td>Travel_Rarely</td>\n",
       "      <td>Research &amp; Development</td>\n",
       "      <td>1</td>\n",
       "      <td>4</td>\n",
       "      <td>Life Sciences</td>\n",
       "      <td>Male</td>\n",
       "      <td>3</td>\n",
       "      <td>5993</td>\n",
       "      <td>1</td>\n",
       "      <td>Y</td>\n",
       "      <td>No</td>\n",
       "      <td>80</td>\n",
       "      <td>7</td>\n",
       "      <td>7</td>\n",
       "      <td>0</td>\n",
       "    </tr>\n",
       "    <tr>\n",
       "      <th>1</th>\n",
       "      <td>54</td>\n",
       "      <td>Travel_Frequently</td>\n",
       "      <td>Research &amp; Development</td>\n",
       "      <td>1</td>\n",
       "      <td>4</td>\n",
       "      <td>Life Sciences</td>\n",
       "      <td>Female</td>\n",
       "      <td>3</td>\n",
       "      <td>10502</td>\n",
       "      <td>7</td>\n",
       "      <td>Y</td>\n",
       "      <td>No</td>\n",
       "      <td>80</td>\n",
       "      <td>33</td>\n",
       "      <td>5</td>\n",
       "      <td>0</td>\n",
       "    </tr>\n",
       "    <tr>\n",
       "      <th>2</th>\n",
       "      <td>34</td>\n",
       "      <td>Travel_Frequently</td>\n",
       "      <td>Research &amp; Development</td>\n",
       "      <td>7</td>\n",
       "      <td>3</td>\n",
       "      <td>Life Sciences</td>\n",
       "      <td>Male</td>\n",
       "      <td>3</td>\n",
       "      <td>6074</td>\n",
       "      <td>1</td>\n",
       "      <td>Y</td>\n",
       "      <td>Yes</td>\n",
       "      <td>80</td>\n",
       "      <td>9</td>\n",
       "      <td>9</td>\n",
       "      <td>1</td>\n",
       "    </tr>\n",
       "    <tr>\n",
       "      <th>3</th>\n",
       "      <td>39</td>\n",
       "      <td>Travel_Rarely</td>\n",
       "      <td>Research &amp; Development</td>\n",
       "      <td>1</td>\n",
       "      <td>1</td>\n",
       "      <td>Life Sciences</td>\n",
       "      <td>Female</td>\n",
       "      <td>4</td>\n",
       "      <td>12742</td>\n",
       "      <td>1</td>\n",
       "      <td>Y</td>\n",
       "      <td>No</td>\n",
       "      <td>80</td>\n",
       "      <td>21</td>\n",
       "      <td>21</td>\n",
       "      <td>0</td>\n",
       "    </tr>\n",
       "    <tr>\n",
       "      <th>4</th>\n",
       "      <td>28</td>\n",
       "      <td>Travel_Frequently</td>\n",
       "      <td>Research &amp; Development</td>\n",
       "      <td>1</td>\n",
       "      <td>3</td>\n",
       "      <td>Medical</td>\n",
       "      <td>Male</td>\n",
       "      <td>2</td>\n",
       "      <td>2596</td>\n",
       "      <td>1</td>\n",
       "      <td>Y</td>\n",
       "      <td>No</td>\n",
       "      <td>80</td>\n",
       "      <td>1</td>\n",
       "      <td>1</td>\n",
       "      <td>1</td>\n",
       "    </tr>\n",
       "  </tbody>\n",
       "</table>\n",
       "</div>"
      ],
      "text/plain": [
       "   Age     BusinessTravel              Department  DistanceFromHome  \\\n",
       "0   37      Travel_Rarely  Research & Development                 1   \n",
       "1   54  Travel_Frequently  Research & Development                 1   \n",
       "2   34  Travel_Frequently  Research & Development                 7   \n",
       "3   39      Travel_Rarely  Research & Development                 1   \n",
       "4   28  Travel_Frequently  Research & Development                 1   \n",
       "\n",
       "   Education EducationField  Gender  JobSatisfaction  MonthlyIncome  \\\n",
       "0          4  Life Sciences    Male                3           5993   \n",
       "1          4  Life Sciences  Female                3          10502   \n",
       "2          3  Life Sciences    Male                3           6074   \n",
       "3          1  Life Sciences  Female                4          12742   \n",
       "4          3        Medical    Male                2           2596   \n",
       "\n",
       "   NumCompaniesWorked Over18 OverTime  StandardHours  TotalWorkingYears  \\\n",
       "0                   1      Y       No             80                  7   \n",
       "1                   7      Y       No             80                 33   \n",
       "2                   1      Y      Yes             80                  9   \n",
       "3                   1      Y       No             80                 21   \n",
       "4                   1      Y       No             80                  1   \n",
       "\n",
       "   YearsAtCompany  Attrition  \n",
       "0               7          0  \n",
       "1               5          0  \n",
       "2               9          1  \n",
       "3              21          0  \n",
       "4               1          1  "
      ]
     },
     "execution_count": 3,
     "metadata": {},
     "output_type": "execute_result"
    }
   ],
   "source": [
    "# 删除EmployeeNumber列\n",
    "\n",
    "data.drop(columns='EmployeeNumber', inplace=True)\n",
    "data.head()"
   ]
  },
  {
   "cell_type": "markdown",
   "metadata": {},
   "source": [
    "### 观察数据缺失情况"
   ]
  },
  {
   "cell_type": "markdown",
   "metadata": {},
   "source": [
    "我们可以使用`info`方法来查看当前数据集中是否有缺失值。"
   ]
  },
  {
   "cell_type": "code",
   "execution_count": 4,
   "metadata": {},
   "outputs": [
    {
     "name": "stdout",
     "output_type": "stream",
     "text": [
      "<class 'pandas.core.frame.DataFrame'>\n",
      "RangeIndex: 1100 entries, 0 to 1099\n",
      "Data columns (total 16 columns):\n",
      "Age                   1100 non-null int64\n",
      "BusinessTravel        1100 non-null object\n",
      "Department            1100 non-null object\n",
      "DistanceFromHome      1100 non-null int64\n",
      "Education             1100 non-null int64\n",
      "EducationField        1100 non-null object\n",
      "Gender                1100 non-null object\n",
      "JobSatisfaction       1100 non-null int64\n",
      "MonthlyIncome         1100 non-null int64\n",
      "NumCompaniesWorked    1100 non-null int64\n",
      "Over18                1100 non-null object\n",
      "OverTime              1100 non-null object\n",
      "StandardHours         1100 non-null int64\n",
      "TotalWorkingYears     1100 non-null int64\n",
      "YearsAtCompany        1100 non-null int64\n",
      "Attrition             1100 non-null int64\n",
      "dtypes: int64(10), object(6)\n",
      "memory usage: 137.6+ KB\n"
     ]
    }
   ],
   "source": [
    "data.info()"
   ]
  },
  {
   "cell_type": "markdown",
   "metadata": {},
   "source": [
    "从上面的结果中可以看到每列数据的非缺失值的数量，即`non-null`，每列都有1100条`non-null`数据，说明我们的数据集中不存在缺失值的情况。如果出现了缺失值，那么我们改如何处理呢？这个我们将在后面的小节中，讨论处理缺失值的方式。"
   ]
  },
  {
   "cell_type": "markdown",
   "metadata": {},
   "source": [
    "### 观察各类型下的数据概况"
   ]
  },
  {
   "cell_type": "markdown",
   "metadata": {},
   "source": [
    "按照前面所述，我们先将`Education`、`JobSatisfaction`这两列转为`str`类型，将其作为类别类型数据。  \n",
    "我们可以使用`astype`方法进行数据类型转换。"
   ]
  },
  {
   "cell_type": "code",
   "execution_count": 5,
   "metadata": {},
   "outputs": [],
   "source": [
    "# 将Education、JobSatisfaction转为str类型\n",
    "\n",
    "data['Education'] = data['Education'].astype(str)\n",
    "data['JobSatisfaction'] = data['JobSatisfaction'].astype(str)"
   ]
  },
  {
   "cell_type": "markdown",
   "metadata": {},
   "source": [
    "我们可以使用`dtypes`来查看数据类型是否与我们之前讨论的一致。"
   ]
  },
  {
   "cell_type": "code",
   "execution_count": 6,
   "metadata": {},
   "outputs": [
    {
     "data": {
      "text/plain": [
       "Age                    int64\n",
       "BusinessTravel        object\n",
       "Department            object\n",
       "DistanceFromHome       int64\n",
       "Education             object\n",
       "EducationField        object\n",
       "Gender                object\n",
       "JobSatisfaction       object\n",
       "MonthlyIncome          int64\n",
       "NumCompaniesWorked     int64\n",
       "Over18                object\n",
       "OverTime              object\n",
       "StandardHours          int64\n",
       "TotalWorkingYears      int64\n",
       "YearsAtCompany         int64\n",
       "Attrition              int64\n",
       "dtype: object"
      ]
     },
     "execution_count": 6,
     "metadata": {},
     "output_type": "execute_result"
    }
   ],
   "source": [
    "data.dtypes"
   ]
  },
  {
   "cell_type": "markdown",
   "metadata": {},
   "source": [
    "接下来我们将各类型的列名分开，放入两个`list`中"
   ]
  },
  {
   "cell_type": "code",
   "execution_count": 7,
   "metadata": {},
   "outputs": [
    {
     "data": {
      "text/plain": [
       "(['Age',\n",
       "  'DistanceFromHome',\n",
       "  'MonthlyIncome',\n",
       "  'NumCompaniesWorked',\n",
       "  'StandardHours',\n",
       "  'TotalWorkingYears',\n",
       "  'YearsAtCompany',\n",
       "  'Attrition'],\n",
       " ['BusinessTravel',\n",
       "  'Department',\n",
       "  'Education',\n",
       "  'EducationField',\n",
       "  'Gender',\n",
       "  'JobSatisfaction',\n",
       "  'Over18',\n",
       "  'OverTime'])"
      ]
     },
     "execution_count": 7,
     "metadata": {},
     "output_type": "execute_result"
    }
   ],
   "source": [
    "# 选择数值类型列\n",
    "num_cols = data.select_dtypes(include='number').columns.tolist()\n",
    "# 选择类别类型列\n",
    "cls_cols = data.select_dtypes(include='object').columns.tolist()\n",
    "\n",
    "num_cols, cls_cols"
   ]
  },
  {
   "cell_type": "markdown",
   "metadata": {},
   "source": [
    "#### 观察数值类型数据"
   ]
  },
  {
   "cell_type": "markdown",
   "metadata": {},
   "source": [
    "我们先来观察一下数值类型的数据情况。我们可以直接使用`describe`（`describe`方法默认是查看数值类型数据的）方法进行查看。`describe`方法会展示样本数量、均值、标准差、最小值、第一四分位数、中位数、第三四分位数以及最大值的情况。"
   ]
  },
  {
   "cell_type": "code",
   "execution_count": 8,
   "metadata": {},
   "outputs": [
    {
     "data": {
      "text/html": [
       "<div>\n",
       "<style scoped>\n",
       "    .dataframe tbody tr th:only-of-type {\n",
       "        vertical-align: middle;\n",
       "    }\n",
       "\n",
       "    .dataframe tbody tr th {\n",
       "        vertical-align: top;\n",
       "    }\n",
       "\n",
       "    .dataframe thead th {\n",
       "        text-align: right;\n",
       "    }\n",
       "</style>\n",
       "<table border=\"1\" class=\"dataframe\">\n",
       "  <thead>\n",
       "    <tr style=\"text-align: right;\">\n",
       "      <th></th>\n",
       "      <th>Age</th>\n",
       "      <th>DistanceFromHome</th>\n",
       "      <th>MonthlyIncome</th>\n",
       "      <th>NumCompaniesWorked</th>\n",
       "      <th>StandardHours</th>\n",
       "      <th>TotalWorkingYears</th>\n",
       "      <th>YearsAtCompany</th>\n",
       "      <th>Attrition</th>\n",
       "    </tr>\n",
       "  </thead>\n",
       "  <tbody>\n",
       "    <tr>\n",
       "      <th>count</th>\n",
       "      <td>1100.000000</td>\n",
       "      <td>1100.000000</td>\n",
       "      <td>1100.000000</td>\n",
       "      <td>1100.000000</td>\n",
       "      <td>1100.0</td>\n",
       "      <td>1100.000000</td>\n",
       "      <td>1100.000000</td>\n",
       "      <td>1100.000000</td>\n",
       "    </tr>\n",
       "    <tr>\n",
       "      <th>mean</th>\n",
       "      <td>36.999091</td>\n",
       "      <td>9.427273</td>\n",
       "      <td>6483.620909</td>\n",
       "      <td>2.683636</td>\n",
       "      <td>80.0</td>\n",
       "      <td>11.221818</td>\n",
       "      <td>7.011818</td>\n",
       "      <td>0.161818</td>\n",
       "    </tr>\n",
       "    <tr>\n",
       "      <th>std</th>\n",
       "      <td>9.037230</td>\n",
       "      <td>8.196694</td>\n",
       "      <td>4715.293419</td>\n",
       "      <td>2.510017</td>\n",
       "      <td>0.0</td>\n",
       "      <td>7.825548</td>\n",
       "      <td>6.223093</td>\n",
       "      <td>0.368451</td>\n",
       "    </tr>\n",
       "    <tr>\n",
       "      <th>min</th>\n",
       "      <td>18.000000</td>\n",
       "      <td>1.000000</td>\n",
       "      <td>1009.000000</td>\n",
       "      <td>0.000000</td>\n",
       "      <td>80.0</td>\n",
       "      <td>0.000000</td>\n",
       "      <td>0.000000</td>\n",
       "      <td>0.000000</td>\n",
       "    </tr>\n",
       "    <tr>\n",
       "      <th>25%</th>\n",
       "      <td>30.000000</td>\n",
       "      <td>2.000000</td>\n",
       "      <td>2924.500000</td>\n",
       "      <td>1.000000</td>\n",
       "      <td>80.0</td>\n",
       "      <td>6.000000</td>\n",
       "      <td>3.000000</td>\n",
       "      <td>0.000000</td>\n",
       "    </tr>\n",
       "    <tr>\n",
       "      <th>50%</th>\n",
       "      <td>36.000000</td>\n",
       "      <td>7.000000</td>\n",
       "      <td>4857.000000</td>\n",
       "      <td>2.000000</td>\n",
       "      <td>80.0</td>\n",
       "      <td>10.000000</td>\n",
       "      <td>5.000000</td>\n",
       "      <td>0.000000</td>\n",
       "    </tr>\n",
       "    <tr>\n",
       "      <th>75%</th>\n",
       "      <td>43.000000</td>\n",
       "      <td>15.000000</td>\n",
       "      <td>8354.500000</td>\n",
       "      <td>4.000000</td>\n",
       "      <td>80.0</td>\n",
       "      <td>15.000000</td>\n",
       "      <td>9.000000</td>\n",
       "      <td>0.000000</td>\n",
       "    </tr>\n",
       "    <tr>\n",
       "      <th>max</th>\n",
       "      <td>60.000000</td>\n",
       "      <td>29.000000</td>\n",
       "      <td>19999.000000</td>\n",
       "      <td>9.000000</td>\n",
       "      <td>80.0</td>\n",
       "      <td>40.000000</td>\n",
       "      <td>37.000000</td>\n",
       "      <td>1.000000</td>\n",
       "    </tr>\n",
       "  </tbody>\n",
       "</table>\n",
       "</div>"
      ],
      "text/plain": [
       "               Age  DistanceFromHome  MonthlyIncome  NumCompaniesWorked  \\\n",
       "count  1100.000000       1100.000000    1100.000000         1100.000000   \n",
       "mean     36.999091          9.427273    6483.620909            2.683636   \n",
       "std       9.037230          8.196694    4715.293419            2.510017   \n",
       "min      18.000000          1.000000    1009.000000            0.000000   \n",
       "25%      30.000000          2.000000    2924.500000            1.000000   \n",
       "50%      36.000000          7.000000    4857.000000            2.000000   \n",
       "75%      43.000000         15.000000    8354.500000            4.000000   \n",
       "max      60.000000         29.000000   19999.000000            9.000000   \n",
       "\n",
       "       StandardHours  TotalWorkingYears  YearsAtCompany    Attrition  \n",
       "count         1100.0        1100.000000     1100.000000  1100.000000  \n",
       "mean            80.0          11.221818        7.011818     0.161818  \n",
       "std              0.0           7.825548        6.223093     0.368451  \n",
       "min             80.0           0.000000        0.000000     0.000000  \n",
       "25%             80.0           6.000000        3.000000     0.000000  \n",
       "50%             80.0          10.000000        5.000000     0.000000  \n",
       "75%             80.0          15.000000        9.000000     0.000000  \n",
       "max             80.0          40.000000       37.000000     1.000000  "
      ]
     },
     "execution_count": 8,
     "metadata": {},
     "output_type": "execute_result"
    }
   ],
   "source": [
    "data.describe()"
   ]
  },
  {
   "cell_type": "markdown",
   "metadata": {},
   "source": [
    "我们可以从上面的结果中看到，`StandardHours`的标准差为0，也就意味着这一列全部都是80，这个对于我们预测是没有任何帮助的，因此我们可以将其删除。同时，我们可以看到`Attrition`的均值是0.161818，那意味着数据集中有16.18%的样本是离职的，可以看出这个数据集可能是`不平衡数据集`，即0和1的个数并不是接近于1:1的，这在随后的处理中，例如平衡样本个数、选择评估标准等，是需要注意的。  \n",
    "同时，我们也可以初步观察上面的值是否存在异常，例如年龄是否有超过100岁的，总工龄超过80年等情况。"
   ]
  },
  {
   "cell_type": "markdown",
   "metadata": {},
   "source": [
    "通过可视化的方法来观察这些数据，更为直观，也更为清晰，如存在异常值等情况，更为容易看出来。  \n",
    "`DataFrame`中有`plot`方法，在较旧的版本中，我们可以指定`kind`参数，如设置为`line`则画出折线图，设置为`bar`则画出条形图等。在较新版本中则可以在`plot`后直接调用相应图形的方法，如`plot.bar`等，具体的方法可以查看[`plot`方法的文档](https://pandas.pydata.org/pandas-docs/stable/reference/frame.html#plotting)"
   ]
  },
  {
   "cell_type": "code",
   "execution_count": 57,
   "metadata": {},
   "outputs": [
    {
     "data": {
      "text/plain": [
       "<matplotlib.axes._subplots.AxesSubplot at 0x12305d0f0>"
      ]
     },
     "execution_count": 57,
     "metadata": {},
     "output_type": "execute_result"
    },
    {
     "data": {
      "image/png": "[encoded data removed]",
      "text/plain": [
       "<matplotlib.figure.Figure at 0x1241f8f60>"
      ]
     },
     "metadata": {},
     "output_type": "display_data"
    }
   ],
   "source": [
    "# 年龄数据分布\n",
    "\n",
    "data['Age'].plot.hist(bins=20)"
   ]
  },
  {
   "cell_type": "code",
   "execution_count": 10,
   "metadata": {},
   "outputs": [
    {
     "data": {
      "text/plain": [
       "<matplotlib.axes._subplots.AxesSubplot at 0x120e12fd0>"
      ]
     },
     "execution_count": 10,
     "metadata": {},
     "output_type": "execute_result"
    },
    {
     "data": {
      "image/png": "[encoded data removed]",
      "text/plain": [
       "<matplotlib.figure.Figure at 0x120e0c4a8>"
      ]
     },
     "metadata": {},
     "output_type": "display_data"
    }
   ],
   "source": [
    "# 月收入数据分布\n",
    "\n",
    "data['MonthlyIncome'].plot.hist(bins=30)"
   ]
  },
  {
   "cell_type": "markdown",
   "metadata": {},
   "source": [
    "我们也可以通过`matplotlib`库来做相应的数据可视化操作。"
   ]
  },
  {
   "cell_type": "markdown",
   "metadata": {},
   "source": [
    "#### 观察类别类型数据"
   ]
  },
  {
   "cell_type": "markdown",
   "metadata": {},
   "source": [
    "同样，我们可以使用`describe`方法来观察类别类型数据的情况，我们需要将参数`include`设置为`object`，表示我们查看的是类别类型。这时`describe`方法会展示样本数量、唯一值的数量、出现次数最多的类别及其出现次数。"
   ]
  },
  {
   "cell_type": "code",
   "execution_count": 11,
   "metadata": {},
   "outputs": [
    {
     "data": {
      "text/html": [
       "<div>\n",
       "<style scoped>\n",
       "    .dataframe tbody tr th:only-of-type {\n",
       "        vertical-align: middle;\n",
       "    }\n",
       "\n",
       "    .dataframe tbody tr th {\n",
       "        vertical-align: top;\n",
       "    }\n",
       "\n",
       "    .dataframe thead th {\n",
       "        text-align: right;\n",
       "    }\n",
       "</style>\n",
       "<table border=\"1\" class=\"dataframe\">\n",
       "  <thead>\n",
       "    <tr style=\"text-align: right;\">\n",
       "      <th></th>\n",
       "      <th>BusinessTravel</th>\n",
       "      <th>Department</th>\n",
       "      <th>Education</th>\n",
       "      <th>EducationField</th>\n",
       "      <th>Gender</th>\n",
       "      <th>JobSatisfaction</th>\n",
       "      <th>Over18</th>\n",
       "      <th>OverTime</th>\n",
       "    </tr>\n",
       "  </thead>\n",
       "  <tbody>\n",
       "    <tr>\n",
       "      <th>count</th>\n",
       "      <td>1100</td>\n",
       "      <td>1100</td>\n",
       "      <td>1100</td>\n",
       "      <td>1100</td>\n",
       "      <td>1100</td>\n",
       "      <td>1100</td>\n",
       "      <td>1100</td>\n",
       "      <td>1100</td>\n",
       "    </tr>\n",
       "    <tr>\n",
       "      <th>unique</th>\n",
       "      <td>3</td>\n",
       "      <td>3</td>\n",
       "      <td>5</td>\n",
       "      <td>6</td>\n",
       "      <td>2</td>\n",
       "      <td>4</td>\n",
       "      <td>1</td>\n",
       "      <td>2</td>\n",
       "    </tr>\n",
       "    <tr>\n",
       "      <th>top</th>\n",
       "      <td>Travel_Rarely</td>\n",
       "      <td>Research &amp; Development</td>\n",
       "      <td>3</td>\n",
       "      <td>Life Sciences</td>\n",
       "      <td>Male</td>\n",
       "      <td>4</td>\n",
       "      <td>Y</td>\n",
       "      <td>No</td>\n",
       "    </tr>\n",
       "    <tr>\n",
       "      <th>freq</th>\n",
       "      <td>787</td>\n",
       "      <td>727</td>\n",
       "      <td>431</td>\n",
       "      <td>462</td>\n",
       "      <td>653</td>\n",
       "      <td>350</td>\n",
       "      <td>1100</td>\n",
       "      <td>794</td>\n",
       "    </tr>\n",
       "  </tbody>\n",
       "</table>\n",
       "</div>"
      ],
      "text/plain": [
       "       BusinessTravel              Department Education EducationField Gender  \\\n",
       "count            1100                    1100      1100           1100   1100   \n",
       "unique              3                       3         5              6      2   \n",
       "top     Travel_Rarely  Research & Development         3  Life Sciences   Male   \n",
       "freq              787                     727       431            462    653   \n",
       "\n",
       "       JobSatisfaction Over18 OverTime  \n",
       "count             1100   1100     1100  \n",
       "unique               4      1        2  \n",
       "top                  4      Y       No  \n",
       "freq               350   1100      794  "
      ]
     },
     "execution_count": 11,
     "metadata": {},
     "output_type": "execute_result"
    }
   ],
   "source": [
    "data.describe(include='object')"
   ]
  },
  {
   "cell_type": "markdown",
   "metadata": {},
   "source": [
    "我们可以从上面的结果中看到，`Over18`的唯一值数量只有1个（当然雇佣的员工应当大于18岁），即所有的值都为`Y`，因此这列也是可以进行删除的。  \n",
    "同样，也可以通过`plot`方法来可视化数据。例如使用条形图来观察员工所学习的专业领域的分布，我们可以先使用value_counts函数进行各个类别的频次统计，然后调用plot.bar方法绘制条形图。  "
   ]
  },
  {
   "cell_type": "code",
   "execution_count": 12,
   "metadata": {},
   "outputs": [
    {
     "data": {
      "text/plain": [
       "<matplotlib.axes._subplots.AxesSubplot at 0x120f6d208>"
      ]
     },
     "execution_count": 12,
     "metadata": {},
     "output_type": "execute_result"
    },
    {
     "data": {
      "image/png": "[encoded data removed]",
      "text/plain": [
       "<matplotlib.figure.Figure at 0x120e6dcf8>"
      ]
     },
     "metadata": {},
     "output_type": "display_data"
    }
   ],
   "source": [
    "# 员工所学习的专业领域分布\n",
    "\n",
    "data['EducationField'].value_counts().plot.bar()"
   ]
  },
  {
   "cell_type": "markdown",
   "metadata": {},
   "source": [
    "经过通过初步的观察，我们可以将`StandardHours`和`Over18`这两列删除。"
   ]
  },
  {
   "cell_type": "code",
   "execution_count": 13,
   "metadata": {},
   "outputs": [
    {
     "data": {
      "text/html": [
       "<div>\n",
       "<style scoped>\n",
       "    .dataframe tbody tr th:only-of-type {\n",
       "        vertical-align: middle;\n",
       "    }\n",
       "\n",
       "    .dataframe tbody tr th {\n",
       "        vertical-align: top;\n",
       "    }\n",
       "\n",
       "    .dataframe thead th {\n",
       "        text-align: right;\n",
       "    }\n",
       "</style>\n",
       "<table border=\"1\" class=\"dataframe\">\n",
       "  <thead>\n",
       "    <tr style=\"text-align: right;\">\n",
       "      <th></th>\n",
       "      <th>Age</th>\n",
       "      <th>BusinessTravel</th>\n",
       "      <th>Department</th>\n",
       "      <th>DistanceFromHome</th>\n",
       "      <th>Education</th>\n",
       "      <th>EducationField</th>\n",
       "      <th>Gender</th>\n",
       "      <th>JobSatisfaction</th>\n",
       "      <th>MonthlyIncome</th>\n",
       "      <th>NumCompaniesWorked</th>\n",
       "      <th>OverTime</th>\n",
       "      <th>TotalWorkingYears</th>\n",
       "      <th>YearsAtCompany</th>\n",
       "      <th>Attrition</th>\n",
       "    </tr>\n",
       "  </thead>\n",
       "  <tbody>\n",
       "    <tr>\n",
       "      <th>0</th>\n",
       "      <td>37</td>\n",
       "      <td>Travel_Rarely</td>\n",
       "      <td>Research &amp; Development</td>\n",
       "      <td>1</td>\n",
       "      <td>4</td>\n",
       "      <td>Life Sciences</td>\n",
       "      <td>Male</td>\n",
       "      <td>3</td>\n",
       "      <td>5993</td>\n",
       "      <td>1</td>\n",
       "      <td>No</td>\n",
       "      <td>7</td>\n",
       "      <td>7</td>\n",
       "      <td>0</td>\n",
       "    </tr>\n",
       "    <tr>\n",
       "      <th>1</th>\n",
       "      <td>54</td>\n",
       "      <td>Travel_Frequently</td>\n",
       "      <td>Research &amp; Development</td>\n",
       "      <td>1</td>\n",
       "      <td>4</td>\n",
       "      <td>Life Sciences</td>\n",
       "      <td>Female</td>\n",
       "      <td>3</td>\n",
       "      <td>10502</td>\n",
       "      <td>7</td>\n",
       "      <td>No</td>\n",
       "      <td>33</td>\n",
       "      <td>5</td>\n",
       "      <td>0</td>\n",
       "    </tr>\n",
       "    <tr>\n",
       "      <th>2</th>\n",
       "      <td>34</td>\n",
       "      <td>Travel_Frequently</td>\n",
       "      <td>Research &amp; Development</td>\n",
       "      <td>7</td>\n",
       "      <td>3</td>\n",
       "      <td>Life Sciences</td>\n",
       "      <td>Male</td>\n",
       "      <td>3</td>\n",
       "      <td>6074</td>\n",
       "      <td>1</td>\n",
       "      <td>Yes</td>\n",
       "      <td>9</td>\n",
       "      <td>9</td>\n",
       "      <td>1</td>\n",
       "    </tr>\n",
       "    <tr>\n",
       "      <th>3</th>\n",
       "      <td>39</td>\n",
       "      <td>Travel_Rarely</td>\n",
       "      <td>Research &amp; Development</td>\n",
       "      <td>1</td>\n",
       "      <td>1</td>\n",
       "      <td>Life Sciences</td>\n",
       "      <td>Female</td>\n",
       "      <td>4</td>\n",
       "      <td>12742</td>\n",
       "      <td>1</td>\n",
       "      <td>No</td>\n",
       "      <td>21</td>\n",
       "      <td>21</td>\n",
       "      <td>0</td>\n",
       "    </tr>\n",
       "    <tr>\n",
       "      <th>4</th>\n",
       "      <td>28</td>\n",
       "      <td>Travel_Frequently</td>\n",
       "      <td>Research &amp; Development</td>\n",
       "      <td>1</td>\n",
       "      <td>3</td>\n",
       "      <td>Medical</td>\n",
       "      <td>Male</td>\n",
       "      <td>2</td>\n",
       "      <td>2596</td>\n",
       "      <td>1</td>\n",
       "      <td>No</td>\n",
       "      <td>1</td>\n",
       "      <td>1</td>\n",
       "      <td>1</td>\n",
       "    </tr>\n",
       "  </tbody>\n",
       "</table>\n",
       "</div>"
      ],
      "text/plain": [
       "   Age     BusinessTravel              Department  DistanceFromHome Education  \\\n",
       "0   37      Travel_Rarely  Research & Development                 1         4   \n",
       "1   54  Travel_Frequently  Research & Development                 1         4   \n",
       "2   34  Travel_Frequently  Research & Development                 7         3   \n",
       "3   39      Travel_Rarely  Research & Development                 1         1   \n",
       "4   28  Travel_Frequently  Research & Development                 1         3   \n",
       "\n",
       "  EducationField  Gender JobSatisfaction  MonthlyIncome  NumCompaniesWorked  \\\n",
       "0  Life Sciences    Male               3           5993                   1   \n",
       "1  Life Sciences  Female               3          10502                   7   \n",
       "2  Life Sciences    Male               3           6074                   1   \n",
       "3  Life Sciences  Female               4          12742                   1   \n",
       "4        Medical    Male               2           2596                   1   \n",
       "\n",
       "  OverTime  TotalWorkingYears  YearsAtCompany  Attrition  \n",
       "0       No                  7               7          0  \n",
       "1       No                 33               5          0  \n",
       "2      Yes                  9               9          1  \n",
       "3       No                 21              21          0  \n",
       "4       No                  1               1          1  "
      ]
     },
     "execution_count": 13,
     "metadata": {},
     "output_type": "execute_result"
    }
   ],
   "source": [
    "data.drop(columns=['StandardHours', 'Over18'], inplace=True)\n",
    "data.head()"
   ]
  },
  {
   "cell_type": "markdown",
   "metadata": {},
   "source": [
    "### 常用的统计汇总方法"
   ]
  },
  {
   "cell_type": "markdown",
   "metadata": {},
   "source": [
    "除了一些简单的数据的预览方法，接下来我们介绍一些`pandas`库中常用的一些汇总统计的方法"
   ]
  },
  {
   "cell_type": "markdown",
   "metadata": {},
   "source": [
    "- 查看各员工所学习的专业领域的数量和占比\n",
    "\n",
    "我们可以使用`value_counts`方法来汇总统计某一个类别类型的数量"
   ]
  },
  {
   "cell_type": "code",
   "execution_count": 14,
   "metadata": {},
   "outputs": [
    {
     "data": {
      "text/plain": [
       "Life Sciences       462\n",
       "Medical             337\n",
       "Marketing           127\n",
       "Technical Degree     92\n",
       "Other                63\n",
       "Human Resources      19\n",
       "Name: EducationField, dtype: int64"
      ]
     },
     "execution_count": 14,
     "metadata": {},
     "output_type": "execute_result"
    }
   ],
   "source": [
    "# 各员工所学习的专业领域的数量\n",
    "\n",
    "data['EducationField'].value_counts()"
   ]
  },
  {
   "cell_type": "code",
   "execution_count": 15,
   "metadata": {},
   "outputs": [
    {
     "data": {
      "text/plain": [
       "Life Sciences       0.420000\n",
       "Medical             0.306364\n",
       "Marketing           0.115455\n",
       "Technical Degree    0.083636\n",
       "Other               0.057273\n",
       "Human Resources     0.017273\n",
       "Name: EducationField, dtype: float64"
      ]
     },
     "execution_count": 15,
     "metadata": {},
     "output_type": "execute_result"
    }
   ],
   "source": [
    "# 各占比各员工所学习的专业领域的占比\n",
    "\n",
    "data['EducationField'].value_counts() / data['EducationField'].count()"
   ]
  },
  {
   "cell_type": "markdown",
   "metadata": {},
   "source": [
    "- 查看各员工所学习的专业领域的平均薪资与薪资的标准差\n",
    "\n",
    "我们可以使用`groupby`方法对`EducationField`进行分组，随后使用`agg`方法计算薪资的均值和标准差。"
   ]
  },
  {
   "cell_type": "code",
   "execution_count": 16,
   "metadata": {},
   "outputs": [
    {
     "data": {
      "text/html": [
       "<div>\n",
       "<style scoped>\n",
       "    .dataframe tbody tr th:only-of-type {\n",
       "        vertical-align: middle;\n",
       "    }\n",
       "\n",
       "    .dataframe tbody tr th {\n",
       "        vertical-align: top;\n",
       "    }\n",
       "\n",
       "    .dataframe thead th {\n",
       "        text-align: right;\n",
       "    }\n",
       "</style>\n",
       "<table border=\"1\" class=\"dataframe\">\n",
       "  <thead>\n",
       "    <tr style=\"text-align: right;\">\n",
       "      <th></th>\n",
       "      <th>avg_income</th>\n",
       "      <th>std_income</th>\n",
       "    </tr>\n",
       "    <tr>\n",
       "      <th>EducationField</th>\n",
       "      <th></th>\n",
       "      <th></th>\n",
       "    </tr>\n",
       "  </thead>\n",
       "  <tbody>\n",
       "    <tr>\n",
       "      <th>Human Resources</th>\n",
       "      <td>7177.894737</td>\n",
       "      <td>6723.810790</td>\n",
       "    </tr>\n",
       "    <tr>\n",
       "      <th>Life Sciences</th>\n",
       "      <td>6378.129870</td>\n",
       "      <td>4681.079805</td>\n",
       "    </tr>\n",
       "    <tr>\n",
       "      <th>Marketing</th>\n",
       "      <td>7474.496063</td>\n",
       "      <td>4315.980008</td>\n",
       "    </tr>\n",
       "    <tr>\n",
       "      <th>Medical</th>\n",
       "      <td>6469.376855</td>\n",
       "      <td>4942.854363</td>\n",
       "    </tr>\n",
       "    <tr>\n",
       "      <th>Other</th>\n",
       "      <td>5613.650794</td>\n",
       "      <td>4219.394866</td>\n",
       "    </tr>\n",
       "    <tr>\n",
       "      <th>Technical Degree</th>\n",
       "      <td>6150.065217</td>\n",
       "      <td>4274.585367</td>\n",
       "    </tr>\n",
       "  </tbody>\n",
       "</table>\n",
       "</div>"
      ],
      "text/plain": [
       "                   avg_income   std_income\n",
       "EducationField                            \n",
       "Human Resources   7177.894737  6723.810790\n",
       "Life Sciences     6378.129870  4681.079805\n",
       "Marketing         7474.496063  4315.980008\n",
       "Medical           6469.376855  4942.854363\n",
       "Other             5613.650794  4219.394866\n",
       "Technical Degree  6150.065217  4274.585367"
      ]
     },
     "execution_count": 16,
     "metadata": {},
     "output_type": "execute_result"
    }
   ],
   "source": [
    "# 各员工所学习的专业领域的平均薪资与薪资的标准差\n",
    "\n",
    "data.groupby('EducationField').agg(\n",
    "    avg_income = pd.NamedAgg('MonthlyIncome', 'mean'),\n",
    "    std_income = pd.NamedAgg('MonthlyIncome', 'std'))"
   ]
  },
  {
   "cell_type": "markdown",
   "metadata": {},
   "source": [
    "- 查看各员工所学习的专业领域和部门的混淆矩阵\n",
    "\n",
    "我们可以使用`pandas`的`crosstab`方法来生成混淆矩阵"
   ]
  },
  {
   "cell_type": "code",
   "execution_count": 17,
   "metadata": {},
   "outputs": [
    {
     "data": {
      "text/html": [
       "<div>\n",
       "<style scoped>\n",
       "    .dataframe tbody tr th:only-of-type {\n",
       "        vertical-align: middle;\n",
       "    }\n",
       "\n",
       "    .dataframe tbody tr th {\n",
       "        vertical-align: top;\n",
       "    }\n",
       "\n",
       "    .dataframe thead th {\n",
       "        text-align: right;\n",
       "    }\n",
       "</style>\n",
       "<table border=\"1\" class=\"dataframe\">\n",
       "  <thead>\n",
       "    <tr style=\"text-align: right;\">\n",
       "      <th>Department</th>\n",
       "      <th>Human Resources</th>\n",
       "      <th>Research &amp; Development</th>\n",
       "      <th>Sales</th>\n",
       "    </tr>\n",
       "    <tr>\n",
       "      <th>EducationField</th>\n",
       "      <th></th>\n",
       "      <th></th>\n",
       "      <th></th>\n",
       "    </tr>\n",
       "  </thead>\n",
       "  <tbody>\n",
       "    <tr>\n",
       "      <th>Human Resources</th>\n",
       "      <td>19</td>\n",
       "      <td>0</td>\n",
       "      <td>0</td>\n",
       "    </tr>\n",
       "    <tr>\n",
       "      <th>Life Sciences</th>\n",
       "      <td>9</td>\n",
       "      <td>345</td>\n",
       "      <td>108</td>\n",
       "    </tr>\n",
       "    <tr>\n",
       "      <th>Marketing</th>\n",
       "      <td>0</td>\n",
       "      <td>0</td>\n",
       "      <td>127</td>\n",
       "    </tr>\n",
       "    <tr>\n",
       "      <th>Medical</th>\n",
       "      <td>9</td>\n",
       "      <td>267</td>\n",
       "      <td>61</td>\n",
       "    </tr>\n",
       "    <tr>\n",
       "      <th>Other</th>\n",
       "      <td>2</td>\n",
       "      <td>50</td>\n",
       "      <td>11</td>\n",
       "    </tr>\n",
       "    <tr>\n",
       "      <th>Technical Degree</th>\n",
       "      <td>3</td>\n",
       "      <td>65</td>\n",
       "      <td>24</td>\n",
       "    </tr>\n",
       "  </tbody>\n",
       "</table>\n",
       "</div>"
      ],
      "text/plain": [
       "Department        Human Resources  Research & Development  Sales\n",
       "EducationField                                                  \n",
       "Human Resources                19                       0      0\n",
       "Life Sciences                   9                     345    108\n",
       "Marketing                       0                       0    127\n",
       "Medical                         9                     267     61\n",
       "Other                           2                      50     11\n",
       "Technical Degree                3                      65     24"
      ]
     },
     "execution_count": 17,
     "metadata": {},
     "output_type": "execute_result"
    }
   ],
   "source": [
    "# 各员工所学习的专业领域和部门的混淆矩阵\n",
    "\n",
    "pd.crosstab(data['EducationField'], data['Department'])"
   ]
  },
  {
   "cell_type": "markdown",
   "metadata": {},
   "source": [
    "- 查看各特征间的相关性\n",
    "\n",
    "我们可以使用`corr`方法来查看各特征间的相关性"
   ]
  },
  {
   "cell_type": "code",
   "execution_count": 18,
   "metadata": {},
   "outputs": [
    {
     "data": {
      "text/html": [
       "<div>\n",
       "<style scoped>\n",
       "    .dataframe tbody tr th:only-of-type {\n",
       "        vertical-align: middle;\n",
       "    }\n",
       "\n",
       "    .dataframe tbody tr th {\n",
       "        vertical-align: top;\n",
       "    }\n",
       "\n",
       "    .dataframe thead th {\n",
       "        text-align: right;\n",
       "    }\n",
       "</style>\n",
       "<table border=\"1\" class=\"dataframe\">\n",
       "  <thead>\n",
       "    <tr style=\"text-align: right;\">\n",
       "      <th></th>\n",
       "      <th>Age</th>\n",
       "      <th>DistanceFromHome</th>\n",
       "      <th>MonthlyIncome</th>\n",
       "      <th>NumCompaniesWorked</th>\n",
       "      <th>TotalWorkingYears</th>\n",
       "      <th>YearsAtCompany</th>\n",
       "      <th>Attrition</th>\n",
       "    </tr>\n",
       "  </thead>\n",
       "  <tbody>\n",
       "    <tr>\n",
       "      <th>Age</th>\n",
       "      <td>1.000000</td>\n",
       "      <td>0.007081</td>\n",
       "      <td>0.500163</td>\n",
       "      <td>0.291211</td>\n",
       "      <td>0.682879</td>\n",
       "      <td>0.328651</td>\n",
       "      <td>-0.175393</td>\n",
       "    </tr>\n",
       "    <tr>\n",
       "      <th>DistanceFromHome</th>\n",
       "      <td>0.007081</td>\n",
       "      <td>1.000000</td>\n",
       "      <td>-0.017757</td>\n",
       "      <td>-0.016378</td>\n",
       "      <td>0.001287</td>\n",
       "      <td>0.000044</td>\n",
       "      <td>0.088563</td>\n",
       "    </tr>\n",
       "    <tr>\n",
       "      <th>MonthlyIncome</th>\n",
       "      <td>0.500163</td>\n",
       "      <td>-0.017757</td>\n",
       "      <td>1.000000</td>\n",
       "      <td>0.164627</td>\n",
       "      <td>0.772043</td>\n",
       "      <td>0.520641</td>\n",
       "      <td>-0.155521</td>\n",
       "    </tr>\n",
       "    <tr>\n",
       "      <th>NumCompaniesWorked</th>\n",
       "      <td>0.291211</td>\n",
       "      <td>-0.016378</td>\n",
       "      <td>0.164627</td>\n",
       "      <td>1.000000</td>\n",
       "      <td>0.236079</td>\n",
       "      <td>-0.109451</td>\n",
       "      <td>0.025889</td>\n",
       "    </tr>\n",
       "    <tr>\n",
       "      <th>TotalWorkingYears</th>\n",
       "      <td>0.682879</td>\n",
       "      <td>0.001287</td>\n",
       "      <td>0.772043</td>\n",
       "      <td>0.236079</td>\n",
       "      <td>1.000000</td>\n",
       "      <td>0.642581</td>\n",
       "      <td>-0.187922</td>\n",
       "    </tr>\n",
       "    <tr>\n",
       "      <th>YearsAtCompany</th>\n",
       "      <td>0.328651</td>\n",
       "      <td>0.000044</td>\n",
       "      <td>0.520641</td>\n",
       "      <td>-0.109451</td>\n",
       "      <td>0.642581</td>\n",
       "      <td>1.000000</td>\n",
       "      <td>-0.143697</td>\n",
       "    </tr>\n",
       "    <tr>\n",
       "      <th>Attrition</th>\n",
       "      <td>-0.175393</td>\n",
       "      <td>0.088563</td>\n",
       "      <td>-0.155521</td>\n",
       "      <td>0.025889</td>\n",
       "      <td>-0.187922</td>\n",
       "      <td>-0.143697</td>\n",
       "      <td>1.000000</td>\n",
       "    </tr>\n",
       "  </tbody>\n",
       "</table>\n",
       "</div>"
      ],
      "text/plain": [
       "                         Age  DistanceFromHome  MonthlyIncome  \\\n",
       "Age                 1.000000          0.007081       0.500163   \n",
       "DistanceFromHome    0.007081          1.000000      -0.017757   \n",
       "MonthlyIncome       0.500163         -0.017757       1.000000   \n",
       "NumCompaniesWorked  0.291211         -0.016378       0.164627   \n",
       "TotalWorkingYears   0.682879          0.001287       0.772043   \n",
       "YearsAtCompany      0.328651          0.000044       0.520641   \n",
       "Attrition          -0.175393          0.088563      -0.155521   \n",
       "\n",
       "                    NumCompaniesWorked  TotalWorkingYears  YearsAtCompany  \\\n",
       "Age                           0.291211           0.682879        0.328651   \n",
       "DistanceFromHome             -0.016378           0.001287        0.000044   \n",
       "MonthlyIncome                 0.164627           0.772043        0.520641   \n",
       "NumCompaniesWorked            1.000000           0.236079       -0.109451   \n",
       "TotalWorkingYears             0.236079           1.000000        0.642581   \n",
       "YearsAtCompany               -0.109451           0.642581        1.000000   \n",
       "Attrition                     0.025889          -0.187922       -0.143697   \n",
       "\n",
       "                    Attrition  \n",
       "Age                 -0.175393  \n",
       "DistanceFromHome     0.088563  \n",
       "MonthlyIncome       -0.155521  \n",
       "NumCompaniesWorked   0.025889  \n",
       "TotalWorkingYears   -0.187922  \n",
       "YearsAtCompany      -0.143697  \n",
       "Attrition            1.000000  "
      ]
     },
     "execution_count": 18,
     "metadata": {},
     "output_type": "execute_result"
    }
   ],
   "source": [
    "# 看各特征间的相关性\n",
    "\n",
    "data.corr()"
   ]
  },
  {
   "cell_type": "markdown",
   "metadata": {
    "toc-hr-collapsed": true
   },
   "source": [
    "## 缺失值处理"
   ]
  },
  {
   "cell_type": "markdown",
   "metadata": {},
   "source": [
    "缺失值在实际的工作中是非常常见的。例如一份调查问卷，很多调查对象不愿意透露自己的年龄、薪资等个人隐私；由于传感器故障导致部分时间的数据缺失等。这一小节我们将介绍3个处理缺失值的方式：删除、简单填充和基于模型。    \n",
    "我们首先构造一个简单具有缺失值的数据集，用于之后的演示。"
   ]
  },
  {
   "cell_type": "code",
   "execution_count": 19,
   "metadata": {},
   "outputs": [
    {
     "data": {
      "text/html": [
       "<div>\n",
       "<style scoped>\n",
       "    .dataframe tbody tr th:only-of-type {\n",
       "        vertical-align: middle;\n",
       "    }\n",
       "\n",
       "    .dataframe tbody tr th {\n",
       "        vertical-align: top;\n",
       "    }\n",
       "\n",
       "    .dataframe thead th {\n",
       "        text-align: right;\n",
       "    }\n",
       "</style>\n",
       "<table border=\"1\" class=\"dataframe\">\n",
       "  <thead>\n",
       "    <tr style=\"text-align: right;\">\n",
       "      <th></th>\n",
       "      <th>name</th>\n",
       "      <th>score</th>\n",
       "      <th>level1</th>\n",
       "      <th>level2</th>\n",
       "      <th>level3</th>\n",
       "    </tr>\n",
       "  </thead>\n",
       "  <tbody>\n",
       "    <tr>\n",
       "      <th>0</th>\n",
       "      <td>Marry</td>\n",
       "      <td>9.2</td>\n",
       "      <td>A</td>\n",
       "      <td>C</td>\n",
       "      <td>F</td>\n",
       "    </tr>\n",
       "    <tr>\n",
       "      <th>1</th>\n",
       "      <td>Peter</td>\n",
       "      <td>8.3</td>\n",
       "      <td>B</td>\n",
       "      <td>A</td>\n",
       "      <td>D</td>\n",
       "    </tr>\n",
       "    <tr>\n",
       "      <th>2</th>\n",
       "      <td>Jhon</td>\n",
       "      <td>6.4</td>\n",
       "      <td>NaN</td>\n",
       "      <td>F</td>\n",
       "      <td>D</td>\n",
       "    </tr>\n",
       "    <tr>\n",
       "      <th>3</th>\n",
       "      <td>Steven</td>\n",
       "      <td>NaN</td>\n",
       "      <td>B</td>\n",
       "      <td>D</td>\n",
       "      <td>F</td>\n",
       "    </tr>\n",
       "    <tr>\n",
       "      <th>4</th>\n",
       "      <td>James</td>\n",
       "      <td>7.3</td>\n",
       "      <td>C</td>\n",
       "      <td>A</td>\n",
       "      <td>F</td>\n",
       "    </tr>\n",
       "    <tr>\n",
       "      <th>5</th>\n",
       "      <td>Emma</td>\n",
       "      <td>NaN</td>\n",
       "      <td>C</td>\n",
       "      <td>B</td>\n",
       "      <td>NaN</td>\n",
       "    </tr>\n",
       "    <tr>\n",
       "      <th>6</th>\n",
       "      <td>David</td>\n",
       "      <td>8.2</td>\n",
       "      <td>B</td>\n",
       "      <td>D</td>\n",
       "      <td>NaN</td>\n",
       "    </tr>\n",
       "  </tbody>\n",
       "</table>\n",
       "</div>"
      ],
      "text/plain": [
       "     name  score level1 level2 level3\n",
       "0   Marry    9.2      A      C      F\n",
       "1   Peter    8.3      B      A      D\n",
       "2    Jhon    6.4    NaN      F      D\n",
       "3  Steven    NaN      B      D      F\n",
       "4   James    7.3      C      A      F\n",
       "5    Emma    NaN      C      B    NaN\n",
       "6   David    8.2      B      D    NaN"
      ]
     },
     "execution_count": 19,
     "metadata": {},
     "output_type": "execute_result"
    }
   ],
   "source": [
    "# 构造一个具有缺失值的数据集\n",
    "import numpy as np\n",
    "\n",
    "missing_data = pd.DataFrame({\n",
    "    'name': ['Marry', 'Peter', 'Jhon', 'Steven', 'James', 'Emma', 'David'], \n",
    "    'score': [9.2, 8.3, 6.4, np.nan, 7.3, np.nan, 8.2], \n",
    "    'level1': ['A', 'B', np.nan, 'B', 'C', 'C', 'B'],\n",
    "    'level2': ['C', 'A', 'F', 'D', 'A', 'B', 'D'],\n",
    "    'level3': ['F', 'D', 'D', 'F', 'F', np.nan, np.nan]\n",
    "})\n",
    "missing_data"
   ]
  },
  {
   "cell_type": "markdown",
   "metadata": {},
   "source": [
    "### 定位缺失值"
   ]
  },
  {
   "cell_type": "markdown",
   "metadata": {},
   "source": [
    "要处理缺失值，首先我们需要先观察一下这些缺失值，因此第一步我们要讨论定位到缺失值。`DataFrame`中可以通过`isnull()`方法来定位与查看缺失值的情况。"
   ]
  },
  {
   "cell_type": "code",
   "execution_count": 20,
   "metadata": {},
   "outputs": [
    {
     "data": {
      "text/html": [
       "<div>\n",
       "<style scoped>\n",
       "    .dataframe tbody tr th:only-of-type {\n",
       "        vertical-align: middle;\n",
       "    }\n",
       "\n",
       "    .dataframe tbody tr th {\n",
       "        vertical-align: top;\n",
       "    }\n",
       "\n",
       "    .dataframe thead th {\n",
       "        text-align: right;\n",
       "    }\n",
       "</style>\n",
       "<table border=\"1\" class=\"dataframe\">\n",
       "  <thead>\n",
       "    <tr style=\"text-align: right;\">\n",
       "      <th></th>\n",
       "      <th>name</th>\n",
       "      <th>score</th>\n",
       "      <th>level1</th>\n",
       "      <th>level2</th>\n",
       "      <th>level3</th>\n",
       "    </tr>\n",
       "  </thead>\n",
       "  <tbody>\n",
       "    <tr>\n",
       "      <th>3</th>\n",
       "      <td>Steven</td>\n",
       "      <td>NaN</td>\n",
       "      <td>B</td>\n",
       "      <td>D</td>\n",
       "      <td>F</td>\n",
       "    </tr>\n",
       "    <tr>\n",
       "      <th>5</th>\n",
       "      <td>Emma</td>\n",
       "      <td>NaN</td>\n",
       "      <td>C</td>\n",
       "      <td>B</td>\n",
       "      <td>NaN</td>\n",
       "    </tr>\n",
       "  </tbody>\n",
       "</table>\n",
       "</div>"
      ],
      "text/plain": [
       "     name  score level1 level2 level3\n",
       "3  Steven    NaN      B      D      F\n",
       "5    Emma    NaN      C      B    NaN"
      ]
     },
     "execution_count": 20,
     "metadata": {},
     "output_type": "execute_result"
    }
   ],
   "source": [
    "# 查看score为缺失值的样本\n",
    "\n",
    "missing_data[missing_data['score'].isnull()]"
   ]
  },
  {
   "cell_type": "markdown",
   "metadata": {},
   "source": [
    "### 删除缺失值"
   ]
  },
  {
   "cell_type": "markdown",
   "metadata": {},
   "source": [
    "删除有缺失数据的样本或列往往是最简单的方式。如果我们的数据集样本量非常大，删除几条缺失的数据样本影响可能无乎其微，但这对于很多数据量较小的数据集是灾难性的。  \n",
    "那如何界定是否可以直接删除是没有一个标准答案的。例如\n",
    "\n",
    "- 如果某一列缺失数据占比达到了90%以上，这时你可以考虑将这一列进行删除，因为大部分都是缺失数据，这时对于我们的建模可能没有什么帮助。\n",
    "- 如果某一列数据缺失了几条，而你的样本量又是很大，例如100万条样本，这时你可以选择删除含有缺失值的样本。\n",
    "- 如果某一列缺失了20%的数据，但是你的样本量又很小，例如只有100来条数据，这时你选择删除可能会对之后的建模带来比较大的负面影响，可能不太适合使用删除的方式来处理。\n",
    "\n",
    "总而言之，使用删除这个方式来处理缺失值，没有一个标准可循，需要是实际情况而定。  "
   ]
  },
  {
   "cell_type": "markdown",
   "metadata": {},
   "source": [
    "`DataFrame`中提供了`dropna`方法可以方便删除与缺失值相关数据的方法。可以设置其参数来表示如何删除，常用的有3个参数\n",
    "\n",
    "- `axis`：删除的行还是列，`0`表示删除行；`1`表示删除列，默认为`0`\n",
    "- `how`：表示删除的条件，`any`表示只要有一个缺失就进行删除；`all`表示当所有的值都缺失时进行删除，默认为`any`\n",
    "- `thresh`：表示保留非缺失数目达到改值的数据，例如`1`表示非确实数据达到1个的则不进行删除"
   ]
  },
  {
   "cell_type": "code",
   "execution_count": 21,
   "metadata": {},
   "outputs": [
    {
     "data": {
      "text/html": [
       "<div>\n",
       "<style scoped>\n",
       "    .dataframe tbody tr th:only-of-type {\n",
       "        vertical-align: middle;\n",
       "    }\n",
       "\n",
       "    .dataframe tbody tr th {\n",
       "        vertical-align: top;\n",
       "    }\n",
       "\n",
       "    .dataframe thead th {\n",
       "        text-align: right;\n",
       "    }\n",
       "</style>\n",
       "<table border=\"1\" class=\"dataframe\">\n",
       "  <thead>\n",
       "    <tr style=\"text-align: right;\">\n",
       "      <th></th>\n",
       "      <th>name</th>\n",
       "      <th>score</th>\n",
       "      <th>level1</th>\n",
       "      <th>level2</th>\n",
       "      <th>level3</th>\n",
       "    </tr>\n",
       "  </thead>\n",
       "  <tbody>\n",
       "    <tr>\n",
       "      <th>0</th>\n",
       "      <td>Marry</td>\n",
       "      <td>9.2</td>\n",
       "      <td>A</td>\n",
       "      <td>C</td>\n",
       "      <td>F</td>\n",
       "    </tr>\n",
       "    <tr>\n",
       "      <th>1</th>\n",
       "      <td>Peter</td>\n",
       "      <td>8.3</td>\n",
       "      <td>B</td>\n",
       "      <td>A</td>\n",
       "      <td>D</td>\n",
       "    </tr>\n",
       "    <tr>\n",
       "      <th>4</th>\n",
       "      <td>James</td>\n",
       "      <td>7.3</td>\n",
       "      <td>C</td>\n",
       "      <td>A</td>\n",
       "      <td>F</td>\n",
       "    </tr>\n",
       "  </tbody>\n",
       "</table>\n",
       "</div>"
      ],
      "text/plain": [
       "    name  score level1 level2 level3\n",
       "0  Marry    9.2      A      C      F\n",
       "1  Peter    8.3      B      A      D\n",
       "4  James    7.3      C      A      F"
      ]
     },
     "execution_count": 21,
     "metadata": {},
     "output_type": "execute_result"
    }
   ],
   "source": [
    "# 删除含有缺失值的行\n",
    "\n",
    "missing_data.dropna()"
   ]
  },
  {
   "cell_type": "code",
   "execution_count": 22,
   "metadata": {},
   "outputs": [
    {
     "data": {
      "text/html": [
       "<div>\n",
       "<style scoped>\n",
       "    .dataframe tbody tr th:only-of-type {\n",
       "        vertical-align: middle;\n",
       "    }\n",
       "\n",
       "    .dataframe tbody tr th {\n",
       "        vertical-align: top;\n",
       "    }\n",
       "\n",
       "    .dataframe thead th {\n",
       "        text-align: right;\n",
       "    }\n",
       "</style>\n",
       "<table border=\"1\" class=\"dataframe\">\n",
       "  <thead>\n",
       "    <tr style=\"text-align: right;\">\n",
       "      <th></th>\n",
       "      <th>name</th>\n",
       "      <th>level2</th>\n",
       "    </tr>\n",
       "  </thead>\n",
       "  <tbody>\n",
       "    <tr>\n",
       "      <th>0</th>\n",
       "      <td>Marry</td>\n",
       "      <td>C</td>\n",
       "    </tr>\n",
       "    <tr>\n",
       "      <th>1</th>\n",
       "      <td>Peter</td>\n",
       "      <td>A</td>\n",
       "    </tr>\n",
       "    <tr>\n",
       "      <th>2</th>\n",
       "      <td>Jhon</td>\n",
       "      <td>F</td>\n",
       "    </tr>\n",
       "    <tr>\n",
       "      <th>3</th>\n",
       "      <td>Steven</td>\n",
       "      <td>D</td>\n",
       "    </tr>\n",
       "    <tr>\n",
       "      <th>4</th>\n",
       "      <td>James</td>\n",
       "      <td>A</td>\n",
       "    </tr>\n",
       "    <tr>\n",
       "      <th>5</th>\n",
       "      <td>Emma</td>\n",
       "      <td>B</td>\n",
       "    </tr>\n",
       "    <tr>\n",
       "      <th>6</th>\n",
       "      <td>David</td>\n",
       "      <td>D</td>\n",
       "    </tr>\n",
       "  </tbody>\n",
       "</table>\n",
       "</div>"
      ],
      "text/plain": [
       "     name level2\n",
       "0   Marry      C\n",
       "1   Peter      A\n",
       "2    Jhon      F\n",
       "3  Steven      D\n",
       "4   James      A\n",
       "5    Emma      B\n",
       "6   David      D"
      ]
     },
     "execution_count": 22,
     "metadata": {},
     "output_type": "execute_result"
    }
   ],
   "source": [
    "# 删除含有缺失值的列\n",
    "\n",
    "missing_data.dropna(axis=1)"
   ]
  },
  {
   "cell_type": "code",
   "execution_count": 23,
   "metadata": {},
   "outputs": [
    {
     "data": {
      "text/html": [
       "<div>\n",
       "<style scoped>\n",
       "    .dataframe tbody tr th:only-of-type {\n",
       "        vertical-align: middle;\n",
       "    }\n",
       "\n",
       "    .dataframe tbody tr th {\n",
       "        vertical-align: top;\n",
       "    }\n",
       "\n",
       "    .dataframe thead th {\n",
       "        text-align: right;\n",
       "    }\n",
       "</style>\n",
       "<table border=\"1\" class=\"dataframe\">\n",
       "  <thead>\n",
       "    <tr style=\"text-align: right;\">\n",
       "      <th></th>\n",
       "      <th>name</th>\n",
       "      <th>score</th>\n",
       "      <th>level1</th>\n",
       "      <th>level2</th>\n",
       "      <th>level3</th>\n",
       "    </tr>\n",
       "  </thead>\n",
       "  <tbody>\n",
       "    <tr>\n",
       "      <th>0</th>\n",
       "      <td>Marry</td>\n",
       "      <td>9.2</td>\n",
       "      <td>A</td>\n",
       "      <td>C</td>\n",
       "      <td>F</td>\n",
       "    </tr>\n",
       "    <tr>\n",
       "      <th>1</th>\n",
       "      <td>Peter</td>\n",
       "      <td>8.3</td>\n",
       "      <td>B</td>\n",
       "      <td>A</td>\n",
       "      <td>D</td>\n",
       "    </tr>\n",
       "    <tr>\n",
       "      <th>2</th>\n",
       "      <td>Jhon</td>\n",
       "      <td>6.4</td>\n",
       "      <td>NaN</td>\n",
       "      <td>F</td>\n",
       "      <td>D</td>\n",
       "    </tr>\n",
       "    <tr>\n",
       "      <th>3</th>\n",
       "      <td>Steven</td>\n",
       "      <td>NaN</td>\n",
       "      <td>B</td>\n",
       "      <td>D</td>\n",
       "      <td>F</td>\n",
       "    </tr>\n",
       "    <tr>\n",
       "      <th>4</th>\n",
       "      <td>James</td>\n",
       "      <td>7.3</td>\n",
       "      <td>C</td>\n",
       "      <td>A</td>\n",
       "      <td>F</td>\n",
       "    </tr>\n",
       "    <tr>\n",
       "      <th>6</th>\n",
       "      <td>David</td>\n",
       "      <td>8.2</td>\n",
       "      <td>B</td>\n",
       "      <td>D</td>\n",
       "      <td>NaN</td>\n",
       "    </tr>\n",
       "  </tbody>\n",
       "</table>\n",
       "</div>"
      ],
      "text/plain": [
       "     name  score level1 level2 level3\n",
       "0   Marry    9.2      A      C      F\n",
       "1   Peter    8.3      B      A      D\n",
       "2    Jhon    6.4    NaN      F      D\n",
       "3  Steven    NaN      B      D      F\n",
       "4   James    7.3      C      A      F\n",
       "6   David    8.2      B      D    NaN"
      ]
     },
     "execution_count": 23,
     "metadata": {},
     "output_type": "execute_result"
    }
   ],
   "source": [
    "# 删除非缺失值小于4个的行\n",
    "\n",
    "missing_data.dropna(thresh=4)"
   ]
  },
  {
   "cell_type": "markdown",
   "metadata": {},
   "source": [
    "### 简单填充缺失值"
   ]
  },
  {
   "cell_type": "markdown",
   "metadata": {},
   "source": [
    "简单填充的方式是将缺失值填写为讲过简单计算或者从业务方获取的一个值，例如数值型的可以填入均值或者中位数；类别类型的可以填入频次最高的类别（众数）；填写一个标示，例如将类别的缺失值填充为`unknown`，作为一个新的类别；或者从业务方那边获取的比较可靠的值。这种方式的优点是计算简单，不会删除含有缺失数据的，可以保持数据量，但是缺点也非常明显，就是所填的数可能与真实情况相距甚远。  \n",
    "啥情况下这种方式会比较好呢？同样这也是没有一个比较确切的标准。有时候我们可以根据业务实际来确定，例如有个偏男性向的应用，性别中90%以上的数据为男性，那么当性别缺失时，填入男性也是较为可靠的。  "
   ]
  },
  {
   "cell_type": "markdown",
   "metadata": {},
   "source": [
    "`DataFrame`中提供了`fillna`的方法，这个方法可以方便帮助我们进行缺失值填充。"
   ]
  },
  {
   "cell_type": "code",
   "execution_count": 24,
   "metadata": {},
   "outputs": [
    {
     "data": {
      "text/html": [
       "<div>\n",
       "<style scoped>\n",
       "    .dataframe tbody tr th:only-of-type {\n",
       "        vertical-align: middle;\n",
       "    }\n",
       "\n",
       "    .dataframe tbody tr th {\n",
       "        vertical-align: top;\n",
       "    }\n",
       "\n",
       "    .dataframe thead th {\n",
       "        text-align: right;\n",
       "    }\n",
       "</style>\n",
       "<table border=\"1\" class=\"dataframe\">\n",
       "  <thead>\n",
       "    <tr style=\"text-align: right;\">\n",
       "      <th></th>\n",
       "      <th>name</th>\n",
       "      <th>score</th>\n",
       "      <th>level1</th>\n",
       "      <th>level2</th>\n",
       "      <th>level3</th>\n",
       "    </tr>\n",
       "  </thead>\n",
       "  <tbody>\n",
       "    <tr>\n",
       "      <th>0</th>\n",
       "      <td>Marry</td>\n",
       "      <td>9.20</td>\n",
       "      <td>A</td>\n",
       "      <td>C</td>\n",
       "      <td>F</td>\n",
       "    </tr>\n",
       "    <tr>\n",
       "      <th>1</th>\n",
       "      <td>Peter</td>\n",
       "      <td>8.30</td>\n",
       "      <td>B</td>\n",
       "      <td>A</td>\n",
       "      <td>D</td>\n",
       "    </tr>\n",
       "    <tr>\n",
       "      <th>2</th>\n",
       "      <td>Jhon</td>\n",
       "      <td>6.40</td>\n",
       "      <td>NaN</td>\n",
       "      <td>F</td>\n",
       "      <td>D</td>\n",
       "    </tr>\n",
       "    <tr>\n",
       "      <th>3</th>\n",
       "      <td>Steven</td>\n",
       "      <td>7.88</td>\n",
       "      <td>B</td>\n",
       "      <td>D</td>\n",
       "      <td>F</td>\n",
       "    </tr>\n",
       "    <tr>\n",
       "      <th>4</th>\n",
       "      <td>James</td>\n",
       "      <td>7.30</td>\n",
       "      <td>C</td>\n",
       "      <td>A</td>\n",
       "      <td>F</td>\n",
       "    </tr>\n",
       "    <tr>\n",
       "      <th>5</th>\n",
       "      <td>Emma</td>\n",
       "      <td>7.88</td>\n",
       "      <td>C</td>\n",
       "      <td>B</td>\n",
       "      <td>NaN</td>\n",
       "    </tr>\n",
       "    <tr>\n",
       "      <th>6</th>\n",
       "      <td>David</td>\n",
       "      <td>8.20</td>\n",
       "      <td>B</td>\n",
       "      <td>D</td>\n",
       "      <td>NaN</td>\n",
       "    </tr>\n",
       "  </tbody>\n",
       "</table>\n",
       "</div>"
      ],
      "text/plain": [
       "     name  score level1 level2 level3\n",
       "0   Marry   9.20      A      C      F\n",
       "1   Peter   8.30      B      A      D\n",
       "2    Jhon   6.40    NaN      F      D\n",
       "3  Steven   7.88      B      D      F\n",
       "4   James   7.30      C      A      F\n",
       "5    Emma   7.88      C      B    NaN\n",
       "6   David   8.20      B      D    NaN"
      ]
     },
     "execution_count": 24,
     "metadata": {},
     "output_type": "execute_result"
    }
   ],
   "source": [
    "# 将用score的均值对score的缺失值进行填充\n",
    "\n",
    "data_filled = missing_data.copy()\n",
    "data_filled['score'].fillna(data_filled['score'].mean(), inplace=True)\n",
    "data_filled"
   ]
  },
  {
   "cell_type": "code",
   "execution_count": 25,
   "metadata": {},
   "outputs": [
    {
     "data": {
      "text/html": [
       "<div>\n",
       "<style scoped>\n",
       "    .dataframe tbody tr th:only-of-type {\n",
       "        vertical-align: middle;\n",
       "    }\n",
       "\n",
       "    .dataframe tbody tr th {\n",
       "        vertical-align: top;\n",
       "    }\n",
       "\n",
       "    .dataframe thead th {\n",
       "        text-align: right;\n",
       "    }\n",
       "</style>\n",
       "<table border=\"1\" class=\"dataframe\">\n",
       "  <thead>\n",
       "    <tr style=\"text-align: right;\">\n",
       "      <th></th>\n",
       "      <th>name</th>\n",
       "      <th>score</th>\n",
       "      <th>level1</th>\n",
       "      <th>level2</th>\n",
       "      <th>level3</th>\n",
       "    </tr>\n",
       "  </thead>\n",
       "  <tbody>\n",
       "    <tr>\n",
       "      <th>0</th>\n",
       "      <td>Marry</td>\n",
       "      <td>9.20</td>\n",
       "      <td>A</td>\n",
       "      <td>C</td>\n",
       "      <td>F</td>\n",
       "    </tr>\n",
       "    <tr>\n",
       "      <th>1</th>\n",
       "      <td>Peter</td>\n",
       "      <td>8.30</td>\n",
       "      <td>B</td>\n",
       "      <td>A</td>\n",
       "      <td>D</td>\n",
       "    </tr>\n",
       "    <tr>\n",
       "      <th>2</th>\n",
       "      <td>Jhon</td>\n",
       "      <td>6.40</td>\n",
       "      <td>B</td>\n",
       "      <td>F</td>\n",
       "      <td>D</td>\n",
       "    </tr>\n",
       "    <tr>\n",
       "      <th>3</th>\n",
       "      <td>Steven</td>\n",
       "      <td>7.88</td>\n",
       "      <td>B</td>\n",
       "      <td>D</td>\n",
       "      <td>F</td>\n",
       "    </tr>\n",
       "    <tr>\n",
       "      <th>4</th>\n",
       "      <td>James</td>\n",
       "      <td>7.30</td>\n",
       "      <td>C</td>\n",
       "      <td>A</td>\n",
       "      <td>F</td>\n",
       "    </tr>\n",
       "    <tr>\n",
       "      <th>5</th>\n",
       "      <td>Emma</td>\n",
       "      <td>7.88</td>\n",
       "      <td>C</td>\n",
       "      <td>B</td>\n",
       "      <td>NaN</td>\n",
       "    </tr>\n",
       "    <tr>\n",
       "      <th>6</th>\n",
       "      <td>David</td>\n",
       "      <td>8.20</td>\n",
       "      <td>B</td>\n",
       "      <td>D</td>\n",
       "      <td>NaN</td>\n",
       "    </tr>\n",
       "  </tbody>\n",
       "</table>\n",
       "</div>"
      ],
      "text/plain": [
       "     name  score level1 level2 level3\n",
       "0   Marry   9.20      A      C      F\n",
       "1   Peter   8.30      B      A      D\n",
       "2    Jhon   6.40      B      F      D\n",
       "3  Steven   7.88      B      D      F\n",
       "4   James   7.30      C      A      F\n",
       "5    Emma   7.88      C      B    NaN\n",
       "6   David   8.20      B      D    NaN"
      ]
     },
     "execution_count": 25,
     "metadata": {},
     "output_type": "execute_result"
    }
   ],
   "source": [
    "# 将level1填充为出现频次最多的level1类别\n",
    "\n",
    "data_filled['level1'].fillna(data_filled['level1'].value_counts().index[0], inplace=True)\n",
    "data_filled"
   ]
  },
  {
   "cell_type": "code",
   "execution_count": 26,
   "metadata": {},
   "outputs": [
    {
     "data": {
      "text/html": [
       "<div>\n",
       "<style scoped>\n",
       "    .dataframe tbody tr th:only-of-type {\n",
       "        vertical-align: middle;\n",
       "    }\n",
       "\n",
       "    .dataframe tbody tr th {\n",
       "        vertical-align: top;\n",
       "    }\n",
       "\n",
       "    .dataframe thead th {\n",
       "        text-align: right;\n",
       "    }\n",
       "</style>\n",
       "<table border=\"1\" class=\"dataframe\">\n",
       "  <thead>\n",
       "    <tr style=\"text-align: right;\">\n",
       "      <th></th>\n",
       "      <th>name</th>\n",
       "      <th>score</th>\n",
       "      <th>level1</th>\n",
       "      <th>level2</th>\n",
       "      <th>level3</th>\n",
       "    </tr>\n",
       "  </thead>\n",
       "  <tbody>\n",
       "    <tr>\n",
       "      <th>0</th>\n",
       "      <td>Marry</td>\n",
       "      <td>9.20</td>\n",
       "      <td>A</td>\n",
       "      <td>C</td>\n",
       "      <td>F</td>\n",
       "    </tr>\n",
       "    <tr>\n",
       "      <th>1</th>\n",
       "      <td>Peter</td>\n",
       "      <td>8.30</td>\n",
       "      <td>B</td>\n",
       "      <td>A</td>\n",
       "      <td>D</td>\n",
       "    </tr>\n",
       "    <tr>\n",
       "      <th>2</th>\n",
       "      <td>Jhon</td>\n",
       "      <td>6.40</td>\n",
       "      <td>B</td>\n",
       "      <td>F</td>\n",
       "      <td>D</td>\n",
       "    </tr>\n",
       "    <tr>\n",
       "      <th>3</th>\n",
       "      <td>Steven</td>\n",
       "      <td>7.88</td>\n",
       "      <td>B</td>\n",
       "      <td>D</td>\n",
       "      <td>F</td>\n",
       "    </tr>\n",
       "    <tr>\n",
       "      <th>4</th>\n",
       "      <td>James</td>\n",
       "      <td>7.30</td>\n",
       "      <td>C</td>\n",
       "      <td>A</td>\n",
       "      <td>F</td>\n",
       "    </tr>\n",
       "    <tr>\n",
       "      <th>5</th>\n",
       "      <td>Emma</td>\n",
       "      <td>7.88</td>\n",
       "      <td>C</td>\n",
       "      <td>B</td>\n",
       "      <td>unknown</td>\n",
       "    </tr>\n",
       "    <tr>\n",
       "      <th>6</th>\n",
       "      <td>David</td>\n",
       "      <td>8.20</td>\n",
       "      <td>B</td>\n",
       "      <td>D</td>\n",
       "      <td>unknown</td>\n",
       "    </tr>\n",
       "  </tbody>\n",
       "</table>\n",
       "</div>"
      ],
      "text/plain": [
       "     name  score level1 level2   level3\n",
       "0   Marry   9.20      A      C        F\n",
       "1   Peter   8.30      B      A        D\n",
       "2    Jhon   6.40      B      F        D\n",
       "3  Steven   7.88      B      D        F\n",
       "4   James   7.30      C      A        F\n",
       "5    Emma   7.88      C      B  unknown\n",
       "6   David   8.20      B      D  unknown"
      ]
     },
     "execution_count": 26,
     "metadata": {},
     "output_type": "execute_result"
    }
   ],
   "source": [
    "# 将level3填充为unknown\n",
    "\n",
    "data_filled['level3'].fillna('unknown', inplace=True)\n",
    "data_filled"
   ]
  },
  {
   "cell_type": "markdown",
   "metadata": {},
   "source": [
    "除了按照全局的方式，另一种方式则是按照一定的分组进行填充，例如数据中`Steven`的`level1`为B，那么按`level1`进行分组，然后将B组的均值作为缺失值的填充。"
   ]
  },
  {
   "cell_type": "code",
   "execution_count": 27,
   "metadata": {},
   "outputs": [
    {
     "data": {
      "text/html": [
       "<div>\n",
       "<style scoped>\n",
       "    .dataframe tbody tr th:only-of-type {\n",
       "        vertical-align: middle;\n",
       "    }\n",
       "\n",
       "    .dataframe tbody tr th {\n",
       "        vertical-align: top;\n",
       "    }\n",
       "\n",
       "    .dataframe thead th {\n",
       "        text-align: right;\n",
       "    }\n",
       "</style>\n",
       "<table border=\"1\" class=\"dataframe\">\n",
       "  <thead>\n",
       "    <tr style=\"text-align: right;\">\n",
       "      <th></th>\n",
       "      <th>name</th>\n",
       "      <th>score</th>\n",
       "      <th>level1</th>\n",
       "      <th>level2</th>\n",
       "      <th>level3</th>\n",
       "    </tr>\n",
       "  </thead>\n",
       "  <tbody>\n",
       "    <tr>\n",
       "      <th>0</th>\n",
       "      <td>Marry</td>\n",
       "      <td>9.20</td>\n",
       "      <td>A</td>\n",
       "      <td>C</td>\n",
       "      <td>F</td>\n",
       "    </tr>\n",
       "    <tr>\n",
       "      <th>1</th>\n",
       "      <td>Peter</td>\n",
       "      <td>8.30</td>\n",
       "      <td>B</td>\n",
       "      <td>A</td>\n",
       "      <td>D</td>\n",
       "    </tr>\n",
       "    <tr>\n",
       "      <th>2</th>\n",
       "      <td>Jhon</td>\n",
       "      <td>6.40</td>\n",
       "      <td>NaN</td>\n",
       "      <td>F</td>\n",
       "      <td>D</td>\n",
       "    </tr>\n",
       "    <tr>\n",
       "      <th>3</th>\n",
       "      <td>Steven</td>\n",
       "      <td>8.25</td>\n",
       "      <td>B</td>\n",
       "      <td>D</td>\n",
       "      <td>F</td>\n",
       "    </tr>\n",
       "    <tr>\n",
       "      <th>4</th>\n",
       "      <td>James</td>\n",
       "      <td>7.30</td>\n",
       "      <td>C</td>\n",
       "      <td>A</td>\n",
       "      <td>F</td>\n",
       "    </tr>\n",
       "    <tr>\n",
       "      <th>5</th>\n",
       "      <td>Emma</td>\n",
       "      <td>7.30</td>\n",
       "      <td>C</td>\n",
       "      <td>B</td>\n",
       "      <td>NaN</td>\n",
       "    </tr>\n",
       "    <tr>\n",
       "      <th>6</th>\n",
       "      <td>David</td>\n",
       "      <td>8.20</td>\n",
       "      <td>B</td>\n",
       "      <td>D</td>\n",
       "      <td>NaN</td>\n",
       "    </tr>\n",
       "  </tbody>\n",
       "</table>\n",
       "</div>"
      ],
      "text/plain": [
       "     name  score level1 level2 level3\n",
       "0   Marry   9.20      A      C      F\n",
       "1   Peter   8.30      B      A      D\n",
       "2    Jhon   6.40    NaN      F      D\n",
       "3  Steven   8.25      B      D      F\n",
       "4   James   7.30      C      A      F\n",
       "5    Emma   7.30      C      B    NaN\n",
       "6   David   8.20      B      D    NaN"
      ]
     },
     "execution_count": 27,
     "metadata": {},
     "output_type": "execute_result"
    }
   ],
   "source": [
    "# 按level1分组进行填充缺失值\n",
    "\n",
    "# 按level1进行分组，计算score的各组均值\n",
    "level_score = missing_data.groupby('level1').agg(avg_score = pd.NamedAgg('score', 'mean'))\n",
    "# 和missing_data做join操作\n",
    "data_filled2 = pd.merge(missing_data, level_score, on='level1', how='left')\n",
    "# 使用where方法将缺失值填充为平均分\n",
    "data_filled2['score'].where(\n",
    "    # 该条件表示的是如果这个score不是NA的，那么就保持原来值\n",
    "    data_filled2['score'].notnull(), \n",
    "    # 如果是NA，则用这个avg_score值来填充\n",
    "    data_filled2['avg_score'], \n",
    "    inplace=True)\n",
    "# 删除临时的avg_score列\n",
    "data_filled2.drop(columns='avg_score', inplace=True)\n",
    "data_filled2"
   ]
  },
  {
   "cell_type": "markdown",
   "metadata": {},
   "source": [
    "除了使用`pandas`库，我们也可以使用`scikit-learn`库中的`SimpleImputer`类。  \n",
    "在实践中，建模前的预处理过程中，这些操作通常都会使用`scikit-learn`库来进行，这是因为无论对测试样本还是新输入的待预测样本，这些样本在训练中是“看不到的”，例如在本例中，我们用均值`score`均值填充`score`缺失值时，用的是当前所有数据，但是在机器学习建模过程中，我们通常会将数据集分为训练集和测试集，这时我们填充的测试集的`score`缺失值应当用的是训练集的均值，而非测试集的`score`均值，因为测试集应当是不可见的（想象一下，我们的模型上线后，数据是一条一条进入系统的，这时，“测试集”只有一条，缺失的话，不存在均值这一说了。）"
   ]
  },
  {
   "cell_type": "markdown",
   "metadata": {},
   "source": [
    "我们接来下实例化两个`SimpleImputer`对象，一个用于填充`score`，另一个用于填充`level1`、`level2`和`level3`。  \n",
    "`sklearn`包中的类大部分有以下两个方法：\n",
    "\n",
    "- `fit`：用于“拟合”数据。这里我们所说的拟合不但是我们通常所说的“拟合”，如拟合线性方程，在这里也指“拟合”数据的均值，“拟合”数据的中位数等，在`sklearn`中，一般`fit`用于训练你想使用这个类达到的变换效果，我们将在建模这一节中做更多的介绍。\n",
    "- `transform`：用于转换数据。\n",
    "\n",
    "有些用于数据变换的方法，例如数据标准化变换（`StandardScaler`）、多项式变化（`PolynomialFeatures`）等，会提供一个`fit_transform`方法，该方法不但可以完成对数据的拟合，同时也完成对数据的变换，使用起来比较方便。"
   ]
  },
  {
   "cell_type": "code",
   "execution_count": 28,
   "metadata": {},
   "outputs": [
    {
     "data": {
      "text/html": [
       "<div>\n",
       "<style scoped>\n",
       "    .dataframe tbody tr th:only-of-type {\n",
       "        vertical-align: middle;\n",
       "    }\n",
       "\n",
       "    .dataframe tbody tr th {\n",
       "        vertical-align: top;\n",
       "    }\n",
       "\n",
       "    .dataframe thead th {\n",
       "        text-align: right;\n",
       "    }\n",
       "</style>\n",
       "<table border=\"1\" class=\"dataframe\">\n",
       "  <thead>\n",
       "    <tr style=\"text-align: right;\">\n",
       "      <th></th>\n",
       "      <th>name</th>\n",
       "      <th>score</th>\n",
       "      <th>level1</th>\n",
       "      <th>level2</th>\n",
       "      <th>level3</th>\n",
       "    </tr>\n",
       "  </thead>\n",
       "  <tbody>\n",
       "    <tr>\n",
       "      <th>0</th>\n",
       "      <td>Marry</td>\n",
       "      <td>9.2</td>\n",
       "      <td>A</td>\n",
       "      <td>C</td>\n",
       "      <td>F</td>\n",
       "    </tr>\n",
       "    <tr>\n",
       "      <th>1</th>\n",
       "      <td>Peter</td>\n",
       "      <td>8.3</td>\n",
       "      <td>B</td>\n",
       "      <td>A</td>\n",
       "      <td>D</td>\n",
       "    </tr>\n",
       "    <tr>\n",
       "      <th>2</th>\n",
       "      <td>Jhon</td>\n",
       "      <td>6.4</td>\n",
       "      <td>B</td>\n",
       "      <td>F</td>\n",
       "      <td>D</td>\n",
       "    </tr>\n",
       "    <tr>\n",
       "      <th>3</th>\n",
       "      <td>Steven</td>\n",
       "      <td>8.2</td>\n",
       "      <td>B</td>\n",
       "      <td>D</td>\n",
       "      <td>F</td>\n",
       "    </tr>\n",
       "    <tr>\n",
       "      <th>4</th>\n",
       "      <td>James</td>\n",
       "      <td>7.3</td>\n",
       "      <td>C</td>\n",
       "      <td>A</td>\n",
       "      <td>F</td>\n",
       "    </tr>\n",
       "    <tr>\n",
       "      <th>5</th>\n",
       "      <td>Emma</td>\n",
       "      <td>8.2</td>\n",
       "      <td>C</td>\n",
       "      <td>B</td>\n",
       "      <td>F</td>\n",
       "    </tr>\n",
       "    <tr>\n",
       "      <th>6</th>\n",
       "      <td>David</td>\n",
       "      <td>8.2</td>\n",
       "      <td>B</td>\n",
       "      <td>D</td>\n",
       "      <td>F</td>\n",
       "    </tr>\n",
       "  </tbody>\n",
       "</table>\n",
       "</div>"
      ],
      "text/plain": [
       "     name  score level1 level2 level3\n",
       "0   Marry    9.2      A      C      F\n",
       "1   Peter    8.3      B      A      D\n",
       "2    Jhon    6.4      B      F      D\n",
       "3  Steven    8.2      B      D      F\n",
       "4   James    7.3      C      A      F\n",
       "5    Emma    8.2      C      B      F\n",
       "6   David    8.2      B      D      F"
      ]
     },
     "execution_count": 28,
     "metadata": {},
     "output_type": "execute_result"
    }
   ],
   "source": [
    "# 使用SimpleImputer类对缺失值进行简单填充\n",
    "\n",
    "from sklearn.impute import SimpleImputer\n",
    "\n",
    "data_filled3 = missing_data.copy()\n",
    "# 实例化一个填充中位数的对象\n",
    "simple_imputer_num = SimpleImputer(strategy='median')\n",
    "# 拟合score并且填充缺失值\n",
    "score_filled = simple_imputer_num.fit_transform(missing_data[['score']])\n",
    "\n",
    "# 实例化一个填充频次最高类别的对象\n",
    "simple_imputer_cat = SimpleImputer(strategy='most_frequent')\n",
    "# 拟合level1、level2和level3并且填充缺失值\n",
    "level_filled = simple_imputer_cat.fit_transform(missing_data[['level1', 'level2', 'level3']])\n",
    "\n",
    "data_filled3['score'] = score_filled\n",
    "data_filled3[['level1', 'level2', 'level3']] = level_filled\n",
    "data_filled3"
   ]
  },
  {
   "cell_type": "markdown",
   "metadata": {},
   "source": [
    "我们可以使用两个已经被拟合过的数据的`SimpleImputer`对象来填充一个新的含有缺失值的数据集"
   ]
  },
  {
   "cell_type": "code",
   "execution_count": 29,
   "metadata": {},
   "outputs": [
    {
     "data": {
      "text/html": [
       "<div>\n",
       "<style scoped>\n",
       "    .dataframe tbody tr th:only-of-type {\n",
       "        vertical-align: middle;\n",
       "    }\n",
       "\n",
       "    .dataframe tbody tr th {\n",
       "        vertical-align: top;\n",
       "    }\n",
       "\n",
       "    .dataframe thead th {\n",
       "        text-align: right;\n",
       "    }\n",
       "</style>\n",
       "<table border=\"1\" class=\"dataframe\">\n",
       "  <thead>\n",
       "    <tr style=\"text-align: right;\">\n",
       "      <th></th>\n",
       "      <th>name</th>\n",
       "      <th>score</th>\n",
       "      <th>level1</th>\n",
       "      <th>level2</th>\n",
       "      <th>level3</th>\n",
       "    </tr>\n",
       "  </thead>\n",
       "  <tbody>\n",
       "    <tr>\n",
       "      <th>0</th>\n",
       "      <td>Richard</td>\n",
       "      <td>8.2</td>\n",
       "      <td>B</td>\n",
       "      <td>B</td>\n",
       "      <td>F</td>\n",
       "    </tr>\n",
       "    <tr>\n",
       "      <th>1</th>\n",
       "      <td>Bob</td>\n",
       "      <td>8.2</td>\n",
       "      <td>A</td>\n",
       "      <td>A</td>\n",
       "      <td>C</td>\n",
       "    </tr>\n",
       "  </tbody>\n",
       "</table>\n",
       "</div>"
      ],
      "text/plain": [
       "      name  score level1 level2 level3\n",
       "0  Richard    8.2      B      B      F\n",
       "1      Bob    8.2      A      A      C"
      ]
     },
     "execution_count": 29,
     "metadata": {},
     "output_type": "execute_result"
    }
   ],
   "source": [
    "# 填充一个新的缺失值数据\n",
    "\n",
    "missing_data2 = pd.DataFrame({\n",
    "    'name': ['Richard', 'Bob'],\n",
    "    'score': [np.nan, np.nan],\n",
    "    'level1': [np.nan, 'A'],\n",
    "    'level2': ['B', np.nan],\n",
    "    'level3': [np.nan, 'C']\n",
    "})\n",
    "\n",
    "filled_score2 = simple_imputer_num.transform(missing_data2[['score']])\n",
    "filled_level2 = simple_imputer_cat.transform(missing_data2[['level1', 'level2', 'level3']])\n",
    "\n",
    "missing_data2['score'] = filled_score2\n",
    "missing_data2[['level1', 'level2', 'level3']] = filled_level2\n",
    "\n",
    "missing_data2"
   ]
  },
  {
   "cell_type": "markdown",
   "metadata": {},
   "source": [
    "### 基于模型填充缺失值"
   ]
  },
  {
   "cell_type": "markdown",
   "metadata": {},
   "source": [
    "基于模型的填充方法是根据其他数据特征建立一个模型来预估这些缺失值。`scikit-learn`中提供了两个基于模型的填充缺值失方法：`IterativeImputer`和`KNNImputer`。`IterativeImputer`是一种通过迭代，不断训练指定模型来填充缺失值的；`KNNImputer`则是通过最近邻算法来填充缺失值的， 如下例中，使用最近邻算法来填充缺失值。"
   ]
  },
  {
   "cell_type": "code",
   "execution_count": 30,
   "metadata": {},
   "outputs": [
    {
     "data": {
      "text/html": [
       "<div>\n",
       "<style scoped>\n",
       "    .dataframe tbody tr th:only-of-type {\n",
       "        vertical-align: middle;\n",
       "    }\n",
       "\n",
       "    .dataframe tbody tr th {\n",
       "        vertical-align: top;\n",
       "    }\n",
       "\n",
       "    .dataframe thead th {\n",
       "        text-align: right;\n",
       "    }\n",
       "</style>\n",
       "<table border=\"1\" class=\"dataframe\">\n",
       "  <thead>\n",
       "    <tr style=\"text-align: right;\">\n",
       "      <th></th>\n",
       "      <th>id</th>\n",
       "      <th>x1</th>\n",
       "      <th>x2</th>\n",
       "      <th>x3</th>\n",
       "      <th>x4</th>\n",
       "    </tr>\n",
       "  </thead>\n",
       "  <tbody>\n",
       "    <tr>\n",
       "      <th>0</th>\n",
       "      <td>1</td>\n",
       "      <td>1.0</td>\n",
       "      <td>3.0</td>\n",
       "      <td>5.5</td>\n",
       "      <td>8.0</td>\n",
       "    </tr>\n",
       "    <tr>\n",
       "      <th>1</th>\n",
       "      <td>2</td>\n",
       "      <td>2.0</td>\n",
       "      <td>4.0</td>\n",
       "      <td>6.0</td>\n",
       "      <td>8.0</td>\n",
       "    </tr>\n",
       "    <tr>\n",
       "      <th>2</th>\n",
       "      <td>3</td>\n",
       "      <td>1.5</td>\n",
       "      <td>3.0</td>\n",
       "      <td>5.0</td>\n",
       "      <td>7.0</td>\n",
       "    </tr>\n",
       "  </tbody>\n",
       "</table>\n",
       "</div>"
      ],
      "text/plain": [
       "   id   x1   x2   x3   x4\n",
       "0   1  1.0  3.0  5.5  8.0\n",
       "1   2  2.0  4.0  6.0  8.0\n",
       "2   3  1.5  3.0  5.0  7.0"
      ]
     },
     "execution_count": 30,
     "metadata": {},
     "output_type": "execute_result"
    }
   ],
   "source": [
    "# 使用最近邻算法填充缺失值\n",
    "\n",
    "missing_data3 = pd.DataFrame({\n",
    "    'id': [1, 2, 3],\n",
    "    'x1': [1, 2, np.nan], \n",
    "    'x2': [3, 4, 3], \n",
    "    'x3': [np.nan, 6, 5], \n",
    "    'x4': [8, 8, 7]\n",
    "})\n",
    "\n",
    "from sklearn.impute import KNNImputer\n",
    "\n",
    "# 实例化一个KNNImputer对象\n",
    "knn_imputer = KNNImputer()\n",
    "# 拟合KNNImputer对象，并且进行填充\n",
    "missing_data3[['x1', 'x2', 'x3', 'x4']] = knn_imputer.fit_transform(missing_data3[['x1', 'x2', 'x3', 'x4']])\n",
    "missing_data3"
   ]
  },
  {
   "cell_type": "markdown",
   "metadata": {},
   "source": [
    "### 在实践中处理缺失值"
   ]
  },
  {
   "cell_type": "markdown",
   "metadata": {},
   "source": [
    "在实践过程中，一般我们先对缺失值的数量、分布等情况进行观察，如果数据量够大的情况，例如10万、100万的样本量，而含有缺失值的条数可能在100条、200条甚至500条以下，这时选择删除具有缺失值的样本可能不失为一种好的选择，因为填充缺失值是一个比较麻烦的过程，需要考虑的也会比较多，去掉很小一部分数据，可能对接下来的建模影响会比较小。有时，对一些类别数据，填充为`unknown`也是个不错的选择，可以将它们视为一种特殊的类别。还有重要的一点，就是对于一些缺失值，更多的可以去和业务方进行探讨，如果能从业务上定位出缺失的原因，那对我们处理这些缺失值也会有很大的帮助。  \n",
    "如何处理这些缺失值没有标准的答案，我们可以对上文中的几种方式进行尝试，从最终的模型评估中找出一个能够达到我们预期效果的方式。"
   ]
  },
  {
   "cell_type": "markdown",
   "metadata": {
    "toc-hr-collapsed": true
   },
   "source": [
    "## 数据特征变换"
   ]
  },
  {
   "cell_type": "markdown",
   "metadata": {},
   "source": [
    "对数据特征进行变换是预处理中重要的部分之一，其主要目的有消除量级带来的影响，例如薪资的量级远大于年龄的量级；类别特征通常无法直接放入模型中进行训练，常用的就是通过One-Hot进行编码；将数值特征进行分组，例如将年龄分为少年、青年、中年和老年等。  \n",
    "对于数值类型的数据常用的变换有z-score标准化（将数据特征变换为均值为0，标准差为1）、min-max标准化（如将数据变换为0到1之间）等；对于类别类型的数据变换主要有One-Hot编码等。    "
   ]
  },
  {
   "cell_type": "markdown",
   "metadata": {},
   "source": [
    "`scikit-learn`库的`preprocessing`模块中有很多的数据特征变方法，主要提供两种变换方式：函数和类。"
   ]
  },
  {
   "cell_type": "markdown",
   "metadata": {},
   "source": [
    "- 函数方式"
   ]
  },
  {
   "cell_type": "code",
   "execution_count": 31,
   "metadata": {},
   "outputs": [
    {
     "data": {
      "text/plain": [
       "array([[-1.46385011],\n",
       "       [-0.87831007],\n",
       "       [-0.29277002],\n",
       "       [ 0.29277002],\n",
       "       [ 0.87831007],\n",
       "       [ 1.46385011]])"
      ]
     },
     "execution_count": 31,
     "metadata": {},
     "output_type": "execute_result"
    }
   ],
   "source": [
    "from sklearn.preprocessing import scale\n",
    "\n",
    "X = np.array([1, 2, 3, 4, 5, 6], dtype=np.float).reshape(-1, 1)\n",
    "\n",
    "X_scaled = scale(X)\n",
    "X_scaled"
   ]
  },
  {
   "cell_type": "markdown",
   "metadata": {},
   "source": [
    "- 类方式"
   ]
  },
  {
   "cell_type": "code",
   "execution_count": 32,
   "metadata": {},
   "outputs": [
    {
     "data": {
      "text/plain": [
       "array([[-1.46385011],\n",
       "       [-0.87831007],\n",
       "       [-0.29277002],\n",
       "       [ 0.29277002],\n",
       "       [ 0.87831007],\n",
       "       [ 1.46385011]])"
      ]
     },
     "execution_count": 32,
     "metadata": {},
     "output_type": "execute_result"
    }
   ],
   "source": [
    "from sklearn.preprocessing import StandardScaler\n",
    "\n",
    "scaler = StandardScaler()\n",
    "X_scaled = scaler.fit_transform(X)\n",
    "X_scaled"
   ]
  },
  {
   "cell_type": "markdown",
   "metadata": {},
   "source": [
    "在建模时，通常会将数据切分为若干个数据集，例如训练集和测试集，使用类的方式可以保存变换的参数，这样，我们可以在训练集上做特征变换，并且保留下特征变换的参数，随后在测试集上的特征使用改参数下的变换，因此，本文主要介绍了使用类的方式"
   ]
  },
  {
   "cell_type": "markdown",
   "metadata": {},
   "source": [
    "与`缺失值处理`小节中提到的一样，这些数据变换类一般会提供以下几个方法\n",
    "\n",
    "- `fit`：估计数据特征的变换参数，例如计算特征的均值和标准差\n",
    "- `fit_transform`：估计数据特征的变换参数，并且同时将输入的数据特征进行变换\n",
    "- `transform`：使用已有的变换参数对数据特征变换\n",
    "- `inverse_transform`：数据特征逆变换，将变换后的数据变回源数据特征\n",
    "\n",
    "`fit_transform`和`transform`是数据特征变换中最常用的2个函数，在建模中，通常通过以下几个步骤来对数据特征做变换\n",
    "1. 定义一个我们需要的数据特征变换类 \n",
    "2. 使用`fit_transform`对训练进行拟合并且做数据特征变换\n",
    "3. 使用`transform`对验证集/测试集进行数据特征变换\n",
    "\n",
    "例如下面的示例"
   ]
  },
  {
   "cell_type": "code",
   "execution_count": 33,
   "metadata": {},
   "outputs": [
    {
     "data": {
      "text/plain": [
       "array([[-1.46385011],\n",
       "       [-0.29277002],\n",
       "       [ 2.6349302 ]])"
      ]
     },
     "execution_count": 33,
     "metadata": {},
     "output_type": "execute_result"
    }
   ],
   "source": [
    "from sklearn.preprocessing import StandardScaler\n",
    "\n",
    "train_data = np.array([1, 2, 3, 4, 5, 6], dtype=np.float).reshape(-1, 1)\n",
    "test_data = np.array([1, 3, 8], dtype=np.float).reshape(-1, 1)\n",
    "\n",
    "# 实例化一个我们需要的数据特征变换类 \n",
    "scaler = StandardScaler()  \n",
    "# 使用`fit_transform`进行拟合并且变换训练集特征\n",
    "train_x = scaler.fit_transform(train_data)  \n",
    "# 使用`transform`对验证集/测试集特征进行变换\n",
    "test_x = scaler.transform(test_data)\n",
    "\n",
    "test_x"
   ]
  },
  {
   "cell_type": "markdown",
   "metadata": {},
   "source": [
    "接下来，我们将主要讨论以下常用的数据变换方法\n",
    "\n",
    "- One-Hot编码\n",
    "- z-score标准化\n",
    "- min-max标准化\n",
    "- Power Transform变换\n",
    "- 多项式变换\n",
    "- 离散化\n",
    "- 二值化\n",
    "\n",
    "我们将先生成一个示例数据，随后展开具体来讨论这些数据变换的方法。"
   ]
  },
  {
   "cell_type": "code",
   "execution_count": 34,
   "metadata": {},
   "outputs": [
    {
     "name": "stdout",
     "output_type": "stream",
     "text": [
      "num columns: Index(['age', 'value', 'contrib'], dtype='object')\n",
      "cat columns: Index(['ugp', 'gender', 'action'], dtype='object')\n"
     ]
    },
    {
     "data": {
      "text/html": [
       "<div>\n",
       "<style scoped>\n",
       "    .dataframe tbody tr th:only-of-type {\n",
       "        vertical-align: middle;\n",
       "    }\n",
       "\n",
       "    .dataframe tbody tr th {\n",
       "        vertical-align: top;\n",
       "    }\n",
       "\n",
       "    .dataframe thead th {\n",
       "        text-align: right;\n",
       "    }\n",
       "</style>\n",
       "<table border=\"1\" class=\"dataframe\">\n",
       "  <thead>\n",
       "    <tr style=\"text-align: right;\">\n",
       "      <th></th>\n",
       "      <th>ugp</th>\n",
       "      <th>gender</th>\n",
       "      <th>age</th>\n",
       "      <th>action</th>\n",
       "      <th>value</th>\n",
       "      <th>contrib</th>\n",
       "    </tr>\n",
       "  </thead>\n",
       "  <tbody>\n",
       "    <tr>\n",
       "      <th>0</th>\n",
       "      <td>B</td>\n",
       "      <td>F</td>\n",
       "      <td>78</td>\n",
       "      <td>win</td>\n",
       "      <td>8.157392</td>\n",
       "      <td>0.965876</td>\n",
       "    </tr>\n",
       "    <tr>\n",
       "      <th>1</th>\n",
       "      <td>B</td>\n",
       "      <td>F</td>\n",
       "      <td>75</td>\n",
       "      <td>lose</td>\n",
       "      <td>9.753521</td>\n",
       "      <td>0.070827</td>\n",
       "    </tr>\n",
       "    <tr>\n",
       "      <th>2</th>\n",
       "      <td>A</td>\n",
       "      <td>F</td>\n",
       "      <td>80</td>\n",
       "      <td>lose</td>\n",
       "      <td>5.270192</td>\n",
       "      <td>0.144961</td>\n",
       "    </tr>\n",
       "    <tr>\n",
       "      <th>3</th>\n",
       "      <td>B</td>\n",
       "      <td>F</td>\n",
       "      <td>51</td>\n",
       "      <td>win</td>\n",
       "      <td>1.229518</td>\n",
       "      <td>0.376224</td>\n",
       "    </tr>\n",
       "    <tr>\n",
       "      <th>4</th>\n",
       "      <td>B</td>\n",
       "      <td>F</td>\n",
       "      <td>10</td>\n",
       "      <td>win</td>\n",
       "      <td>0.431402</td>\n",
       "      <td>0.609285</td>\n",
       "    </tr>\n",
       "  </tbody>\n",
       "</table>\n",
       "</div>"
      ],
      "text/plain": [
       "  ugp gender  age action     value   contrib\n",
       "0   B      F   78    win  8.157392  0.965876\n",
       "1   B      F   75   lose  9.753521  0.070827\n",
       "2   A      F   80   lose  5.270192  0.144961\n",
       "3   B      F   51    win  1.229518  0.376224\n",
       "4   B      F   10    win  0.431402  0.609285"
      ]
     },
     "execution_count": 34,
     "metadata": {},
     "output_type": "execute_result"
    }
   ],
   "source": [
    "# 生成示例数据\n",
    "\n",
    "np.random.seed(1024)\n",
    "# 生成一个200行的示例数据\n",
    "nrows = 200\n",
    "sample_data = pd.DataFrame({'ugp': np.random.choice(['A', 'B', 'C'], nrows),\n",
    "                            'gender': np.random.choice(['M', 'F'], nrows),\n",
    "                            'age': np.random.randint(1, 100, nrows),\n",
    "                            'action': np.random.choice(['win', 'lose', 'draw'], nrows),\n",
    "                            'value': np.random.random(nrows) * 10, \n",
    "                            'contrib': np.random.rand(nrows)})\n",
    "\n",
    "# 数值类型列和类别类型列\n",
    "num_cols = sample_data.select_dtypes(include=np.number).columns\n",
    "cat_cols = sample_data.select_dtypes(include=np.object).columns\n",
    "print('num columns: {}\\ncat columns: {}'.format(num_cols, cat_cols))\n",
    "\n",
    "sample_data.head()"
   ]
  },
  {
   "cell_type": "markdown",
   "metadata": {},
   "source": [
    "### One-Hot编码"
   ]
  },
  {
   "cell_type": "markdown",
   "metadata": {},
   "source": [
    "One-Hot编码是将类别类型的特征，转化为连续值特征，便于模型处理，是类别类型最常用的变换方式。例如我们有个颜色的类别特征，其中有红色、黄色、绿色三种颜色，那么我们可以将其转为三个列，其中第一列为1的样本表示红色，第二列为1的样本表示黄色，第三列为1的样表则表示绿色，这三列中只有一个为1，其余为0。有个细节的地方需要注意，`OneHotEncoder`中有个参数`handle_unknown`，默认为`error`，表示在测试集中遇到新的类别时，会进行报错处理，例如对测试集做变换时，测试集中的颜色出现一个颜色蓝色，这时则会报错，使变换失败，这里我们可以将这个参数设置为`ignore`，这时，样本会以三个0来处理。"
   ]
  },
  {
   "cell_type": "code",
   "execution_count": 35,
   "metadata": {},
   "outputs": [
    {
     "data": {
      "text/html": [
       "<div>\n",
       "<style scoped>\n",
       "    .dataframe tbody tr th:only-of-type {\n",
       "        vertical-align: middle;\n",
       "    }\n",
       "\n",
       "    .dataframe tbody tr th {\n",
       "        vertical-align: top;\n",
       "    }\n",
       "\n",
       "    .dataframe thead th {\n",
       "        text-align: right;\n",
       "    }\n",
       "</style>\n",
       "<table border=\"1\" class=\"dataframe\">\n",
       "  <thead>\n",
       "    <tr style=\"text-align: right;\">\n",
       "      <th></th>\n",
       "      <th>ugp</th>\n",
       "      <th>gender</th>\n",
       "      <th>age</th>\n",
       "      <th>action</th>\n",
       "      <th>value</th>\n",
       "      <th>contrib</th>\n",
       "      <th>draw</th>\n",
       "      <th>lose</th>\n",
       "      <th>win</th>\n",
       "    </tr>\n",
       "  </thead>\n",
       "  <tbody>\n",
       "    <tr>\n",
       "      <th>0</th>\n",
       "      <td>B</td>\n",
       "      <td>F</td>\n",
       "      <td>78</td>\n",
       "      <td>win</td>\n",
       "      <td>8.157392</td>\n",
       "      <td>0.965876</td>\n",
       "      <td>0.0</td>\n",
       "      <td>0.0</td>\n",
       "      <td>1.0</td>\n",
       "    </tr>\n",
       "    <tr>\n",
       "      <th>1</th>\n",
       "      <td>B</td>\n",
       "      <td>F</td>\n",
       "      <td>75</td>\n",
       "      <td>lose</td>\n",
       "      <td>9.753521</td>\n",
       "      <td>0.070827</td>\n",
       "      <td>0.0</td>\n",
       "      <td>1.0</td>\n",
       "      <td>0.0</td>\n",
       "    </tr>\n",
       "    <tr>\n",
       "      <th>2</th>\n",
       "      <td>A</td>\n",
       "      <td>F</td>\n",
       "      <td>80</td>\n",
       "      <td>lose</td>\n",
       "      <td>5.270192</td>\n",
       "      <td>0.144961</td>\n",
       "      <td>0.0</td>\n",
       "      <td>1.0</td>\n",
       "      <td>0.0</td>\n",
       "    </tr>\n",
       "    <tr>\n",
       "      <th>3</th>\n",
       "      <td>B</td>\n",
       "      <td>F</td>\n",
       "      <td>51</td>\n",
       "      <td>win</td>\n",
       "      <td>1.229518</td>\n",
       "      <td>0.376224</td>\n",
       "      <td>0.0</td>\n",
       "      <td>0.0</td>\n",
       "      <td>1.0</td>\n",
       "    </tr>\n",
       "    <tr>\n",
       "      <th>4</th>\n",
       "      <td>B</td>\n",
       "      <td>F</td>\n",
       "      <td>10</td>\n",
       "      <td>win</td>\n",
       "      <td>0.431402</td>\n",
       "      <td>0.609285</td>\n",
       "      <td>0.0</td>\n",
       "      <td>0.0</td>\n",
       "      <td>1.0</td>\n",
       "    </tr>\n",
       "  </tbody>\n",
       "</table>\n",
       "</div>"
      ],
      "text/plain": [
       "  ugp gender  age action     value   contrib  draw  lose  win\n",
       "0   B      F   78    win  8.157392  0.965876   0.0   0.0  1.0\n",
       "1   B      F   75   lose  9.753521  0.070827   0.0   1.0  0.0\n",
       "2   A      F   80   lose  5.270192  0.144961   0.0   1.0  0.0\n",
       "3   B      F   51    win  1.229518  0.376224   0.0   0.0  1.0\n",
       "4   B      F   10    win  0.431402  0.609285   0.0   0.0  1.0"
      ]
     },
     "execution_count": 35,
     "metadata": {},
     "output_type": "execute_result"
    }
   ],
   "source": [
    "# 将action转为one-hot编码\n",
    "\n",
    "from sklearn.preprocessing import OneHotEncoder\n",
    "\n",
    "oh_data = sample_data.copy()\n",
    "\n",
    "ohe = OneHotEncoder(sparse=False)\n",
    "action = ohe.fit_transform(oh_data[['action']])\n",
    "oh_data = oh_data.assign(\n",
    "    **{ohe.categories_[0][0]: action[:, 0], \n",
    "       ohe.categories_[0][1]: action[:, 1], \n",
    "       ohe.categories_[0][2]: action[:, 2]})\n",
    "oh_data.head()"
   ]
  },
  {
   "cell_type": "markdown",
   "metadata": {},
   "source": [
    "### z-score标准化"
   ]
  },
  {
   "cell_type": "markdown",
   "metadata": {},
   "source": [
    "z-score标准化的主要作用是将数值变换为均值为0，标准差为1，这样做的目的是可以消除各特征间由于量级带来的影响，同时消除过大或者过小的数值，在模型训练中寻找最优解时，能够加快收敛速度。  \n",
    "z-score标准化的计算公式为\n",
    "\n",
    "\\begin{equation}\n",
    "x' = \\frac{x - \\mu}{\\sigma}\n",
    "\\end{equation}\n",
    "\n",
    "其中$\\mu$为特征列的均值，$\\sigma$为特征列的标准差。我们可以使用`StandardScaler`来做z-score标准化。"
   ]
  },
  {
   "cell_type": "code",
   "execution_count": 36,
   "metadata": {},
   "outputs": [
    {
     "name": "stdout",
     "output_type": "stream",
     "text": [
      "原始数据均值: [50.235       4.83627502  0.50114111], 标准差: [28.04888189  2.83124904  0.30170574]\n",
      "变换后数据的均值: [ 4.44089210e-18  6.21724894e-17 -2.70894418e-16], 标准差: [1. 1. 1.]\n"
     ]
    },
    {
     "data": {
      "text/html": [
       "<div>\n",
       "<style scoped>\n",
       "    .dataframe tbody tr th:only-of-type {\n",
       "        vertical-align: middle;\n",
       "    }\n",
       "\n",
       "    .dataframe tbody tr th {\n",
       "        vertical-align: top;\n",
       "    }\n",
       "\n",
       "    .dataframe thead th {\n",
       "        text-align: right;\n",
       "    }\n",
       "</style>\n",
       "<table border=\"1\" class=\"dataframe\">\n",
       "  <thead>\n",
       "    <tr style=\"text-align: right;\">\n",
       "      <th></th>\n",
       "      <th>ugp</th>\n",
       "      <th>gender</th>\n",
       "      <th>age</th>\n",
       "      <th>action</th>\n",
       "      <th>value</th>\n",
       "      <th>contrib</th>\n",
       "    </tr>\n",
       "  </thead>\n",
       "  <tbody>\n",
       "    <tr>\n",
       "      <th>0</th>\n",
       "      <td>B</td>\n",
       "      <td>F</td>\n",
       "      <td>0.989879</td>\n",
       "      <td>win</td>\n",
       "      <td>1.173022</td>\n",
       "      <td>1.540360</td>\n",
       "    </tr>\n",
       "    <tr>\n",
       "      <th>1</th>\n",
       "      <td>B</td>\n",
       "      <td>F</td>\n",
       "      <td>0.882923</td>\n",
       "      <td>lose</td>\n",
       "      <td>1.736776</td>\n",
       "      <td>-1.426271</td>\n",
       "    </tr>\n",
       "    <tr>\n",
       "      <th>2</th>\n",
       "      <td>A</td>\n",
       "      <td>F</td>\n",
       "      <td>1.061183</td>\n",
       "      <td>lose</td>\n",
       "      <td>0.153260</td>\n",
       "      <td>-1.180556</td>\n",
       "    </tr>\n",
       "    <tr>\n",
       "      <th>3</th>\n",
       "      <td>B</td>\n",
       "      <td>F</td>\n",
       "      <td>0.027274</td>\n",
       "      <td>win</td>\n",
       "      <td>-1.273910</td>\n",
       "      <td>-0.414035</td>\n",
       "    </tr>\n",
       "    <tr>\n",
       "      <th>4</th>\n",
       "      <td>B</td>\n",
       "      <td>F</td>\n",
       "      <td>-1.434460</td>\n",
       "      <td>win</td>\n",
       "      <td>-1.555805</td>\n",
       "      <td>0.358441</td>\n",
       "    </tr>\n",
       "  </tbody>\n",
       "</table>\n",
       "</div>"
      ],
      "text/plain": [
       "  ugp gender       age action     value   contrib\n",
       "0   B      F  0.989879    win  1.173022  1.540360\n",
       "1   B      F  0.882923   lose  1.736776 -1.426271\n",
       "2   A      F  1.061183   lose  0.153260 -1.180556\n",
       "3   B      F  0.027274    win -1.273910 -0.414035\n",
       "4   B      F -1.434460    win -1.555805  0.358441"
      ]
     },
     "execution_count": 36,
     "metadata": {},
     "output_type": "execute_result"
    }
   ],
   "source": [
    "# z-score标准化\n",
    "\n",
    "from sklearn.preprocessing import StandardScaler\n",
    "\n",
    "z_score_data = sample_data.copy()\n",
    "\n",
    "scaler = StandardScaler()\n",
    "scaled_data = scaler.fit_transform(z_score_data[num_cols])\n",
    "print('原始数据均值: {}, 标准差: {}'.format(scaler.mean_, scaler.scale_))\n",
    "print('变换后数据的均值: {}, 标准差: {}'.format((scaled_data.mean(axis=0)), scaled_data.std(axis=0)))\n",
    "z_score_data[num_cols] = scaled_data\n",
    "z_score_data.head()"
   ]
  },
  {
   "cell_type": "markdown",
   "metadata": {},
   "source": [
    "变换后的数据均值并不是完全为0，这是由于精度造成的。  \n",
    "我们可以调用`inverse_transform`来实现数据特征逆变换"
   ]
  },
  {
   "cell_type": "code",
   "execution_count": 37,
   "metadata": {},
   "outputs": [
    {
     "data": {
      "text/html": [
       "<div>\n",
       "<style scoped>\n",
       "    .dataframe tbody tr th:only-of-type {\n",
       "        vertical-align: middle;\n",
       "    }\n",
       "\n",
       "    .dataframe tbody tr th {\n",
       "        vertical-align: top;\n",
       "    }\n",
       "\n",
       "    .dataframe thead th {\n",
       "        text-align: right;\n",
       "    }\n",
       "</style>\n",
       "<table border=\"1\" class=\"dataframe\">\n",
       "  <thead>\n",
       "    <tr style=\"text-align: right;\">\n",
       "      <th></th>\n",
       "      <th>ugp</th>\n",
       "      <th>gender</th>\n",
       "      <th>age</th>\n",
       "      <th>action</th>\n",
       "      <th>value</th>\n",
       "      <th>contrib</th>\n",
       "    </tr>\n",
       "  </thead>\n",
       "  <tbody>\n",
       "    <tr>\n",
       "      <th>0</th>\n",
       "      <td>B</td>\n",
       "      <td>F</td>\n",
       "      <td>78.0</td>\n",
       "      <td>win</td>\n",
       "      <td>8.157392</td>\n",
       "      <td>0.965876</td>\n",
       "    </tr>\n",
       "    <tr>\n",
       "      <th>1</th>\n",
       "      <td>B</td>\n",
       "      <td>F</td>\n",
       "      <td>75.0</td>\n",
       "      <td>lose</td>\n",
       "      <td>9.753521</td>\n",
       "      <td>0.070827</td>\n",
       "    </tr>\n",
       "    <tr>\n",
       "      <th>2</th>\n",
       "      <td>A</td>\n",
       "      <td>F</td>\n",
       "      <td>80.0</td>\n",
       "      <td>lose</td>\n",
       "      <td>5.270192</td>\n",
       "      <td>0.144961</td>\n",
       "    </tr>\n",
       "    <tr>\n",
       "      <th>3</th>\n",
       "      <td>B</td>\n",
       "      <td>F</td>\n",
       "      <td>51.0</td>\n",
       "      <td>win</td>\n",
       "      <td>1.229518</td>\n",
       "      <td>0.376224</td>\n",
       "    </tr>\n",
       "    <tr>\n",
       "      <th>4</th>\n",
       "      <td>B</td>\n",
       "      <td>F</td>\n",
       "      <td>10.0</td>\n",
       "      <td>win</td>\n",
       "      <td>0.431402</td>\n",
       "      <td>0.609285</td>\n",
       "    </tr>\n",
       "  </tbody>\n",
       "</table>\n",
       "</div>"
      ],
      "text/plain": [
       "  ugp gender   age action     value   contrib\n",
       "0   B      F  78.0    win  8.157392  0.965876\n",
       "1   B      F  75.0   lose  9.753521  0.070827\n",
       "2   A      F  80.0   lose  5.270192  0.144961\n",
       "3   B      F  51.0    win  1.229518  0.376224\n",
       "4   B      F  10.0    win  0.431402  0.609285"
      ]
     },
     "execution_count": 37,
     "metadata": {},
     "output_type": "execute_result"
    }
   ],
   "source": [
    "raw_data = scaler.inverse_transform(scaled_data)\n",
    "z_score_data[num_cols] = raw_data\n",
    "z_score_data.head()"
   ]
  },
  {
   "cell_type": "markdown",
   "metadata": {},
   "source": [
    "### min-max标准化"
   ]
  },
  {
   "cell_type": "markdown",
   "metadata": {},
   "source": [
    "min-max标准化也是我们常用变换方法，其目的与z-score标准化差不多，使用起来区别有时也不是很大。  \n",
    "min-max标准化的计算公式是\n",
    "\n",
    "\\begin{equation}\n",
    "x' = \\frac{x - min(x)}{max(x) - min(x)}\n",
    "\\end{equation}\n",
    "\n",
    "我们可以使用`MinMaxScaler`类来做min-max标准化，其默认的范围为`[0, 1]`，可以通过参数`feature_range`进行设置。  "
   ]
  },
  {
   "cell_type": "code",
   "execution_count": 38,
   "metadata": {},
   "outputs": [
    {
     "name": "stdout",
     "output_type": "stream",
     "text": [
      "各列最大值: [1. 1. 1.], 最小值: [0. 0. 0.]\n"
     ]
    },
    {
     "data": {
      "text/html": [
       "<div>\n",
       "<style scoped>\n",
       "    .dataframe tbody tr th:only-of-type {\n",
       "        vertical-align: middle;\n",
       "    }\n",
       "\n",
       "    .dataframe tbody tr th {\n",
       "        vertical-align: top;\n",
       "    }\n",
       "\n",
       "    .dataframe thead th {\n",
       "        text-align: right;\n",
       "    }\n",
       "</style>\n",
       "<table border=\"1\" class=\"dataframe\">\n",
       "  <thead>\n",
       "    <tr style=\"text-align: right;\">\n",
       "      <th></th>\n",
       "      <th>ugp</th>\n",
       "      <th>gender</th>\n",
       "      <th>age</th>\n",
       "      <th>action</th>\n",
       "      <th>value</th>\n",
       "      <th>contrib</th>\n",
       "    </tr>\n",
       "  </thead>\n",
       "  <tbody>\n",
       "    <tr>\n",
       "      <th>0</th>\n",
       "      <td>B</td>\n",
       "      <td>F</td>\n",
       "      <td>0.785714</td>\n",
       "      <td>win</td>\n",
       "      <td>0.820856</td>\n",
       "      <td>0.969404</td>\n",
       "    </tr>\n",
       "    <tr>\n",
       "      <th>1</th>\n",
       "      <td>B</td>\n",
       "      <td>F</td>\n",
       "      <td>0.755102</td>\n",
       "      <td>lose</td>\n",
       "      <td>0.982523</td>\n",
       "      <td>0.064094</td>\n",
       "    </tr>\n",
       "    <tr>\n",
       "      <th>2</th>\n",
       "      <td>A</td>\n",
       "      <td>F</td>\n",
       "      <td>0.806122</td>\n",
       "      <td>lose</td>\n",
       "      <td>0.528420</td>\n",
       "      <td>0.139078</td>\n",
       "    </tr>\n",
       "    <tr>\n",
       "      <th>3</th>\n",
       "      <td>B</td>\n",
       "      <td>F</td>\n",
       "      <td>0.510204</td>\n",
       "      <td>win</td>\n",
       "      <td>0.119153</td>\n",
       "      <td>0.372993</td>\n",
       "    </tr>\n",
       "    <tr>\n",
       "      <th>4</th>\n",
       "      <td>B</td>\n",
       "      <td>F</td>\n",
       "      <td>0.091837</td>\n",
       "      <td>win</td>\n",
       "      <td>0.038314</td>\n",
       "      <td>0.608725</td>\n",
       "    </tr>\n",
       "  </tbody>\n",
       "</table>\n",
       "</div>"
      ],
      "text/plain": [
       "  ugp gender       age action     value   contrib\n",
       "0   B      F  0.785714    win  0.820856  0.969404\n",
       "1   B      F  0.755102   lose  0.982523  0.064094\n",
       "2   A      F  0.806122   lose  0.528420  0.139078\n",
       "3   B      F  0.510204    win  0.119153  0.372993\n",
       "4   B      F  0.091837    win  0.038314  0.608725"
      ]
     },
     "execution_count": 38,
     "metadata": {},
     "output_type": "execute_result"
    }
   ],
   "source": [
    "# min-max标准化\n",
    "\n",
    "from sklearn.preprocessing import MinMaxScaler\n",
    "\n",
    "min_max_data = sample_data.copy()\n",
    "\n",
    "scaler = MinMaxScaler()\n",
    "scaled_data = scaler.fit_transform(min_max_data[num_cols])\n",
    "print('各列最大值: {}, 最小值: {}'.format(scaled_data.max(axis=0), scaled_data.min(axis=0)))\n",
    "\n",
    "min_max_data[num_cols] = scaled_data\n",
    "min_max_data.head()"
   ]
  },
  {
   "cell_type": "markdown",
   "metadata": {},
   "source": [
    "### Power Transform变换"
   ]
  },
  {
   "cell_type": "markdown",
   "metadata": {},
   "source": [
    "Power Transform变换主要作用是使数据变得像正态分布，如Box-Cox变换。  \n",
    "`PowerTransformer`类提供了`yeo-johnson`(*默认方法*)和`box-cox`两种方法。下列中我们对`age`特征做Box-Cox变换。"
   ]
  },
  {
   "cell_type": "code",
   "execution_count": 39,
   "metadata": {},
   "outputs": [
    {
     "data": {
      "text/html": [
       "<div>\n",
       "<style scoped>\n",
       "    .dataframe tbody tr th:only-of-type {\n",
       "        vertical-align: middle;\n",
       "    }\n",
       "\n",
       "    .dataframe tbody tr th {\n",
       "        vertical-align: top;\n",
       "    }\n",
       "\n",
       "    .dataframe thead th {\n",
       "        text-align: right;\n",
       "    }\n",
       "</style>\n",
       "<table border=\"1\" class=\"dataframe\">\n",
       "  <thead>\n",
       "    <tr style=\"text-align: right;\">\n",
       "      <th></th>\n",
       "      <th>ugp</th>\n",
       "      <th>gender</th>\n",
       "      <th>age</th>\n",
       "      <th>action</th>\n",
       "      <th>value</th>\n",
       "      <th>contrib</th>\n",
       "    </tr>\n",
       "  </thead>\n",
       "  <tbody>\n",
       "    <tr>\n",
       "      <th>0</th>\n",
       "      <td>B</td>\n",
       "      <td>F</td>\n",
       "      <td>0.969453</td>\n",
       "      <td>win</td>\n",
       "      <td>8.157392</td>\n",
       "      <td>0.965876</td>\n",
       "    </tr>\n",
       "    <tr>\n",
       "      <th>1</th>\n",
       "      <td>B</td>\n",
       "      <td>F</td>\n",
       "      <td>0.877874</td>\n",
       "      <td>lose</td>\n",
       "      <td>9.753521</td>\n",
       "      <td>0.070827</td>\n",
       "    </tr>\n",
       "    <tr>\n",
       "      <th>2</th>\n",
       "      <td>A</td>\n",
       "      <td>F</td>\n",
       "      <td>1.030020</td>\n",
       "      <td>lose</td>\n",
       "      <td>5.270192</td>\n",
       "      <td>0.144961</td>\n",
       "    </tr>\n",
       "    <tr>\n",
       "      <th>3</th>\n",
       "      <td>B</td>\n",
       "      <td>F</td>\n",
       "      <td>0.107586</td>\n",
       "      <td>win</td>\n",
       "      <td>1.229518</td>\n",
       "      <td>0.376224</td>\n",
       "    </tr>\n",
       "    <tr>\n",
       "      <th>4</th>\n",
       "      <td>B</td>\n",
       "      <td>F</td>\n",
       "      <td>-1.510014</td>\n",
       "      <td>win</td>\n",
       "      <td>0.431402</td>\n",
       "      <td>0.609285</td>\n",
       "    </tr>\n",
       "  </tbody>\n",
       "</table>\n",
       "</div>"
      ],
      "text/plain": [
       "  ugp gender       age action     value   contrib\n",
       "0   B      F  0.969453    win  8.157392  0.965876\n",
       "1   B      F  0.877874   lose  9.753521  0.070827\n",
       "2   A      F  1.030020   lose  5.270192  0.144961\n",
       "3   B      F  0.107586    win  1.229518  0.376224\n",
       "4   B      F -1.510014    win  0.431402  0.609285"
      ]
     },
     "execution_count": 39,
     "metadata": {},
     "output_type": "execute_result"
    }
   ],
   "source": [
    "# Box-Cox变换\n",
    "\n",
    "from sklearn.preprocessing import PowerTransformer\n",
    "\n",
    "power_transformer_data = sample_data.copy()\n",
    "\n",
    "transformer = PowerTransformer('box-cox')\n",
    "power_transformer_data[['age']] = transformer.fit_transform(power_transformer_data[['age']])\n",
    "power_transformer_data.head()"
   ]
  },
  {
   "cell_type": "markdown",
   "metadata": {},
   "source": [
    "### 多项式变换"
   ]
  },
  {
   "cell_type": "markdown",
   "metadata": {},
   "source": [
    "多项式变换可以增加一些额外多项式的特征，例如我们可以加入一个年龄平方的特征，两个特征间的交互项等。  \n",
    "`PolynomialFeatures`类提供了多项式变换的方法，其参数中`degree`表示需要几次的多项式，默认为`2`，例如`x1`, `x2`两个feature进行多项式变换`[x0, x1]` -> `[1, x0, x1, x0^2, x0x1, x1^2]`。在实践中，一般情况下，很少会用到3次及3次以上的多项式变换。还有2个常用的参数是`interaction_only`和`include_bias`。`interaction_only`表示在2个及2个以上特征时，是否只需要交互项；`include_bias`表示是否需要截距项，也就是`1`。  "
   ]
  },
  {
   "cell_type": "code",
   "execution_count": 40,
   "metadata": {},
   "outputs": [
    {
     "data": {
      "text/html": [
       "<div>\n",
       "<style scoped>\n",
       "    .dataframe tbody tr th:only-of-type {\n",
       "        vertical-align: middle;\n",
       "    }\n",
       "\n",
       "    .dataframe tbody tr th {\n",
       "        vertical-align: top;\n",
       "    }\n",
       "\n",
       "    .dataframe thead th {\n",
       "        text-align: right;\n",
       "    }\n",
       "</style>\n",
       "<table border=\"1\" class=\"dataframe\">\n",
       "  <thead>\n",
       "    <tr style=\"text-align: right;\">\n",
       "      <th></th>\n",
       "      <th>ugp</th>\n",
       "      <th>gender</th>\n",
       "      <th>age</th>\n",
       "      <th>action</th>\n",
       "      <th>value</th>\n",
       "      <th>contrib</th>\n",
       "      <th>age2</th>\n",
       "    </tr>\n",
       "  </thead>\n",
       "  <tbody>\n",
       "    <tr>\n",
       "      <th>0</th>\n",
       "      <td>B</td>\n",
       "      <td>F</td>\n",
       "      <td>78</td>\n",
       "      <td>win</td>\n",
       "      <td>8.157392</td>\n",
       "      <td>0.965876</td>\n",
       "      <td>6084.0</td>\n",
       "    </tr>\n",
       "    <tr>\n",
       "      <th>1</th>\n",
       "      <td>B</td>\n",
       "      <td>F</td>\n",
       "      <td>75</td>\n",
       "      <td>lose</td>\n",
       "      <td>9.753521</td>\n",
       "      <td>0.070827</td>\n",
       "      <td>5625.0</td>\n",
       "    </tr>\n",
       "    <tr>\n",
       "      <th>2</th>\n",
       "      <td>A</td>\n",
       "      <td>F</td>\n",
       "      <td>80</td>\n",
       "      <td>lose</td>\n",
       "      <td>5.270192</td>\n",
       "      <td>0.144961</td>\n",
       "      <td>6400.0</td>\n",
       "    </tr>\n",
       "    <tr>\n",
       "      <th>3</th>\n",
       "      <td>B</td>\n",
       "      <td>F</td>\n",
       "      <td>51</td>\n",
       "      <td>win</td>\n",
       "      <td>1.229518</td>\n",
       "      <td>0.376224</td>\n",
       "      <td>2601.0</td>\n",
       "    </tr>\n",
       "    <tr>\n",
       "      <th>4</th>\n",
       "      <td>B</td>\n",
       "      <td>F</td>\n",
       "      <td>10</td>\n",
       "      <td>win</td>\n",
       "      <td>0.431402</td>\n",
       "      <td>0.609285</td>\n",
       "      <td>100.0</td>\n",
       "    </tr>\n",
       "  </tbody>\n",
       "</table>\n",
       "</div>"
      ],
      "text/plain": [
       "  ugp gender  age action     value   contrib    age2\n",
       "0   B      F   78    win  8.157392  0.965876  6084.0\n",
       "1   B      F   75   lose  9.753521  0.070827  5625.0\n",
       "2   A      F   80   lose  5.270192  0.144961  6400.0\n",
       "3   B      F   51    win  1.229518  0.376224  2601.0\n",
       "4   B      F   10    win  0.431402  0.609285   100.0"
      ]
     },
     "execution_count": 40,
     "metadata": {},
     "output_type": "execute_result"
    }
   ],
   "source": [
    "# 生成一个age平方的特征\n",
    "\n",
    "from sklearn.preprocessing import PolynomialFeatures\n",
    "\n",
    "poly_data = sample_data.copy()\n",
    "\n",
    "poly = PolynomialFeatures(2, include_bias=False)\n",
    "poly2_data = poly.fit_transform(poly_data[['age']])\n",
    "poly_data['age2'] = poly2_data[:, 1]\n",
    "poly_data.head()"
   ]
  },
  {
   "cell_type": "code",
   "execution_count": 41,
   "metadata": {},
   "outputs": [
    {
     "data": {
      "text/html": [
       "<div>\n",
       "<style scoped>\n",
       "    .dataframe tbody tr th:only-of-type {\n",
       "        vertical-align: middle;\n",
       "    }\n",
       "\n",
       "    .dataframe tbody tr th {\n",
       "        vertical-align: top;\n",
       "    }\n",
       "\n",
       "    .dataframe thead th {\n",
       "        text-align: right;\n",
       "    }\n",
       "</style>\n",
       "<table border=\"1\" class=\"dataframe\">\n",
       "  <thead>\n",
       "    <tr style=\"text-align: right;\">\n",
       "      <th></th>\n",
       "      <th>ugp</th>\n",
       "      <th>gender</th>\n",
       "      <th>age</th>\n",
       "      <th>action</th>\n",
       "      <th>value</th>\n",
       "      <th>contrib</th>\n",
       "      <th>age_value</th>\n",
       "    </tr>\n",
       "  </thead>\n",
       "  <tbody>\n",
       "    <tr>\n",
       "      <th>0</th>\n",
       "      <td>B</td>\n",
       "      <td>F</td>\n",
       "      <td>78</td>\n",
       "      <td>win</td>\n",
       "      <td>8.157392</td>\n",
       "      <td>0.965876</td>\n",
       "      <td>636.276545</td>\n",
       "    </tr>\n",
       "    <tr>\n",
       "      <th>1</th>\n",
       "      <td>B</td>\n",
       "      <td>F</td>\n",
       "      <td>75</td>\n",
       "      <td>lose</td>\n",
       "      <td>9.753521</td>\n",
       "      <td>0.070827</td>\n",
       "      <td>731.514071</td>\n",
       "    </tr>\n",
       "    <tr>\n",
       "      <th>2</th>\n",
       "      <td>A</td>\n",
       "      <td>F</td>\n",
       "      <td>80</td>\n",
       "      <td>lose</td>\n",
       "      <td>5.270192</td>\n",
       "      <td>0.144961</td>\n",
       "      <td>421.615375</td>\n",
       "    </tr>\n",
       "    <tr>\n",
       "      <th>3</th>\n",
       "      <td>B</td>\n",
       "      <td>F</td>\n",
       "      <td>51</td>\n",
       "      <td>win</td>\n",
       "      <td>1.229518</td>\n",
       "      <td>0.376224</td>\n",
       "      <td>62.705398</td>\n",
       "    </tr>\n",
       "    <tr>\n",
       "      <th>4</th>\n",
       "      <td>B</td>\n",
       "      <td>F</td>\n",
       "      <td>10</td>\n",
       "      <td>win</td>\n",
       "      <td>0.431402</td>\n",
       "      <td>0.609285</td>\n",
       "      <td>4.314024</td>\n",
       "    </tr>\n",
       "  </tbody>\n",
       "</table>\n",
       "</div>"
      ],
      "text/plain": [
       "  ugp gender  age action     value   contrib   age_value\n",
       "0   B      F   78    win  8.157392  0.965876  636.276545\n",
       "1   B      F   75   lose  9.753521  0.070827  731.514071\n",
       "2   A      F   80   lose  5.270192  0.144961  421.615375\n",
       "3   B      F   51    win  1.229518  0.376224   62.705398\n",
       "4   B      F   10    win  0.431402  0.609285    4.314024"
      ]
     },
     "execution_count": 41,
     "metadata": {},
     "output_type": "execute_result"
    }
   ],
   "source": [
    "# 生成一个age与value的交互项\n",
    "\n",
    "poly_data = sample_data.copy()\n",
    "\n",
    "poly = PolynomialFeatures(2, interaction_only=True, include_bias=False)\n",
    "poly2_data = poly.fit_transform(sample_data[['age', 'value']])\n",
    "poly_data['age_value'] = poly2_data[:, 2]\n",
    "poly_data.head()"
   ]
  },
  {
   "cell_type": "markdown",
   "metadata": {},
   "source": [
    "### 离散化"
   ]
  },
  {
   "cell_type": "markdown",
   "metadata": {},
   "source": [
    "离散化是将数值类型转化成类别类型，例如将得分分为A、B、C、D、F五个等级，也叫做封箱。这样做有几个优点\n",
    "\n",
    "- 离散的特征增加和减少都很容易，例如调节`bin`的个数，易于模型的快速迭代；\n",
    "- 对异常数据有很强的鲁棒性，例如大部分样本的年龄大的岁数在80岁左右，如果有一个年龄为100岁的样本，那么可能会模型会起到很大的干扰，这时可以将其离散化成`老年`。\n",
    "- 特征离散化后，可以使得模型会为稳定，同样是年龄的例子，例如34岁和35岁都划入30-40岁的箱中，34岁和35岁之间差的1岁可能差异非常小，当然如何进行划分是非常关键。\n",
    "- 在模型中，单个数值特征只有一个参数，往往表达能力有限；而将其离散化后，每个新特征有单独的参数，相当于在模型中引入了非线性的变化，能够提升模型的表达能力，从而提升模型效果。\n",
    "\n",
    "`KBinsDiscretizer`类提供了离散化的方法，它提供了3个可调整的参数\n",
    "\n",
    "- `n_bins`：将数据离散化为`n_bins`个，默认为`5`\n",
    "- `encode`：编码方式，我们一般会选择One-Hot编码，其提供了2中方式，`onehot`和`onehot-dense`，分别表示稀疏和稠密的编码方式，默认是稀疏的方式，但是稀疏的方式有时不容易处理，我们有时候会使用`onehot-dense`进行处理。  \n",
    "- `strategy`：离散化策略，`KBinsDiscretizer`提供了3种策略\n",
    "    - `uniform`：等宽的切分方式\n",
    "    - `quantile`：等数量的切分方式，即每个`bin`中具有相同的样本数\n",
    "    - `kmeans`：使用一维的K-Means聚类"
   ]
  },
  {
   "cell_type": "code",
   "execution_count": 42,
   "metadata": {},
   "outputs": [
    {
     "name": "stdout",
     "output_type": "stream",
     "text": [
      "封箱的边界值: [array([ 1.  , 26.  , 51.  , 72.25, 99.  ])]\n"
     ]
    },
    {
     "data": {
      "text/html": [
       "<div>\n",
       "<style scoped>\n",
       "    .dataframe tbody tr th:only-of-type {\n",
       "        vertical-align: middle;\n",
       "    }\n",
       "\n",
       "    .dataframe tbody tr th {\n",
       "        vertical-align: top;\n",
       "    }\n",
       "\n",
       "    .dataframe thead th {\n",
       "        text-align: right;\n",
       "    }\n",
       "</style>\n",
       "<table border=\"1\" class=\"dataframe\">\n",
       "  <thead>\n",
       "    <tr style=\"text-align: right;\">\n",
       "      <th></th>\n",
       "      <th>ugp</th>\n",
       "      <th>gender</th>\n",
       "      <th>age</th>\n",
       "      <th>action</th>\n",
       "      <th>value</th>\n",
       "      <th>contrib</th>\n",
       "      <th>age1</th>\n",
       "      <th>age2</th>\n",
       "      <th>age3</th>\n",
       "      <th>age4</th>\n",
       "    </tr>\n",
       "  </thead>\n",
       "  <tbody>\n",
       "    <tr>\n",
       "      <th>0</th>\n",
       "      <td>B</td>\n",
       "      <td>F</td>\n",
       "      <td>78</td>\n",
       "      <td>win</td>\n",
       "      <td>8.157392</td>\n",
       "      <td>0.965876</td>\n",
       "      <td>0.0</td>\n",
       "      <td>0.0</td>\n",
       "      <td>0.0</td>\n",
       "      <td>1.0</td>\n",
       "    </tr>\n",
       "    <tr>\n",
       "      <th>1</th>\n",
       "      <td>B</td>\n",
       "      <td>F</td>\n",
       "      <td>75</td>\n",
       "      <td>lose</td>\n",
       "      <td>9.753521</td>\n",
       "      <td>0.070827</td>\n",
       "      <td>0.0</td>\n",
       "      <td>0.0</td>\n",
       "      <td>0.0</td>\n",
       "      <td>1.0</td>\n",
       "    </tr>\n",
       "    <tr>\n",
       "      <th>2</th>\n",
       "      <td>A</td>\n",
       "      <td>F</td>\n",
       "      <td>80</td>\n",
       "      <td>lose</td>\n",
       "      <td>5.270192</td>\n",
       "      <td>0.144961</td>\n",
       "      <td>0.0</td>\n",
       "      <td>0.0</td>\n",
       "      <td>0.0</td>\n",
       "      <td>1.0</td>\n",
       "    </tr>\n",
       "    <tr>\n",
       "      <th>3</th>\n",
       "      <td>B</td>\n",
       "      <td>F</td>\n",
       "      <td>51</td>\n",
       "      <td>win</td>\n",
       "      <td>1.229518</td>\n",
       "      <td>0.376224</td>\n",
       "      <td>0.0</td>\n",
       "      <td>0.0</td>\n",
       "      <td>1.0</td>\n",
       "      <td>0.0</td>\n",
       "    </tr>\n",
       "    <tr>\n",
       "      <th>4</th>\n",
       "      <td>B</td>\n",
       "      <td>F</td>\n",
       "      <td>10</td>\n",
       "      <td>win</td>\n",
       "      <td>0.431402</td>\n",
       "      <td>0.609285</td>\n",
       "      <td>1.0</td>\n",
       "      <td>0.0</td>\n",
       "      <td>0.0</td>\n",
       "      <td>0.0</td>\n",
       "    </tr>\n",
       "  </tbody>\n",
       "</table>\n",
       "</div>"
      ],
      "text/plain": [
       "  ugp gender  age action     value   contrib  age1  age2  age3  age4\n",
       "0   B      F   78    win  8.157392  0.965876   0.0   0.0   0.0   1.0\n",
       "1   B      F   75   lose  9.753521  0.070827   0.0   0.0   0.0   1.0\n",
       "2   A      F   80   lose  5.270192  0.144961   0.0   0.0   0.0   1.0\n",
       "3   B      F   51    win  1.229518  0.376224   0.0   0.0   1.0   0.0\n",
       "4   B      F   10    win  0.431402  0.609285   1.0   0.0   0.0   0.0"
      ]
     },
     "execution_count": 42,
     "metadata": {},
     "output_type": "execute_result"
    }
   ],
   "source": [
    "from sklearn.preprocessing import KBinsDiscretizer\n",
    "\n",
    "discretizer_data = sample_data.copy()\n",
    "\n",
    "# 我们将年龄切分为4个年龄段，使用默认的等数量的切分方式\n",
    "discretizer = KBinsDiscretizer(n_bins=4, encode='onehot-dense')\n",
    "age_stage = discretizer.fit_transform(discretizer_data[['age']])\n",
    "print('封箱的边界值: {}'.format(discretizer.bin_edges_))\n",
    "# 将年龄划分为年龄段\n",
    "discretizer_data = discretizer_data.assign(age1=age_stage[:, 0], \n",
    "                                           age2=age_stage[:, 1], \n",
    "                                           age3=age_stage[:, 2], \n",
    "                                           age4=age_stage[:, 3])\n",
    "discretizer_data.head()"
   ]
  },
  {
   "cell_type": "markdown",
   "metadata": {},
   "source": [
    "我们也可以自己来定义切分点，特别是在有一定业务领域知识的情况下，自定义切分点是比较常见的，而不是根据一些统计量或者算法来进行切分。例如我们将年龄划分为3段，18岁以下，18 ~ 60岁和60岁及以上。我们可以使用`pandas`库中的`cut`方法。`cut`方法的`bins`参数传入`list`类型时，可以设定切分点，这里有个需要注意的是，当我们需要切分出多少以下时，可用`-np.inf`即负无穷来表示，以上用`np.inf`正无穷来表示。"
   ]
  },
  {
   "cell_type": "code",
   "execution_count": 43,
   "metadata": {},
   "outputs": [
    {
     "data": {
      "text/html": [
       "<div>\n",
       "<style scoped>\n",
       "    .dataframe tbody tr th:only-of-type {\n",
       "        vertical-align: middle;\n",
       "    }\n",
       "\n",
       "    .dataframe tbody tr th {\n",
       "        vertical-align: top;\n",
       "    }\n",
       "\n",
       "    .dataframe thead th {\n",
       "        text-align: right;\n",
       "    }\n",
       "</style>\n",
       "<table border=\"1\" class=\"dataframe\">\n",
       "  <thead>\n",
       "    <tr style=\"text-align: right;\">\n",
       "      <th></th>\n",
       "      <th>ugp</th>\n",
       "      <th>gender</th>\n",
       "      <th>age</th>\n",
       "      <th>action</th>\n",
       "      <th>value</th>\n",
       "      <th>contrib</th>\n",
       "      <th>age_stage</th>\n",
       "      <th>[-inf, 18.0)</th>\n",
       "      <th>[18.0, 60.0)</th>\n",
       "      <th>[60.0, inf)</th>\n",
       "    </tr>\n",
       "  </thead>\n",
       "  <tbody>\n",
       "    <tr>\n",
       "      <th>0</th>\n",
       "      <td>B</td>\n",
       "      <td>F</td>\n",
       "      <td>78</td>\n",
       "      <td>win</td>\n",
       "      <td>8.157392</td>\n",
       "      <td>0.965876</td>\n",
       "      <td>[60.0, inf)</td>\n",
       "      <td>0.0</td>\n",
       "      <td>0.0</td>\n",
       "      <td>1.0</td>\n",
       "    </tr>\n",
       "    <tr>\n",
       "      <th>1</th>\n",
       "      <td>B</td>\n",
       "      <td>F</td>\n",
       "      <td>75</td>\n",
       "      <td>lose</td>\n",
       "      <td>9.753521</td>\n",
       "      <td>0.070827</td>\n",
       "      <td>[60.0, inf)</td>\n",
       "      <td>0.0</td>\n",
       "      <td>0.0</td>\n",
       "      <td>1.0</td>\n",
       "    </tr>\n",
       "    <tr>\n",
       "      <th>2</th>\n",
       "      <td>A</td>\n",
       "      <td>F</td>\n",
       "      <td>80</td>\n",
       "      <td>lose</td>\n",
       "      <td>5.270192</td>\n",
       "      <td>0.144961</td>\n",
       "      <td>[60.0, inf)</td>\n",
       "      <td>0.0</td>\n",
       "      <td>0.0</td>\n",
       "      <td>1.0</td>\n",
       "    </tr>\n",
       "    <tr>\n",
       "      <th>3</th>\n",
       "      <td>B</td>\n",
       "      <td>F</td>\n",
       "      <td>51</td>\n",
       "      <td>win</td>\n",
       "      <td>1.229518</td>\n",
       "      <td>0.376224</td>\n",
       "      <td>[18.0, 60.0)</td>\n",
       "      <td>0.0</td>\n",
       "      <td>1.0</td>\n",
       "      <td>0.0</td>\n",
       "    </tr>\n",
       "    <tr>\n",
       "      <th>4</th>\n",
       "      <td>B</td>\n",
       "      <td>F</td>\n",
       "      <td>10</td>\n",
       "      <td>win</td>\n",
       "      <td>0.431402</td>\n",
       "      <td>0.609285</td>\n",
       "      <td>[-inf, 18.0)</td>\n",
       "      <td>1.0</td>\n",
       "      <td>0.0</td>\n",
       "      <td>0.0</td>\n",
       "    </tr>\n",
       "  </tbody>\n",
       "</table>\n",
       "</div>"
      ],
      "text/plain": [
       "  ugp gender  age action     value   contrib     age_stage  [-inf, 18.0)  \\\n",
       "0   B      F   78    win  8.157392  0.965876   [60.0, inf)           0.0   \n",
       "1   B      F   75   lose  9.753521  0.070827   [60.0, inf)           0.0   \n",
       "2   A      F   80   lose  5.270192  0.144961   [60.0, inf)           0.0   \n",
       "3   B      F   51    win  1.229518  0.376224  [18.0, 60.0)           0.0   \n",
       "4   B      F   10    win  0.431402  0.609285  [-inf, 18.0)           1.0   \n",
       "\n",
       "   [18.0, 60.0)  [60.0, inf)  \n",
       "0           0.0          1.0  \n",
       "1           0.0          1.0  \n",
       "2           0.0          1.0  \n",
       "3           1.0          0.0  \n",
       "4           0.0          0.0  "
      ]
     },
     "execution_count": 43,
     "metadata": {},
     "output_type": "execute_result"
    }
   ],
   "source": [
    "# 自定义切分年龄的方式\n",
    "discretizer_data2 = sample_data.copy()\n",
    "\n",
    "discretizer_data2['age_stage'] = pd.cut(discretizer_data2['age'], [-np.inf, 18, 60, np.inf], right=False)\n",
    "# 在对age_stage做One-Hot编码\n",
    "ohe = OneHotEncoder(sparse=False)\n",
    "age_stage = ohe.fit_transform(discretizer_data2[['age_stage']])\n",
    "discretizer_data2 = discretizer_data2.assign(\n",
    "    **{str(ohe.categories_[0][0]): age_stage[:, 0], \n",
    "       str(ohe.categories_[0][1]): age_stage[:, 1], \n",
    "       str(ohe.categories_[0][2]): age_stage[:, 2]})\n",
    "discretizer_data2.head()"
   ]
  },
  {
   "cell_type": "markdown",
   "metadata": {},
   "source": [
    "### 二值化"
   ]
  },
  {
   "cell_type": "markdown",
   "metadata": {},
   "source": [
    "二值化是通过设定一个阈值，当数值大于阈值时为1，小于等于阈值时为0。  \n",
    "`Binarizer`类提供了二值化的方法，可以通过设置`threshold`参数对数值特征做二值化，默认的`threshold`为`0`。"
   ]
  },
  {
   "cell_type": "code",
   "execution_count": 44,
   "metadata": {},
   "outputs": [
    {
     "data": {
      "text/html": [
       "<div>\n",
       "<style scoped>\n",
       "    .dataframe tbody tr th:only-of-type {\n",
       "        vertical-align: middle;\n",
       "    }\n",
       "\n",
       "    .dataframe tbody tr th {\n",
       "        vertical-align: top;\n",
       "    }\n",
       "\n",
       "    .dataframe thead th {\n",
       "        text-align: right;\n",
       "    }\n",
       "</style>\n",
       "<table border=\"1\" class=\"dataframe\">\n",
       "  <thead>\n",
       "    <tr style=\"text-align: right;\">\n",
       "      <th></th>\n",
       "      <th>ugp</th>\n",
       "      <th>gender</th>\n",
       "      <th>age</th>\n",
       "      <th>action</th>\n",
       "      <th>value</th>\n",
       "      <th>contrib</th>\n",
       "    </tr>\n",
       "  </thead>\n",
       "  <tbody>\n",
       "    <tr>\n",
       "      <th>0</th>\n",
       "      <td>B</td>\n",
       "      <td>F</td>\n",
       "      <td>78</td>\n",
       "      <td>win</td>\n",
       "      <td>8.157392</td>\n",
       "      <td>1.0</td>\n",
       "    </tr>\n",
       "    <tr>\n",
       "      <th>1</th>\n",
       "      <td>B</td>\n",
       "      <td>F</td>\n",
       "      <td>75</td>\n",
       "      <td>lose</td>\n",
       "      <td>9.753521</td>\n",
       "      <td>0.0</td>\n",
       "    </tr>\n",
       "    <tr>\n",
       "      <th>2</th>\n",
       "      <td>A</td>\n",
       "      <td>F</td>\n",
       "      <td>80</td>\n",
       "      <td>lose</td>\n",
       "      <td>5.270192</td>\n",
       "      <td>0.0</td>\n",
       "    </tr>\n",
       "    <tr>\n",
       "      <th>3</th>\n",
       "      <td>B</td>\n",
       "      <td>F</td>\n",
       "      <td>51</td>\n",
       "      <td>win</td>\n",
       "      <td>1.229518</td>\n",
       "      <td>0.0</td>\n",
       "    </tr>\n",
       "    <tr>\n",
       "      <th>4</th>\n",
       "      <td>B</td>\n",
       "      <td>F</td>\n",
       "      <td>10</td>\n",
       "      <td>win</td>\n",
       "      <td>0.431402</td>\n",
       "      <td>1.0</td>\n",
       "    </tr>\n",
       "  </tbody>\n",
       "</table>\n",
       "</div>"
      ],
      "text/plain": [
       "  ugp gender  age action     value  contrib\n",
       "0   B      F   78    win  8.157392      1.0\n",
       "1   B      F   75   lose  9.753521      0.0\n",
       "2   A      F   80   lose  5.270192      0.0\n",
       "3   B      F   51    win  1.229518      0.0\n",
       "4   B      F   10    win  0.431402      1.0"
      ]
     },
     "execution_count": 44,
     "metadata": {},
     "output_type": "execute_result"
    }
   ],
   "source": [
    "# 对contrib列做二值化\n",
    "\n",
    "from sklearn.preprocessing import Binarizer\n",
    "\n",
    "binarizer_data = sample_data.copy()\n",
    "\n",
    "# 按0.5的阈值进行二值化\n",
    "binarizer = Binarizer(threshold=0.5)\n",
    "binarizer_data['contrib'] = binarizer.fit_transform(binarizer_data[['contrib']])\n",
    "binarizer_data.head()"
   ]
  },
  {
   "cell_type": "markdown",
   "metadata": {},
   "source": [
    "### 正规化"
   ]
  },
  {
   "cell_type": "markdown",
   "metadata": {},
   "source": [
    "正规化（Normalization）的作用是将每个样本进行按正规化方式进行缩放，例如`[1, 3, 6]`，`L1 Normalization`的结果为`[0.1, 0.3, 0.6]`  \n",
    "`scikit-learn`库中提供了`Normalization`类来处理正规化，`Normalization`提供了三种Normalization方法  \n",
    "\n",
    "- `l1`: L1 Normalization，即x1 + x2 + .. + xn = 1\n",
    "- `l2`: L2 Normalization，即sqrt(x1^2 + x2^2 + ... + xn^2) = 1\n",
    "- `max`: Max Normalization，每个值除以该样本中的最大值\n",
    "\n",
    "默认为`l2`，可以通过参数`norm`进行设置"
   ]
  },
  {
   "cell_type": "code",
   "execution_count": 45,
   "metadata": {},
   "outputs": [
    {
     "name": "stdout",
     "output_type": "stream",
     "text": [
      "after L2 Normalization:\n",
      " [[0.07784989 0.23354968 0.38924947 0.54494926 0.70064905]\n",
      " [0.13483997 0.26967994 0.40451992 0.53935989 0.67419986]]\n",
      "sqrt(x1^2 + x2^2 + ... + xn^2): [1. 1.]\n"
     ]
    }
   ],
   "source": [
    "from sklearn.preprocessing import Normalizer\n",
    "\n",
    "x = np.array([[1, 3, 5, 7, 9], \n",
    "              [2, 4, 6, 8, 10]])\n",
    "# 默认为L2 Normalization\n",
    "norm = Normalizer()\n",
    "x_norm = norm.fit_transform(x)\n",
    "print('after L2 Normalization:\\n {}'.format(x_norm))\n",
    "print('sqrt(x1^2 + x2^2 + ... + xn^2): {}'.format(np.sqrt(np.sum(np.square(x_norm), axis=1))))"
   ]
  },
  {
   "cell_type": "code",
   "execution_count": 46,
   "metadata": {},
   "outputs": [
    {
     "data": {
      "text/plain": [
       "array([[0.11111111, 0.33333333, 0.55555556, 0.77777778, 1.        ],\n",
       "       [0.2       , 0.4       , 0.6       , 0.8       , 1.        ]])"
      ]
     },
     "execution_count": 46,
     "metadata": {},
     "output_type": "execute_result"
    }
   ],
   "source": [
    "norm2 = Normalizer('max')\n",
    "norm2.fit_transform(x)"
   ]
  },
  {
   "cell_type": "markdown",
   "metadata": {},
   "source": [
    "### 对多个数据特征同时使用不同变换"
   ]
  },
  {
   "cell_type": "markdown",
   "metadata": {},
   "source": [
    "通常待处理的数据集同时包含着很多不同类型的数据特征，如示例数据中，ugp、gender等属于分类型特征，age、value属于数值型特征。并且我们常常也需要对特征做不同的变换，如对value做标准化（z-score），对age做离散化。  \n",
    "这时，我们可以使用`sklearn.compose`模块中`ColumnTransformer`类来同时对不同的特征做不同的特征变换。  \n",
    "假设我们的任务是对数据集做切分，将数据集分为训练集和测试集，然后对数据集做预处理，其中，对分类型特征（`ugp`、`gender`、`action`）做One-Hot编码；对`value`、`contrib`做z-score标准化；对`age`特征做离散化。"
   ]
  },
  {
   "cell_type": "code",
   "execution_count": 47,
   "metadata": {},
   "outputs": [
    {
     "data": {
      "text/plain": [
       "((160, 6), (40, 6))"
      ]
     },
     "execution_count": 47,
     "metadata": {},
     "output_type": "execute_result"
    }
   ],
   "source": [
    "# 对数据集进行切分\n",
    "\n",
    "from sklearn.model_selection import train_test_split\n",
    "\n",
    "train_set, test_set = train_test_split(sample_data, test_size=0.2, random_state=1024)\n",
    "train_set.shape, test_set.shape"
   ]
  },
  {
   "cell_type": "code",
   "execution_count": 48,
   "metadata": {},
   "outputs": [
    {
     "data": {
      "text/plain": [
       "array([[ 0.        ,  1.        ,  0.        ,  0.        ,  1.        ,\n",
       "         1.        ,  0.        ,  0.        ,  1.8970891 , -1.03284421,\n",
       "         0.        ,  1.        ,  0.        ,  0.        ,  0.        ],\n",
       "       [ 0.        ,  0.        ,  1.        ,  1.        ,  0.        ,\n",
       "         0.        ,  1.        ,  0.        , -0.99567651, -1.29956032,\n",
       "         0.        ,  0.        ,  0.        ,  1.        ,  0.        ],\n",
       "       [ 0.        ,  1.        ,  0.        ,  1.        ,  0.        ,\n",
       "         0.        ,  1.        ,  0.        , -0.6639812 ,  0.5349277 ,\n",
       "         0.        ,  0.        ,  0.        ,  0.        ,  1.        ],\n",
       "       [ 1.        ,  0.        ,  0.        ,  1.        ,  0.        ,\n",
       "         0.        ,  1.        ,  0.        ,  1.01874784,  0.7246262 ,\n",
       "         0.        ,  0.        ,  1.        ,  0.        ,  0.        ],\n",
       "       [ 0.        ,  1.        ,  0.        ,  1.        ,  0.        ,\n",
       "         0.        ,  1.        ,  0.        ,  0.86582134, -1.47314707,\n",
       "         0.        ,  0.        ,  0.        ,  0.        ,  1.        ]])"
      ]
     },
     "execution_count": 48,
     "metadata": {},
     "output_type": "execute_result"
    }
   ],
   "source": [
    "# 训练我们的变换器\n",
    "\n",
    "from sklearn.compose import ColumnTransformer\n",
    "\n",
    "ct = ColumnTransformer(\n",
    "    [\n",
    "        # 对类别型数据做One-Hot编码\n",
    "        ('onehot', OneHotEncoder(), ['ugp', 'gender', 'action']),\n",
    "        # 对除了数值类型做标准化\n",
    "        ('scale', StandardScaler(), ['value', 'contrib']),\n",
    "        # 对age字段做离散化，转化为5个类别\n",
    "        ('discretizer', KBinsDiscretizer(n_bins=5), ['age'])\n",
    "    ]\n",
    ")\n",
    "\n",
    "train_transformed = ct.fit_transform(train_set)\n",
    "train_transformed[:5, :]"
   ]
  },
  {
   "cell_type": "code",
   "execution_count": 49,
   "metadata": {},
   "outputs": [
    {
     "data": {
      "text/plain": [
       "array([[ 0.        ,  1.        ,  0.        ,  1.        ,  0.        ,\n",
       "         0.        ,  0.        ,  1.        ,  1.39421109,  0.0576381 ,\n",
       "         0.        ,  1.        ,  0.        ,  0.        ,  0.        ],\n",
       "       [ 0.        ,  0.        ,  1.        ,  0.        ,  1.        ,\n",
       "         0.        ,  1.        ,  0.        , -0.88362597, -1.38860189,\n",
       "         0.        ,  0.        ,  1.        ,  0.        ,  0.        ],\n",
       "       [ 0.        ,  0.        ,  1.        ,  0.        ,  1.        ,\n",
       "         1.        ,  0.        ,  0.        ,  1.03111308,  0.74271576,\n",
       "         0.        ,  0.        ,  1.        ,  0.        ,  0.        ],\n",
       "       [ 0.        ,  0.        ,  1.        ,  0.        ,  1.        ,\n",
       "         0.        ,  1.        ,  0.        ,  0.5713016 ,  0.02969698,\n",
       "         0.        ,  0.        ,  1.        ,  0.        ,  0.        ],\n",
       "       [ 1.        ,  0.        ,  0.        ,  1.        ,  0.        ,\n",
       "         0.        ,  1.        ,  0.        ,  0.24054121, -1.15947425,\n",
       "         0.        ,  0.        ,  0.        ,  0.        ,  1.        ]])"
      ]
     },
     "execution_count": 49,
     "metadata": {},
     "output_type": "execute_result"
    }
   ],
   "source": [
    "# 对测试集进行数据变换\n",
    "\n",
    "test_transformed = ct.transform(test_set)\n",
    "test_transformed[:5, :]"
   ]
  },
  {
   "cell_type": "markdown",
   "metadata": {
    "toc-hr-collapsed": true
   },
   "source": [
    "## 降维"
   ]
  },
  {
   "cell_type": "markdown",
   "metadata": {},
   "source": [
    "降维是特征处理的常见的方式之一，其目标是减少特征维度。常见的降维算法有`PCA`、`t-SNE`等。  \n",
    "下面我们使用`scikit-learn`中的`PCA`算法来实现降维，我们可以设置`n_components`参数来控制降维后维度。"
   ]
  },
  {
   "cell_type": "code",
   "execution_count": 50,
   "metadata": {},
   "outputs": [
    {
     "data": {
      "text/plain": [
       "array([[-4.90625465e+02, -3.24815083e+00, -7.89640975e+00],\n",
       "       [ 4.01841644e+03,  1.55262604e+01, -1.25455037e+01],\n",
       "       [-4.09624725e+02, -3.23663349e+00, -1.65964233e+00],\n",
       "       ...,\n",
       "       [-1.49627744e+02, -8.63440816e-02,  6.73374448e+00],\n",
       "       [-4.01164650e+03, -1.29431402e+01,  6.79208040e-01],\n",
       "       [-4.44163364e+03, -7.35391106e+00, -5.92340427e+00]])"
      ]
     },
     "execution_count": 50,
     "metadata": {},
     "output_type": "execute_result"
    }
   ],
   "source": [
    "from sklearn.decomposition import PCA\n",
    "\n",
    "pca = PCA(n_components=3)\n",
    "\n",
    "pca_result = pca.fit_transform(data.select_dtypes(include=np.number))\n",
    "pca_result"
   ]
  },
  {
   "cell_type": "markdown",
   "metadata": {
    "toc-hr-collapsed": true
   },
   "source": [
    "## Landing"
   ]
  },
  {
   "cell_type": "markdown",
   "metadata": {},
   "source": [
    "本章的`Landing`我们将对员工辞职数据进行预处理。  \n",
    "我们可以将预处理分为3个部分：\n",
    "\n",
    "- 读取数据\n",
    "- 删除ID列和不需要的列\n",
    "- 进行数据变换：对训练集进行训练并且变换，测试集进行变换"
   ]
  },
  {
   "cell_type": "markdown",
   "metadata": {},
   "source": [
    "首先，我们在`__init__`方法中，对待转为str类型的列、id列和待去掉的列进行定义，我们也可以将这些作为参数，这样，我们可以在初始化时对这些列进行定义。`__init__`方法中，我们还定义了一个变换器`column_transformer`，当进行训练时，则对变换器进行实例化，并且进行训练；当进行变换时，则我们先判断测试器是否已经实例化过了，然后使用变换器对数据进行变换。"
   ]
  },
  {
   "cell_type": "code",
   "execution_count": 51,
   "metadata": {},
   "outputs": [],
   "source": [
    "class Preprocessor:\n",
    "    def __init__(self):\n",
    "        # 待转为str类型的列\n",
    "        self.to_str_cols = ['Education', 'JobSatisfaction']\n",
    "        # id列\n",
    "        self.id_col = 'EmployeeNumber'\n",
    "        # 待去掉的列\n",
    "        self.to_rm_cols = ['StandardHours', 'Over18']\n",
    "        # 变换器\n",
    "        self.column_transformer = None\n",
    "    ..."
   ]
  },
  {
   "cell_type": "markdown",
   "metadata": {},
   "source": [
    "接下来我们开始定义读取方法。而读取数据集只是将调用了一个`read_excel`方法，为什么要将读取数据作为一个单独的方法呢？这也是基于模块化的思想，假如我们改成了从数据库中进度读取，那么这时我们只需要修改这个`load_data`方法即可，而不会影响接下来的其他方法。  \n",
    "在读取数据后，我们将有缺失值的样本做简单处理，直接去除；将一些等级特征转换成`string`类型。"
   ]
  },
  {
   "cell_type": "code",
   "execution_count": 52,
   "metadata": {},
   "outputs": [],
   "source": [
    "class Preprocessor:\n",
    "    ...\n",
    "    def load_data(self, file_path):\n",
    "            \"\"\"\n",
    "            读取数据\n",
    "            :param file_path: 文件路径\n",
    "            :return:\n",
    "            \"\"\"\n",
    "            # 读取数据集\n",
    "            data = pd.read_excel(file_path)\n",
    "            # 将有缺失值的样本去除\n",
    "            data = data.dropna()\n",
    "            print('data shape@{}'.format(data.shape))\n",
    "            # 将转为str类型\n",
    "            data[self.to_str_cols] = data[self.to_str_cols].astype(str)\n",
    "            return data\n",
    "    ..."
   ]
  },
  {
   "cell_type": "markdown",
   "metadata": {},
   "source": [
    "在读取了数据后，我们可以开始处理。将删除ID列和不需要的列抽象出一个`remove_columns`的方法。"
   ]
  },
  {
   "cell_type": "code",
   "execution_count": 53,
   "metadata": {},
   "outputs": [],
   "source": [
    "class Preprocessor:\n",
    "    ...\n",
    "    def remove_columns(self, data):\n",
    "        \"\"\"\n",
    "        去掉可以删除的列\n",
    "        :param data: 数据\n",
    "        :return:\n",
    "        \"\"\"\n",
    "        # 删除ID列\n",
    "        data = data.drop(columns=self.id_col)\n",
    "        # 删除StandardHours和Over18这两列\n",
    "        data = data.drop(columns=self.to_rm_cols)\n",
    "\n",
    "        return data\n",
    "    ..."
   ]
  },
  {
   "cell_type": "markdown",
   "metadata": {},
   "source": [
    "然后我们定义2个方法：一个是训练方法，训练我们在`__init__`中定义的`column_transformer`，并且使用其进行数据转换；另一个是使用训练后的`column_transform`进去数据变换。"
   ]
  },
  {
   "cell_type": "code",
   "execution_count": 54,
   "metadata": {},
   "outputs": [],
   "source": [
    "class Preprocessor:\n",
    "    ...\n",
    "    def transform_train(self, train_data):\n",
    "        \"\"\"\n",
    "        变换训练集\n",
    "        :param train_data: 训练集\n",
    "        :return:\n",
    "        \"\"\"\n",
    "        # 数值类型的特征\n",
    "        num_cols = train_data.select_dtypes(include=np.number).columns.tolist()\n",
    "        # 去掉年龄特征\n",
    "        num_cols.remove('Age')\n",
    "        # 类别类型的特征\n",
    "        cat_cols = train_data.select_dtypes(include=np.object).columns.tolist()\n",
    "\n",
    "        self.column_transformer = ColumnTransformer(\n",
    "            [\n",
    "                # 对类别型数据做One-Hot编码\n",
    "                ('one-hot', OneHotEncoder(), cat_cols),\n",
    "                # 对除了数值类型做标准化\n",
    "                ('scale', StandardScaler(), num_cols),\n",
    "                # 对age字段做离散化，转化为5个类别\n",
    "                ('discretizer', KBinsDiscretizer(n_bins=5), ['Age'])\n",
    "            ]\n",
    "        )\n",
    "\n",
    "        return self.column_transformer.fit_transform(train_data)\n",
    "\n",
    "    def transform_test(self, test_data):\n",
    "        \"\"\"\n",
    "        变换测试集\n",
    "        :param test_data: 测试集\n",
    "        :return:\n",
    "        \"\"\"\n",
    "        if self.column_transformer is None:\n",
    "            print('column transformer is None!')\n",
    "            return\n",
    "\n",
    "        return self.column_transformer.transform(test_data)\n",
    "    ..."
   ]
  },
  {
   "cell_type": "markdown",
   "metadata": {},
   "source": [
    "同时，我们可以实现保存和读取这些变换器的方法。"
   ]
  },
  {
   "cell_type": "code",
   "execution_count": 55,
   "metadata": {},
   "outputs": [],
   "source": [
    "class Preprocessor:\n",
    "    ...\n",
    "    def save_transformer(self, file_path):\n",
    "        \"\"\"\n",
    "        保存变换器\n",
    "        :param file_path: 变换器路径\n",
    "        :return:\n",
    "        \"\"\"\n",
    "        if self.column_transformer is None:\n",
    "            print('column transformer is None!')\n",
    "            return\n",
    "\n",
    "        with open(file_path, 'wb') as f:\n",
    "            pickle.dump(self.column_transformer, f)\n",
    "\n",
    "    def load_transformer(self, file_path):\n",
    "        \"\"\"\n",
    "        读取变换器\n",
    "        :param file_path: 变换器路径\n",
    "        :return:\n",
    "        \"\"\"\n",
    "        with open(file_path, 'rb') as f:\n",
    "            self.column_transformer = pickle.load(f)\n",
    "    ..."
   ]
  },
  {
   "cell_type": "markdown",
   "metadata": {},
   "source": [
    "最后我们将这些组件方法放进一个方法，定义一个`train_or_test`的参数，当该参数为`0`时，进行变换器训练；为`1`时，则使用变换器进行数据变换。"
   ]
  },
  {
   "cell_type": "code",
   "execution_count": 56,
   "metadata": {},
   "outputs": [],
   "source": [
    "class Preprocessor:\n",
    "    ...\n",
    "    def preprocess_data(self, file_path, train_or_test=0):\n",
    "        \"\"\"\n",
    "        预处理数据集\n",
    "        :param file_path: 文件路径\n",
    "        :param train_or_test: 训练或者测试：0 - 训练，1 - 测试\n",
    "        :return:\n",
    "        \"\"\"\n",
    "        data = self.load_data(file_path)\n",
    "        data = self.remove_columns(data)\n",
    "        if train_or_test == 0:\n",
    "            return self.transform_train(data)\n",
    "        return self.transform_test(data)"
   ]
  },
  {
   "cell_type": "markdown",
   "metadata": {},
   "source": [
    "我们可以使用这个预处理类来做对员工辞职数据集做预处理\n",
    "\n",
    "~~~python\n",
    "preprocessor = Preprocessor()\n",
    "\n",
    "# 预处理训练集\n",
    "train_data = preprocessor.preprocess_data('pfm_data_train.xlsx')\n",
    "# 保存变换器\n",
    "preprocessor.save_transformer('pfm_preprocessor.pickle')\n",
    "\n",
    "...\n",
    "\n",
    "# 读取变换器\n",
    "preprocessor.load_transformer('pfm_preprocessor.pickle')\n",
    "# 预处理测试集\n",
    "test_data = preprocessor.preprocess_data('pfm_data_test.xlsx', train_or_test=1)\n",
    "\n",
    "...\n",
    "~~~"
   ]
  },
  {
   "cell_type": "markdown",
   "metadata": {},
   "source": [
    "具体的代码实现可以参考code/chp2/preprocessing.py"
   ]
  },
  {
   "cell_type": "markdown",
   "metadata": {},
   "source": [
    "## 小结"
   ]
  },
  {
   "cell_type": "markdown",
   "metadata": {},
   "source": [
    "本章主要讨论了数据预处理的一些问题，包括理解业务背景、预览数据，缺失值处理、数据特征变换和降维等内容。  \n",
    "`Landing`小节中，我们以预处理员工辞职数据集为例，将预处理相关技术应用于实际中。"
   ]
  },
  {
   "cell_type": "code",
   "execution_count": null,
   "metadata": {},
   "outputs": [],
   "source": []
  }
 ],
 "metadata": {
  "kernelspec": {
   "display_name": "Python 3",
   "language": "python",
   "name": "python3"
  },
  "language_info": {
   "codemirror_mode": {
    "name": "ipython",
    "version": 3
   },
   "file_extension": ".py",
   "mimetype": "text/x-python",
   "name": "python",
   "nbconvert_exporter": "python",
   "pygments_lexer": "ipython3",
   "version": "3.6.3"
  },
  "toc-autonumbering": false,
  "toc-showmarkdowntxt": true
 },
 "nbformat": 4,
 "nbformat_minor": 4
}
